{
 "cells": [
  {
   "cell_type": "code",
   "execution_count": 1,
   "metadata": {},
   "outputs": [],
   "source": [
    "import pandas as pd\n",
    "import numpy as np\n",
    "\n",
    "import math as math\n",
    "import matplotlib.pyplot as plt\n",
    "import matplotlib.gridspec as gridspec\n",
    "%matplotlib inline\n",
    "import seaborn as sns"
   ]
  },
  {
   "cell_type": "markdown",
   "metadata": {},
   "source": [
    "### Part 1. Import and Understand Data"
   ]
  },
  {
   "cell_type": "code",
   "execution_count": 2,
   "metadata": {},
   "outputs": [
    {
     "name": "stderr",
     "output_type": "stream",
     "text": [
      "/Users/xrli/opt/anaconda3/lib/python3.8/site-packages/IPython/core/interactiveshell.py:3071: DtypeWarning: Columns (39,71,104) have mixed types.Specify dtype option on import or set low_memory=False.\n",
      "  has_raised = await self.run_ast_nodes(code_ast.body, cell_name,\n"
     ]
    }
   ],
   "source": [
    "df=pd.read_csv(\"loan_2016.csv\")"
   ]
  },
  {
   "cell_type": "code",
   "execution_count": 3,
   "metadata": {},
   "outputs": [
    {
     "data": {
      "text/plain": [
       "(434415, 108)"
      ]
     },
     "execution_count": 3,
     "metadata": {},
     "output_type": "execute_result"
    }
   ],
   "source": [
    "df.shape"
   ]
  },
  {
   "cell_type": "code",
   "execution_count": 4,
   "metadata": {},
   "outputs": [
    {
     "data": {
      "text/html": [
       "<div>\n",
       "<style scoped>\n",
       "    .dataframe tbody tr th:only-of-type {\n",
       "        vertical-align: middle;\n",
       "    }\n",
       "\n",
       "    .dataframe tbody tr th {\n",
       "        vertical-align: top;\n",
       "    }\n",
       "\n",
       "    .dataframe thead th {\n",
       "        text-align: right;\n",
       "    }\n",
       "</style>\n",
       "<table border=\"1\" class=\"dataframe\">\n",
       "  <thead>\n",
       "    <tr style=\"text-align: right;\">\n",
       "      <th></th>\n",
       "      <th>inqlast12m</th>\n",
       "      <th>earliestcrline</th>\n",
       "      <th>secappficorangehigh</th>\n",
       "      <th>numactvrevtl</th>\n",
       "      <th>totcurbal</th>\n",
       "      <th>maxbalbc</th>\n",
       "      <th>mosinoldrevtlop</th>\n",
       "      <th>annualincjoint</th>\n",
       "      <th>term</th>\n",
       "      <th>verificationstatus</th>\n",
       "      <th>...</th>\n",
       "      <th>delinqamnt</th>\n",
       "      <th>emplength</th>\n",
       "      <th>numrevtlbalgt0</th>\n",
       "      <th>numiltl</th>\n",
       "      <th>totalbclimit</th>\n",
       "      <th>ficorangehigh</th>\n",
       "      <th>verificationstatusjoint</th>\n",
       "      <th>totalacc</th>\n",
       "      <th>issued</th>\n",
       "      <th>loanstatus</th>\n",
       "    </tr>\n",
       "  </thead>\n",
       "  <tbody>\n",
       "    <tr>\n",
       "      <th>0</th>\n",
       "      <td>2.0</td>\n",
       "      <td>Mar-2002</td>\n",
       "      <td>NaN</td>\n",
       "      <td>4.0</td>\n",
       "      <td>221036.0</td>\n",
       "      <td>3381.0</td>\n",
       "      <td>168.0</td>\n",
       "      <td>NaN</td>\n",
       "      <td>36 months</td>\n",
       "      <td>Verified</td>\n",
       "      <td>...</td>\n",
       "      <td>0.0</td>\n",
       "      <td>6 years</td>\n",
       "      <td>4.0</td>\n",
       "      <td>7.0</td>\n",
       "      <td>7900.0</td>\n",
       "      <td>669.0</td>\n",
       "      <td>NaN</td>\n",
       "      <td>16.0</td>\n",
       "      <td>Mar-2016</td>\n",
       "      <td>Fully Paid</td>\n",
       "    </tr>\n",
       "    <tr>\n",
       "      <th>1</th>\n",
       "      <td>2.0</td>\n",
       "      <td>Nov-1999</td>\n",
       "      <td>NaN</td>\n",
       "      <td>5.0</td>\n",
       "      <td>52953.0</td>\n",
       "      <td>3789.0</td>\n",
       "      <td>196.0</td>\n",
       "      <td>NaN</td>\n",
       "      <td>36 months</td>\n",
       "      <td>Source Verified</td>\n",
       "      <td>...</td>\n",
       "      <td>0.0</td>\n",
       "      <td>9 years</td>\n",
       "      <td>5.0</td>\n",
       "      <td>3.0</td>\n",
       "      <td>15900.0</td>\n",
       "      <td>669.0</td>\n",
       "      <td>NaN</td>\n",
       "      <td>13.0</td>\n",
       "      <td>Mar-2016</td>\n",
       "      <td>Fully Paid</td>\n",
       "    </tr>\n",
       "    <tr>\n",
       "      <th>2</th>\n",
       "      <td>2.0</td>\n",
       "      <td>Jan-2005</td>\n",
       "      <td>NaN</td>\n",
       "      <td>3.0</td>\n",
       "      <td>62125.0</td>\n",
       "      <td>854.0</td>\n",
       "      <td>84.0</td>\n",
       "      <td>NaN</td>\n",
       "      <td>36 months</td>\n",
       "      <td>Source Verified</td>\n",
       "      <td>...</td>\n",
       "      <td>0.0</td>\n",
       "      <td>5 years</td>\n",
       "      <td>3.0</td>\n",
       "      <td>4.0</td>\n",
       "      <td>22000.0</td>\n",
       "      <td>739.0</td>\n",
       "      <td>NaN</td>\n",
       "      <td>8.0</td>\n",
       "      <td>Mar-2016</td>\n",
       "      <td>Fully Paid</td>\n",
       "    </tr>\n",
       "    <tr>\n",
       "      <th>3</th>\n",
       "      <td>2.0</td>\n",
       "      <td>Aug-1995</td>\n",
       "      <td>NaN</td>\n",
       "      <td>8.0</td>\n",
       "      <td>11565.0</td>\n",
       "      <td>4350.0</td>\n",
       "      <td>247.0</td>\n",
       "      <td>NaN</td>\n",
       "      <td>60 months</td>\n",
       "      <td>Not Verified</td>\n",
       "      <td>...</td>\n",
       "      <td>0.0</td>\n",
       "      <td>10+ years</td>\n",
       "      <td>8.0</td>\n",
       "      <td>3.0</td>\n",
       "      <td>17000.0</td>\n",
       "      <td>674.0</td>\n",
       "      <td>NaN</td>\n",
       "      <td>24.0</td>\n",
       "      <td>Mar-2016</td>\n",
       "      <td>Charged Off</td>\n",
       "    </tr>\n",
       "    <tr>\n",
       "      <th>4</th>\n",
       "      <td>1.0</td>\n",
       "      <td>Nov-1996</td>\n",
       "      <td>NaN</td>\n",
       "      <td>13.0</td>\n",
       "      <td>310728.0</td>\n",
       "      <td>6819.0</td>\n",
       "      <td>232.0</td>\n",
       "      <td>NaN</td>\n",
       "      <td>60 months</td>\n",
       "      <td>Verified</td>\n",
       "      <td>...</td>\n",
       "      <td>0.0</td>\n",
       "      <td>10+ years</td>\n",
       "      <td>10.0</td>\n",
       "      <td>4.0</td>\n",
       "      <td>51500.0</td>\n",
       "      <td>679.0</td>\n",
       "      <td>NaN</td>\n",
       "      <td>26.0</td>\n",
       "      <td>Mar-2016</td>\n",
       "      <td>Fully Paid</td>\n",
       "    </tr>\n",
       "  </tbody>\n",
       "</table>\n",
       "<p>5 rows × 108 columns</p>\n",
       "</div>"
      ],
      "text/plain": [
       "   inqlast12m earliestcrline  secappficorangehigh  numactvrevtl  totcurbal  \\\n",
       "0         2.0       Mar-2002                  NaN           4.0   221036.0   \n",
       "1         2.0       Nov-1999                  NaN           5.0    52953.0   \n",
       "2         2.0       Jan-2005                  NaN           3.0    62125.0   \n",
       "3         2.0       Aug-1995                  NaN           8.0    11565.0   \n",
       "4         1.0       Nov-1996                  NaN          13.0   310728.0   \n",
       "\n",
       "   maxbalbc  mosinoldrevtlop  annualincjoint        term verificationstatus  \\\n",
       "0    3381.0            168.0             NaN   36 months           Verified   \n",
       "1    3789.0            196.0             NaN   36 months    Source Verified   \n",
       "2     854.0             84.0             NaN   36 months    Source Verified   \n",
       "3    4350.0            247.0             NaN   60 months       Not Verified   \n",
       "4    6819.0            232.0             NaN   60 months           Verified   \n",
       "\n",
       "   ...  delinqamnt  emplength  numrevtlbalgt0  numiltl  totalbclimit  \\\n",
       "0  ...         0.0    6 years             4.0      7.0        7900.0   \n",
       "1  ...         0.0    9 years             5.0      3.0       15900.0   \n",
       "2  ...         0.0    5 years             3.0      4.0       22000.0   \n",
       "3  ...         0.0  10+ years             8.0      3.0       17000.0   \n",
       "4  ...         0.0  10+ years            10.0      4.0       51500.0   \n",
       "\n",
       "   ficorangehigh  verificationstatusjoint  totalacc    issued   loanstatus  \n",
       "0          669.0                      NaN      16.0  Mar-2016   Fully Paid  \n",
       "1          669.0                      NaN      13.0  Mar-2016   Fully Paid  \n",
       "2          739.0                      NaN       8.0  Mar-2016   Fully Paid  \n",
       "3          674.0                      NaN      24.0  Mar-2016  Charged Off  \n",
       "4          679.0                      NaN      26.0  Mar-2016   Fully Paid  \n",
       "\n",
       "[5 rows x 108 columns]"
      ]
     },
     "execution_count": 4,
     "metadata": {},
     "output_type": "execute_result"
    }
   ],
   "source": [
    "df.head()"
   ]
  },
  {
   "cell_type": "code",
   "execution_count": 5,
   "metadata": {},
   "outputs": [
    {
     "data": {
      "text/plain": [
       "array(['inqlast12m', 'earliestcrline', 'secappficorangehigh',\n",
       "       'numactvrevtl', 'totcurbal', 'maxbalbc', 'mosinoldrevtlop',\n",
       "       'annualincjoint', 'term', 'verificationstatus', 'mthssincercntil',\n",
       "       'revolbal', 'accopenpast24mths', 'percentbcgt75',\n",
       "       'mthssincerecentrevoldelinq', 'memberid', 'numbctl',\n",
       "       'mosinrcntrevtlop', 'secappopenactil', 'numacctsever120pd',\n",
       "       'mthssincelastdelinq', 'installment', 'mthssincerecentbc',\n",
       "       'totcollamt', 'addrstate', 'numsats', 'mthssincelastmajorderog',\n",
       "       'totalilhighcreditlimit', 'subgrade', 'inqfi',\n",
       "       'secappchargeoffwithin12mths', 'openactil', 'mthssincelastrecord',\n",
       "       'applicationtype', 'intrate', 'homeownership', 'revolutil',\n",
       "       'emptitle', 'mortacc', 'desc', 'dti', 'openil12m', 'purpose',\n",
       "       'openacc', 'secappficorangelow', 'numbcsats', 'numoprevtl',\n",
       "       'mosinrcnttl', 'openrv24m', 'secappearliestcrline', 'openacc6m',\n",
       "       'totalbalil', 'totalcutl', 'totalbalexmort', 'revolbaljoint',\n",
       "       'secappmortacc', 'bcutil', 'grade', 'ilutil', 'secapprevolutil',\n",
       "       'delinq2yrs', 'numtl30dpd', 'pcttlnvrdlq', 'mthssincerecentinq',\n",
       "       'numtloppast12m', 'loanamnt', 'collections12mthsexmed', 'zipcode',\n",
       "       'allutil', 'mthssincerecentbcdlq', 'secappcollections12mthsexmed',\n",
       "       'id', 'mosinoldilacct', 'numrevaccts', 'numtl90gdpd24m',\n",
       "       'fundedamnt', 'pubrec', 'numactvbctl', 'dtijoint', 'ficorangelow',\n",
       "       'chargeoffwithin12mths', 'numtl120dpd2m', 'totalrevhilim',\n",
       "       'pubrecbankruptcies', 'secappinqlast6mths', 'bcopentobuy',\n",
       "       'taxliens', 'openrv12m', 'openil24m', 'annualinc', 'accnowdelinq',\n",
       "       'secappmthssincelastmajorderog', 'secappnumrevaccts',\n",
       "       'inqlast6mths', 'secappopenacc', 'initialliststatus', 'avgcurbal',\n",
       "       'tothicredlim', 'delinqamnt', 'emplength', 'numrevtlbalgt0',\n",
       "       'numiltl', 'totalbclimit', 'ficorangehigh',\n",
       "       'verificationstatusjoint', 'totalacc', 'issued', 'loanstatus'],\n",
       "      dtype=object)"
      ]
     },
     "execution_count": 5,
     "metadata": {},
     "output_type": "execute_result"
    }
   ],
   "source": [
    "cols=df.columns.values\n",
    "cols"
   ]
  },
  {
   "cell_type": "markdown",
   "metadata": {},
   "source": [
    "### Part 2. Feature Preparation"
   ]
  },
  {
   "cell_type": "markdown",
   "metadata": {},
   "source": [
    "### 2.1 Data Cleaning"
   ]
  },
  {
   "cell_type": "markdown",
   "metadata": {},
   "source": [
    "#### Check missing value, drop all na columns"
   ]
  },
  {
   "cell_type": "code",
   "execution_count": 6,
   "metadata": {},
   "outputs": [],
   "source": [
    "df=df.dropna(axis='columns',how='all')"
   ]
  },
  {
   "cell_type": "code",
   "execution_count": 7,
   "metadata": {},
   "outputs": [
    {
     "data": {
      "text/plain": [
       "(434415, 94)"
      ]
     },
     "execution_count": 7,
     "metadata": {},
     "output_type": "execute_result"
    }
   ],
   "source": [
    "df.shape"
   ]
  },
  {
   "cell_type": "code",
   "execution_count": 8,
   "metadata": {},
   "outputs": [
    {
     "data": {
      "text/plain": [
       "array(['inqlast12m', 'earliestcrline', 'numactvrevtl', 'totcurbal',\n",
       "       'maxbalbc', 'mosinoldrevtlop', 'annualincjoint', 'term',\n",
       "       'verificationstatus', 'mthssincercntil', 'revolbal',\n",
       "       'accopenpast24mths', 'percentbcgt75', 'mthssincerecentrevoldelinq',\n",
       "       'numbctl', 'mosinrcntrevtlop', 'numacctsever120pd',\n",
       "       'mthssincelastdelinq', 'installment', 'mthssincerecentbc',\n",
       "       'totcollamt', 'addrstate', 'numsats', 'mthssincelastmajorderog',\n",
       "       'totalilhighcreditlimit', 'subgrade', 'inqfi', 'openactil',\n",
       "       'mthssincelastrecord', 'applicationtype', 'intrate',\n",
       "       'homeownership', 'revolutil', 'emptitle', 'mortacc', 'desc', 'dti',\n",
       "       'openil12m', 'purpose', 'openacc', 'numbcsats', 'numoprevtl',\n",
       "       'mosinrcnttl', 'openrv24m', 'openacc6m', 'totalbalil', 'totalcutl',\n",
       "       'totalbalexmort', 'bcutil', 'grade', 'ilutil', 'delinq2yrs',\n",
       "       'numtl30dpd', 'pcttlnvrdlq', 'mthssincerecentinq',\n",
       "       'numtloppast12m', 'loanamnt', 'collections12mthsexmed', 'zipcode',\n",
       "       'allutil', 'mthssincerecentbcdlq', 'id', 'mosinoldilacct',\n",
       "       'numrevaccts', 'numtl90gdpd24m', 'fundedamnt', 'pubrec',\n",
       "       'numactvbctl', 'dtijoint', 'ficorangelow', 'chargeoffwithin12mths',\n",
       "       'numtl120dpd2m', 'totalrevhilim', 'pubrecbankruptcies',\n",
       "       'bcopentobuy', 'taxliens', 'openrv12m', 'openil24m', 'annualinc',\n",
       "       'accnowdelinq', 'inqlast6mths', 'initialliststatus', 'avgcurbal',\n",
       "       'tothicredlim', 'delinqamnt', 'emplength', 'numrevtlbalgt0',\n",
       "       'numiltl', 'totalbclimit', 'ficorangehigh',\n",
       "       'verificationstatusjoint', 'totalacc', 'issued', 'loanstatus'],\n",
       "      dtype=object)"
      ]
     },
     "execution_count": 8,
     "metadata": {},
     "output_type": "execute_result"
    }
   ],
   "source": [
    "cols=df.columns.values\n",
    "cols"
   ]
  },
  {
   "cell_type": "markdown",
   "metadata": {},
   "source": [
    "### 2.2 Group Obj/Num Featureus"
   ]
  },
  {
   "cell_type": "code",
   "execution_count": 9,
   "metadata": {},
   "outputs": [
    {
     "name": "stdout",
     "output_type": "stream",
     "text": [
      "<class 'pandas.core.frame.DataFrame'>\n",
      "RangeIndex: 434415 entries, 0 to 434414\n",
      "Data columns (total 94 columns):\n",
      " #   Column                      Non-Null Count   Dtype  \n",
      "---  ------                      --------------   -----  \n",
      " 0   inqlast12m                  434345 non-null  float64\n",
      " 1   earliestcrline              434407 non-null  object \n",
      " 2   numactvrevtl                434407 non-null  float64\n",
      " 3   totcurbal                   434407 non-null  float64\n",
      " 4   maxbalbc                    434346 non-null  float64\n",
      " 5   mosinoldrevtlop             434407 non-null  float64\n",
      " 6   annualincjoint              8789 non-null    float64\n",
      " 7   term                        434407 non-null  object \n",
      " 8   verificationstatus          434407 non-null  object \n",
      " 9   mthssincercntil             422649 non-null  float64\n",
      " 10  revolbal                    434407 non-null  float64\n",
      " 11  accopenpast24mths           434407 non-null  float64\n",
      " 12  percentbcgt75               429742 non-null  float64\n",
      " 13  mthssincerecentrevoldelinq  157579 non-null  float64\n",
      " 14  numbctl                     434407 non-null  float64\n",
      " 15  mosinrcntrevtlop            434407 non-null  float64\n",
      " 16  numacctsever120pd           434407 non-null  float64\n",
      " 17  mthssincelastdelinq         229579 non-null  float64\n",
      " 18  installment                 434407 non-null  float64\n",
      " 19  mthssincerecentbc           430033 non-null  float64\n",
      " 20  totcollamt                  434407 non-null  float64\n",
      " 21  addrstate                   434407 non-null  object \n",
      " 22  numsats                     434407 non-null  float64\n",
      " 23  mthssincelastmajorderog     125608 non-null  float64\n",
      " 24  totalilhighcreditlimit      434407 non-null  float64\n",
      " 25  subgrade                    434407 non-null  object \n",
      " 26  inqfi                       434346 non-null  float64\n",
      " 27  openactil                   434346 non-null  float64\n",
      " 28  mthssincelastrecord         82913 non-null   float64\n",
      " 29  applicationtype             434407 non-null  object \n",
      " 30  intrate                     434407 non-null  object \n",
      " 31  homeownership               434407 non-null  object \n",
      " 32  revolutil                   434143 non-null  object \n",
      " 33  emptitle                    405914 non-null  object \n",
      " 34  mortacc                     434407 non-null  float64\n",
      " 35  desc                        23 non-null      object \n",
      " 36  dti                         434344 non-null  float64\n",
      " 37  openil12m                   434346 non-null  float64\n",
      " 38  purpose                     434407 non-null  object \n",
      " 39  openacc                     434407 non-null  float64\n",
      " 40  numbcsats                   434407 non-null  float64\n",
      " 41  numoprevtl                  434407 non-null  float64\n",
      " 42  mosinrcnttl                 434407 non-null  float64\n",
      " 43  openrv24m                   434346 non-null  float64\n",
      " 44  openacc6m                   434345 non-null  float64\n",
      " 45  totalbalil                  434346 non-null  float64\n",
      " 46  totalcutl                   434345 non-null  float64\n",
      " 47  totalbalexmort              434407 non-null  float64\n",
      " 48  bcutil                      429572 non-null  float64\n",
      " 49  grade                       434407 non-null  object \n",
      " 50  ilutil                      376998 non-null  float64\n",
      " 51  delinq2yrs                  434407 non-null  float64\n",
      " 52  numtl30dpd                  434407 non-null  float64\n",
      " 53  pcttlnvrdlq                 434407 non-null  float64\n",
      " 54  mthssincerecentinq          388924 non-null  float64\n",
      " 55  numtloppast12m              434407 non-null  float64\n",
      " 56  loanamnt                    434407 non-null  float64\n",
      " 57  collections12mthsexmed      434407 non-null  float64\n",
      " 58  zipcode                     434407 non-null  object \n",
      " 59  allutil                     434323 non-null  float64\n",
      " 60  mthssincerecentbcdlq        111133 non-null  float64\n",
      " 61  id                          434415 non-null  object \n",
      " 62  mosinoldilacct              422704 non-null  float64\n",
      " 63  numrevaccts                 434407 non-null  float64\n",
      " 64  numtl90gdpd24m              434407 non-null  float64\n",
      " 65  fundedamnt                  434407 non-null  float64\n",
      " 66  pubrec                      434407 non-null  float64\n",
      " 67  numactvbctl                 434407 non-null  float64\n",
      " 68  dtijoint                    8787 non-null    float64\n",
      " 69  ficorangelow                434407 non-null  float64\n",
      " 70  chargeoffwithin12mths       434407 non-null  float64\n",
      " 71  numtl120dpd2m               413030 non-null  float64\n",
      " 72  totalrevhilim               434407 non-null  float64\n",
      " 73  pubrecbankruptcies          434407 non-null  float64\n",
      " 74  bcopentobuy                 429772 non-null  float64\n",
      " 75  taxliens                    434407 non-null  float64\n",
      " 76  openrv12m                   434346 non-null  float64\n",
      " 77  openil24m                   434346 non-null  float64\n",
      " 78  annualinc                   434407 non-null  float64\n",
      " 79  accnowdelinq                434407 non-null  float64\n",
      " 80  inqlast6mths                434406 non-null  float64\n",
      " 81  initialliststatus           434407 non-null  object \n",
      " 82  avgcurbal                   434407 non-null  float64\n",
      " 83  tothicredlim                434407 non-null  float64\n",
      " 84  delinqamnt                  434407 non-null  float64\n",
      " 85  emplength                   406193 non-null  object \n",
      " 86  numrevtlbalgt0              434407 non-null  float64\n",
      " 87  numiltl                     434407 non-null  float64\n",
      " 88  totalbclimit                434407 non-null  float64\n",
      " 89  ficorangehigh               434407 non-null  float64\n",
      " 90  verificationstatusjoint     8789 non-null    object \n",
      " 91  totalacc                    434407 non-null  float64\n",
      " 92  issued                      434407 non-null  object \n",
      " 93  loanstatus                  434407 non-null  object \n",
      "dtypes: float64(74), object(20)\n",
      "memory usage: 311.5+ MB\n"
     ]
    }
   ],
   "source": [
    "df.info()\n",
    "#74 floasts, 20 objects"
   ]
  },
  {
   "cell_type": "code",
   "execution_count": 10,
   "metadata": {},
   "outputs": [],
   "source": [
    "num_feature=[]\n",
    "obj_feature=[]\n",
    "for col in cols:\n",
    "    if df[col].dtype == 'object':\n",
    "        obj_feature.append(col)\n",
    "    else:\n",
    "        num_feature.append(col)"
   ]
  },
  {
   "cell_type": "code",
   "execution_count": 11,
   "metadata": {},
   "outputs": [
    {
     "name": "stdout",
     "output_type": "stream",
     "text": [
      "74\n"
     ]
    },
    {
     "data": {
      "text/plain": [
       "['accnowdelinq',\n",
       " 'accopenpast24mths',\n",
       " 'allutil',\n",
       " 'annualinc',\n",
       " 'annualincjoint',\n",
       " 'avgcurbal',\n",
       " 'bcopentobuy',\n",
       " 'bcutil',\n",
       " 'chargeoffwithin12mths',\n",
       " 'collections12mthsexmed',\n",
       " 'delinq2yrs',\n",
       " 'delinqamnt',\n",
       " 'dti',\n",
       " 'dtijoint',\n",
       " 'ficorangehigh',\n",
       " 'ficorangelow',\n",
       " 'fundedamnt',\n",
       " 'ilutil',\n",
       " 'inqfi',\n",
       " 'inqlast12m',\n",
       " 'inqlast6mths',\n",
       " 'installment',\n",
       " 'loanamnt',\n",
       " 'maxbalbc',\n",
       " 'mortacc',\n",
       " 'mosinoldilacct',\n",
       " 'mosinoldrevtlop',\n",
       " 'mosinrcntrevtlop',\n",
       " 'mosinrcnttl',\n",
       " 'mthssincelastdelinq',\n",
       " 'mthssincelastmajorderog',\n",
       " 'mthssincelastrecord',\n",
       " 'mthssincercntil',\n",
       " 'mthssincerecentbc',\n",
       " 'mthssincerecentbcdlq',\n",
       " 'mthssincerecentinq',\n",
       " 'mthssincerecentrevoldelinq',\n",
       " 'numacctsever120pd',\n",
       " 'numactvbctl',\n",
       " 'numactvrevtl',\n",
       " 'numbcsats',\n",
       " 'numbctl',\n",
       " 'numiltl',\n",
       " 'numoprevtl',\n",
       " 'numrevaccts',\n",
       " 'numrevtlbalgt0',\n",
       " 'numsats',\n",
       " 'numtl120dpd2m',\n",
       " 'numtl30dpd',\n",
       " 'numtl90gdpd24m',\n",
       " 'numtloppast12m',\n",
       " 'openacc',\n",
       " 'openacc6m',\n",
       " 'openactil',\n",
       " 'openil12m',\n",
       " 'openil24m',\n",
       " 'openrv12m',\n",
       " 'openrv24m',\n",
       " 'pcttlnvrdlq',\n",
       " 'percentbcgt75',\n",
       " 'pubrec',\n",
       " 'pubrecbankruptcies',\n",
       " 'revolbal',\n",
       " 'taxliens',\n",
       " 'totalacc',\n",
       " 'totalbalexmort',\n",
       " 'totalbalil',\n",
       " 'totalbclimit',\n",
       " 'totalcutl',\n",
       " 'totalilhighcreditlimit',\n",
       " 'totalrevhilim',\n",
       " 'totcollamt',\n",
       " 'totcurbal',\n",
       " 'tothicredlim']"
      ]
     },
     "execution_count": 11,
     "metadata": {},
     "output_type": "execute_result"
    }
   ],
   "source": [
    "print(len(num_feature))\n",
    "sorted(num_feature)"
   ]
  },
  {
   "cell_type": "code",
   "execution_count": 12,
   "metadata": {},
   "outputs": [
    {
     "name": "stdout",
     "output_type": "stream",
     "text": [
      "20\n"
     ]
    },
    {
     "data": {
      "text/plain": [
       "['addrstate',\n",
       " 'applicationtype',\n",
       " 'desc',\n",
       " 'earliestcrline',\n",
       " 'emplength',\n",
       " 'emptitle',\n",
       " 'grade',\n",
       " 'homeownership',\n",
       " 'id',\n",
       " 'initialliststatus',\n",
       " 'intrate',\n",
       " 'issued',\n",
       " 'loanstatus',\n",
       " 'purpose',\n",
       " 'revolutil',\n",
       " 'subgrade',\n",
       " 'term',\n",
       " 'verificationstatus',\n",
       " 'verificationstatusjoint',\n",
       " 'zipcode']"
      ]
     },
     "execution_count": 12,
     "metadata": {},
     "output_type": "execute_result"
    }
   ],
   "source": [
    "print (len(obj_feature))\n",
    "sorted(obj_feature)"
   ]
  },
  {
   "cell_type": "markdown",
   "metadata": {},
   "source": [
    "### Part 3. Data Exploration"
   ]
  },
  {
   "cell_type": "code",
   "execution_count": 13,
   "metadata": {},
   "outputs": [
    {
     "data": {
      "text/plain": [
       "inqlast12m                     70\n",
       "earliestcrline                  8\n",
       "numactvrevtl                    8\n",
       "totcurbal                       8\n",
       "maxbalbc                       69\n",
       "                            ...  \n",
       "ficorangehigh                   8\n",
       "verificationstatusjoint    425626\n",
       "totalacc                        8\n",
       "issued                          8\n",
       "loanstatus                      8\n",
       "Length: 94, dtype: int64"
      ]
     },
     "execution_count": 13,
     "metadata": {},
     "output_type": "execute_result"
    }
   ],
   "source": [
    "df.isna().sum()\n",
    "# mthssincelastdelinq       26929, num\n",
    "# desc                      13296, obj\n",
    "# mthssincelastrecord       38887, num"
   ]
  },
  {
   "cell_type": "markdown",
   "metadata": {},
   "source": [
    "### 3.1 Obj Features(20) "
   ]
  },
  {
   "cell_type": "code",
   "execution_count": 14,
   "metadata": {},
   "outputs": [
    {
     "name": "stdout",
     "output_type": "stream",
     "text": [
      "Category:  14 , id \n",
      " Missing values:  0\n"
     ]
    }
   ],
   "source": [
    "i=14\n",
    "print (\"Category: \",i,\",\",obj_feature[i],\"\\n\",\n",
    "       \"Missing values: \",df[obj_feature[i]].isna().sum())\n",
    "# has null value; 0% means?  over 100% means?"
   ]
  },
  {
   "cell_type": "markdown",
   "metadata": {},
   "source": [
    "#### 1) grade/subgrade"
   ]
  },
  {
   "cell_type": "code",
   "execution_count": 15,
   "metadata": {},
   "outputs": [
    {
     "name": "stdout",
     "output_type": "stream",
     "text": [
      "Category:  12 , grade \n",
      " Missing values:  8\n"
     ]
    },
    {
     "data": {
      "text/plain": [
       "<matplotlib.axes._subplots.AxesSubplot at 0x7fc1b9fb1940>"
      ]
     },
     "execution_count": 15,
     "metadata": {},
     "output_type": "execute_result"
    },
    {
     "data": {
      "image/png": "[encoded data removed]",
      "text/plain": [
       "<Figure size 432x288 with 1 Axes>"
      ]
     },
     "metadata": {
      "needs_background": "light"
     },
     "output_type": "display_data"
    }
   ],
   "source": [
    "i=12\n",
    "print (\"Category: \",i,\",\",obj_feature[i],\"\\n\",\n",
    "       \"Missing values: \",df[obj_feature[i]].isna().sum())\n",
    "sns.countplot(x=obj_feature[i], data=df)\n",
    "# grade有顺序的，a~g 变成 0~6"
   ]
  },
  {
   "cell_type": "code",
   "execution_count": 16,
   "metadata": {},
   "outputs": [
    {
     "name": "stdout",
     "output_type": "stream",
     "text": [
      "Category:  4 , subgrade \n",
      " Missing values:  8\n"
     ]
    },
    {
     "data": {
      "text/plain": [
       "<matplotlib.axes._subplots.AxesSubplot at 0x7fc162b6cf40>"
      ]
     },
     "execution_count": 16,
     "metadata": {},
     "output_type": "execute_result"
    },
    {
     "data": {
      "image/png": "[encoded data removed]",
      "text/plain": [
       "<Figure size 432x288 with 1 Axes>"
      ]
     },
     "metadata": {
      "needs_background": "light"
     },
     "output_type": "display_data"
    }
   ],
   "source": [
    "i=4\n",
    "print (\"Category: \",i,\",\",obj_feature[i],\"\\n\",\n",
    "       \"Missing values: \",df[obj_feature[i]].isna().sum())\n",
    "sns.countplot(x=obj_feature[i], data=df)"
   ]
  },
  {
   "cell_type": "markdown",
   "metadata": {},
   "source": [
    "#### 2) term"
   ]
  },
  {
   "cell_type": "code",
   "execution_count": 17,
   "metadata": {},
   "outputs": [
    {
     "name": "stdout",
     "output_type": "stream",
     "text": [
      "Category:  1 , term \n",
      " Missing values:  8\n"
     ]
    },
    {
     "data": {
      "text/plain": [
       " 36 months    323495\n",
       " 60 months    110912\n",
       "Name: term, dtype: int64"
      ]
     },
     "execution_count": 17,
     "metadata": {},
     "output_type": "execute_result"
    },
    {
     "data": {
      "image/png": "[encoded data removed]",
      "text/plain": [
       "<Figure size 432x288 with 1 Axes>"
      ]
     },
     "metadata": {
      "needs_background": "light"
     },
     "output_type": "display_data"
    }
   ],
   "source": [
    "i=1\n",
    "print (\"Category: \",i,\",\",obj_feature[i],\"\\n\",\n",
    "       \"Missing values: \",df[obj_feature[i]].isna().sum())\n",
    "sns.countplot(x=obj_feature[i], data=df)\n",
    "df[obj_feature[i]].value_counts()\n",
    "# 36m more common than 60m, in this df, use 36m only."
   ]
  },
  {
   "cell_type": "markdown",
   "metadata": {},
   "source": [
    "#### 3) emplength/emptitle"
   ]
  },
  {
   "cell_type": "code",
   "execution_count": 18,
   "metadata": {},
   "outputs": [
    {
     "name": "stdout",
     "output_type": "stream",
     "text": [
      "Category:  16 , emplength \n",
      " Missing values:  28222\n"
     ]
    },
    {
     "data": {
      "text/plain": [
       "10+ years    149972\n",
       "2 years       39601\n",
       "3 years       34734\n",
       "< 1 year      31918\n",
       "1 year        29156\n",
       "5 years       26475\n",
       "4 years       25820\n",
       "8 years       18774\n",
       "6 years       18656\n",
       "9 years       16884\n",
       "7 years       14203\n",
       "Name: emplength, dtype: int64"
      ]
     },
     "execution_count": 18,
     "metadata": {},
     "output_type": "execute_result"
    }
   ],
   "source": [
    "i=16\n",
    "print (\"Category: \",i,\",\",obj_feature[i],\"\\n\",\n",
    "       \"Missing values: \",df[obj_feature[i]].isna().sum())\n",
    "df[obj_feature[i]].value_counts()\n",
    "# 0,1,2 或者one hot encoding, 分成三列\n",
    "\n",
    "# n/a consistent with n/a at employment title\n",
    "# 11 values,  convert to num\n",
    "# na ->-999"
   ]
  },
  {
   "cell_type": "code",
   "execution_count": 19,
   "metadata": {},
   "outputs": [
    {
     "name": "stdout",
     "output_type": "stream",
     "text": [
      "Category:  9 , emptitle \n",
      " Missing values:  28501\n"
     ]
    },
    {
     "data": {
      "text/plain": [
       "Teacher                                  8248\n",
       "Manager                                  7403\n",
       "Owner                                    5007\n",
       "Registered Nurse                         3381\n",
       "RN                                       3282\n",
       "                                         ... \n",
       "Telecommunications Network Engineer         1\n",
       "VP Network/System Engineer                  1\n",
       "driver coordinator                          1\n",
       "Facility Director/ Director of Tennis       1\n",
       "Business Developement Rep                   1\n",
       "Name: emptitle, Length: 121663, dtype: int64"
      ]
     },
     "execution_count": 19,
     "metadata": {},
     "output_type": "execute_result"
    }
   ],
   "source": [
    "i=9\n",
    "print (\"Category: \",i,\",\",obj_feature[i],\"\\n\",\n",
    "       \"Missing values: \",df[obj_feature[i]].isna().sum())\n",
    "df[obj_feature[i]].value_counts()\n",
    "# Null values means not working? \n",
    "# 合并rn, registered nurse.\n",
    "# label encoding/frequency encoding. simple NLP"
   ]
  },
  {
   "cell_type": "markdown",
   "metadata": {},
   "source": [
    "#### 4) demo: addrstate/zipcode"
   ]
  },
  {
   "cell_type": "code",
   "execution_count": 20,
   "metadata": {},
   "outputs": [
    {
     "name": "stdout",
     "output_type": "stream",
     "text": [
      "Category:  3 , addrstate \n",
      " Missing values:  8\n"
     ]
    },
    {
     "data": {
      "text/plain": [
       "CA    57888\n",
       "TX    37036\n",
       "NY    35505\n",
       "FL    31727\n",
       "IL    17715\n",
       "NJ    15891\n",
       "OH    14999\n",
       "PA    14502\n",
       "GA    14459\n",
       "NC    12279\n",
       "VA    11687\n",
       "MI    11604\n",
       "AZ    10462\n",
       "MD    10071\n",
       "MA     9830\n",
       "CO     8798\n",
       "WA     8301\n",
       "MN     7699\n",
       "IN     7658\n",
       "TN     7272\n",
       "MO     6951\n",
       "CT     6794\n",
       "NV     6164\n",
       "WI     5791\n",
       "SC     5492\n",
       "AL     5329\n",
       "LA     4985\n",
       "OR     4669\n",
       "KY     4225\n",
       "OK     4061\n",
       "KS     3567\n",
       "AR     3335\n",
       "MS     2867\n",
       "UT     2796\n",
       "NM     2286\n",
       "NE     2116\n",
       "NH     2097\n",
       "HI     2019\n",
       "RI     1881\n",
       "ME     1409\n",
       "DE     1252\n",
       "ID     1225\n",
       "MT     1172\n",
       "ND     1051\n",
       "AK     1006\n",
       "DC      958\n",
       "VT      942\n",
       "WY      935\n",
       "SD      879\n",
       "WV      770\n",
       "Name: addrstate, dtype: int64"
      ]
     },
     "execution_count": 20,
     "metadata": {},
     "output_type": "execute_result"
    }
   ],
   "source": [
    "i=3\n",
    "print (\"Category: \",i,\",\",obj_feature[i],\"\\n\",\n",
    "       \"Missing values: \",df[obj_feature[i]].isna().sum())\n",
    "df[obj_feature[i]].value_counts()\n",
    "#50 states, leave-one-out encoding/frequency encoding"
   ]
  },
  {
   "cell_type": "code",
   "execution_count": 21,
   "metadata": {},
   "outputs": [
    {
     "name": "stdout",
     "output_type": "stream",
     "text": [
      "Category:  13 , zipcode \n",
      " Missing values:  8\n"
     ]
    },
    {
     "data": {
      "text/plain": [
       "750xx    4571\n",
       "945xx    4475\n",
       "112xx    4416\n",
       "606xx    4104\n",
       "300xx    3959\n",
       "         ... \n",
       "965xx       1\n",
       "203xx       1\n",
       "525xx       1\n",
       "521xx       1\n",
       "552xx       1\n",
       "Name: zipcode, Length: 911, dtype: int64"
      ]
     },
     "execution_count": 21,
     "metadata": {},
     "output_type": "execute_result"
    }
   ],
   "source": [
    "i=13\n",
    "print (\"Category: \",i,\",\",obj_feature[i],\"\\n\",\n",
    "       \"Missing values: \",df[obj_feature[i]].isna().sum())\n",
    "df[obj_feature[i]].value_counts()\n",
    "#xx去掉 变成数值；frequency encoding"
   ]
  },
  {
   "cell_type": "markdown",
   "metadata": {},
   "source": [
    "#### 5) num: intrate/revolutil"
   ]
  },
  {
   "cell_type": "code",
   "execution_count": 22,
   "metadata": {},
   "outputs": [
    {
     "name": "stdout",
     "output_type": "stream",
     "text": [
      "Category:  6 , intrate \n",
      " Missing values:  8\n"
     ]
    },
    {
     "data": {
      "text/plain": [
       "  5.32%    18722\n",
       " 11.49%    17432\n",
       " 13.99%    15192\n",
       " 11.99%    14545\n",
       " 13.49%    14002\n",
       "           ...  \n",
       " 21.99%        2\n",
       " 26.77%        2\n",
       " 25.99%        2\n",
       " 13.19%        1\n",
       " 11.16%        1\n",
       "Name: intrate, Length: 141, dtype: int64"
      ]
     },
     "execution_count": 22,
     "metadata": {},
     "output_type": "execute_result"
    }
   ],
   "source": [
    "i=6\n",
    "print (\"Category: \",i,\",\",obj_feature[i],\"\\n\",\n",
    "       \"Missing values: \",df[obj_feature[i]].isna().sum())\n",
    "df[obj_feature[i]].value_counts()"
   ]
  },
  {
   "cell_type": "code",
   "execution_count": 23,
   "metadata": {},
   "outputs": [
    {
     "name": "stdout",
     "output_type": "stream",
     "text": [
      "Category:  8 , revolutil \n",
      " Missing values:  272\n"
     ]
    },
    {
     "data": {
      "text/plain": [
       "0%        1828\n",
       "57%        955\n",
       "55%        942\n",
       "48%        935\n",
       "61%        905\n",
       "          ... \n",
       "111.7%       1\n",
       "107.7%       1\n",
       "110.6%       1\n",
       "128.6%       1\n",
       "126.6%       1\n",
       "Name: revolutil, Length: 1178, dtype: int64"
      ]
     },
     "execution_count": 23,
     "metadata": {},
     "output_type": "execute_result"
    }
   ],
   "source": [
    "i=8\n",
    "print (\"Category: \",i,\",\",obj_feature[i],\"\\n\",\n",
    "       \"Missing values: \",df[obj_feature[i]].isna().sum())\n",
    "df[obj_feature[i]].value_counts()\n",
    "#去掉百分号，变成float"
   ]
  },
  {
   "cell_type": "markdown",
   "metadata": {},
   "source": [
    "#### 6) type:applicationtype/verificationstatus/verificationstatusjoint/initialliststatus"
   ]
  },
  {
   "cell_type": "code",
   "execution_count": 24,
   "metadata": {},
   "outputs": [
    {
     "name": "stdout",
     "output_type": "stream",
     "text": [
      "Category:  5 , applicationtype \n",
      " Missing values:  8\n"
     ]
    },
    {
     "data": {
      "text/plain": [
       "Individual    425618\n",
       "Joint App       8789\n",
       "Name: applicationtype, dtype: int64"
      ]
     },
     "execution_count": 24,
     "metadata": {},
     "output_type": "execute_result"
    },
    {
     "data": {
      "image/png": "[encoded data removed]",
      "text/plain": [
       "<Figure size 432x288 with 1 Axes>"
      ]
     },
     "metadata": {
      "needs_background": "light"
     },
     "output_type": "display_data"
    }
   ],
   "source": [
    "i=5\n",
    "print (\"Category: \",i,\",\",obj_feature[i],\"\\n\",\n",
    "       \"Missing values: \",df[obj_feature[i]].isna().sum())\n",
    "sns.countplot(x=obj_feature[i], data=df)\n",
    "df[obj_feature[i]].value_counts()\n",
    "# Mainly individual, 2% joint app. consistent with 'verificationstatusjoint', \n",
    "# means that it only has one variance 'not verified', thus can be excluded from modeling."
   ]
  },
  {
   "cell_type": "code",
   "execution_count": 25,
   "metadata": {},
   "outputs": [
    {
     "name": "stdout",
     "output_type": "stream",
     "text": [
      "Category:  2 , verificationstatus \n",
      " Missing values:  8\n"
     ]
    },
    {
     "data": {
      "text/plain": [
       "Source Verified    0.417385\n",
       "Not Verified       0.291908\n",
       "Verified           0.290707\n",
       "Name: verificationstatus, dtype: float64"
      ]
     },
     "execution_count": 25,
     "metadata": {},
     "output_type": "execute_result"
    },
    {
     "data": {
      "image/png": "[encoded data removed]",
      "text/plain": [
       "<Figure size 432x288 with 1 Axes>"
      ]
     },
     "metadata": {
      "needs_background": "light"
     },
     "output_type": "display_data"
    }
   ],
   "source": [
    "i=2\n",
    "print (\"Category: \",i,\",\",obj_feature[i],\"\\n\",\n",
    "       \"Missing values: \",df[obj_feature[i]].isna().sum())\n",
    "sns.countplot(x=obj_feature[i], data=df)\n",
    "df[obj_feature[i]].value_counts(normalize=True)\n"
   ]
  },
  {
   "cell_type": "code",
   "execution_count": 26,
   "metadata": {},
   "outputs": [
    {
     "name": "stdout",
     "output_type": "stream",
     "text": [
      "Category:  17 , verificationstatusjoint \n",
      " Missing values:  425626\n"
     ]
    },
    {
     "data": {
      "text/plain": [
       "Not Verified    8789\n",
       "Name: verificationstatusjoint, dtype: int64"
      ]
     },
     "execution_count": 26,
     "metadata": {},
     "output_type": "execute_result"
    }
   ],
   "source": [
    "i=17\n",
    "print (\"Category: \",i,\",\",obj_feature[i],\"\\n\",\n",
    "       \"Missing values: \",df[obj_feature[i]].isna().sum())\n",
    "df[obj_feature[i]].value_counts()\n",
    "# more than 50% debt_consolidation\n",
    "# one hot encoding"
   ]
  },
  {
   "cell_type": "code",
   "execution_count": 27,
   "metadata": {},
   "outputs": [
    {
     "name": "stdout",
     "output_type": "stream",
     "text": [
      "Category:  15 , initialliststatus \n",
      " Missing values:  8\n"
     ]
    },
    {
     "data": {
      "text/plain": [
       "w    333732\n",
       "f    100675\n",
       "Name: initialliststatus, dtype: int64"
      ]
     },
     "execution_count": 27,
     "metadata": {},
     "output_type": "execute_result"
    }
   ],
   "source": [
    "i=15\n",
    "print (\"Category: \",i,\",\",obj_feature[i],\"\\n\",\n",
    "       \"Missing values: \",df[obj_feature[i]].isna().sum())\n",
    "df[obj_feature[i]].value_counts()\n"
   ]
  },
  {
   "cell_type": "markdown",
   "metadata": {},
   "source": [
    "#### 7) date: earliestcrline/issued"
   ]
  },
  {
   "cell_type": "code",
   "execution_count": 28,
   "metadata": {},
   "outputs": [
    {
     "name": "stdout",
     "output_type": "stream",
     "text": [
      "Category:  0 , earliestcrline \n",
      " Missing values:  8\n"
     ]
    },
    {
     "data": {
      "text/plain": [
       "Sep-2003    3273\n",
       "Aug-2003    3273\n",
       "Sep-2004    3224\n",
       "Sep-2005    3126\n",
       "Aug-2004    3106\n",
       "            ... \n",
       "Jul-1961       1\n",
       "Jun-1961       1\n",
       "Apr-1962       1\n",
       "Feb-1962       1\n",
       "Jul-1952       1\n",
       "Name: earliestcrline, Length: 670, dtype: int64"
      ]
     },
     "execution_count": 28,
     "metadata": {},
     "output_type": "execute_result"
    }
   ],
   "source": [
    "i=0\n",
    "print (\"Category: \",i,\",\",obj_feature[i],\"\\n\",\n",
    "       \"Missing values: \",df[obj_feature[i]].isna().sum())\n",
    "df[obj_feature[i]].value_counts()\n",
    "\n",
    "# 信用长短, convert to time difference, eg, months to 2019 -> a numeric feature\n",
    "# late, it might be not reliable for short period of credit behavior; \n",
    "# early->old lender."
   ]
  },
  {
   "cell_type": "code",
   "execution_count": 29,
   "metadata": {},
   "outputs": [
    {
     "name": "stdout",
     "output_type": "stream",
     "text": [
      "Category:  18 , issued \n",
      " Missing values:  8\n"
     ]
    },
    {
     "data": {
      "text/plain": [
       "Mar-2016    61992\n",
       "Feb-2016    39529\n",
       "Apr-2016    36432\n",
       "Aug-2016    36280\n",
       "Dec-2016    36183\n",
       "Jul-2016    34696\n",
       "Nov-2016    34591\n",
       "Jun-2016    33019\n",
       "Oct-2016    32772\n",
       "Jan-2016    32366\n",
       "May-2016    28403\n",
       "Sep-2016    28144\n",
       "Name: issued, dtype: int64"
      ]
     },
     "execution_count": 29,
     "metadata": {},
     "output_type": "execute_result"
    }
   ],
   "source": [
    "i=18\n",
    "print (\"Category: \",i,\",\",obj_feature[i],\"\\n\",\n",
    "       \"Missing values: \",df[obj_feature[i]].isna().sum())\n",
    "df[obj_feature[i]].value_counts()\n",
    "# train/test split, 1-9 train, 10-12 test."
   ]
  },
  {
   "cell_type": "code",
   "execution_count": 30,
   "metadata": {},
   "outputs": [],
   "source": [
    "#print (df[df[obj_feature[8]].isnull() ==0][obj_feature[8]])"
   ]
  },
  {
   "cell_type": "markdown",
   "metadata": {},
   "source": [
    "#### 8) purpose/homeownership/loanstatus"
   ]
  },
  {
   "cell_type": "code",
   "execution_count": 31,
   "metadata": {},
   "outputs": [
    {
     "name": "stdout",
     "output_type": "stream",
     "text": [
      "Category:  11 , purpose \n",
      " Missing values:  8\n"
     ]
    },
    {
     "data": {
      "text/plain": [
       "debt_consolidation    248899\n",
       "credit_card            91609\n",
       "home_improvement       31182\n",
       "other                  28469\n",
       "major_purchase         10406\n",
       "medical                 5440\n",
       "car                     4813\n",
       "small_business          4790\n",
       "vacation                3262\n",
       "moving                  3229\n",
       "house                   2002\n",
       "renewable_energy         304\n",
       "wedding                    2\n",
       "Name: purpose, dtype: int64"
      ]
     },
     "execution_count": 31,
     "metadata": {},
     "output_type": "execute_result"
    }
   ],
   "source": [
    "i=11\n",
    "print (\"Category: \",i,\",\",obj_feature[i],\"\\n\",\n",
    "       \"Missing values: \",df[obj_feature[i]].isna().sum())\n",
    "df[obj_feature[i]].value_counts()"
   ]
  },
  {
   "cell_type": "code",
   "execution_count": 32,
   "metadata": {},
   "outputs": [
    {
     "name": "stdout",
     "output_type": "stream",
     "text": [
      "Category:  7 , homeownership \n",
      " Missing values:  8\n"
     ]
    },
    {
     "data": {
      "text/plain": [
       "<matplotlib.axes._subplots.AxesSubplot at 0x7fc1624a6fa0>"
      ]
     },
     "execution_count": 32,
     "metadata": {},
     "output_type": "execute_result"
    },
    {
     "data": {
      "image/png": "[encoded data removed]",
      "text/plain": [
       "<Figure size 432x288 with 1 Axes>"
      ]
     },
     "metadata": {
      "needs_background": "light"
     },
     "output_type": "display_data"
    }
   ],
   "source": [
    "i=7\n",
    "print (\"Category: \",i,\",\",obj_feature[i],\"\\n\",\n",
    "       \"Missing values: \",df[obj_feature[i]].isna().sum())\n",
    "df[obj_feature[i]].value_counts()\n",
    "sns.countplot(x=obj_feature[i], data=df)"
   ]
  },
  {
   "cell_type": "code",
   "execution_count": 33,
   "metadata": {},
   "outputs": [
    {
     "name": "stdout",
     "output_type": "stream",
     "text": [
      "Category:  19 , loanstatus \n",
      " Missing values:  8\n"
     ]
    },
    {
     "data": {
      "text/plain": [
       "Fully Paid            283148\n",
       "Charged Off            74151\n",
       "Current                72512\n",
       "Late (31-120 days)      2739\n",
       "In Grace Period         1217\n",
       "Late (16-30 days)        633\n",
       "Default                    7\n",
       "Name: loanstatus, dtype: int64"
      ]
     },
     "execution_count": 33,
     "metadata": {},
     "output_type": "execute_result"
    }
   ],
   "source": [
    "i=19\n",
    "print (\"Category: \",i,\",\",obj_feature[i],\"\\n\",\n",
    "       \"Missing values: \",df[obj_feature[i]].isna().sum())\n",
    "df[obj_feature[i]].value_counts()"
   ]
  },
  {
   "cell_type": "markdown",
   "metadata": {},
   "source": [
    "#### 9) NLP: desc"
   ]
  },
  {
   "cell_type": "code",
   "execution_count": 34,
   "metadata": {},
   "outputs": [
    {
     "name": "stdout",
     "output_type": "stream",
     "text": [
      "Category:  10 , desc \n",
      " Missing values:  434392\n"
     ]
    }
   ],
   "source": [
    "i=10\n",
    "print (\"Category: \",i,\",\",obj_feature[i],\"\\n\",\n",
    "       \"Missing values: \",df[obj_feature[i]].isna().sum())\n",
    "# only 23 not null values and 6 of them are space. simply drop it\n",
    "# in the 2014 data, there are more not null data in this column, you might want to drop it/\n",
    "# or classify them to null and not_null, short v.s. long\n",
    "# this part might be quite similar to the purpose feature, which is quite important."
   ]
  },
  {
   "cell_type": "markdown",
   "metadata": {},
   "source": [
    "### 3.2 Numeric features (74)"
   ]
  },
  {
   "cell_type": "markdown",
   "metadata": {},
   "source": [
    "#### For an issued loan, fundedamnt=loanamnt, drop fundedamnt¶"
   ]
  },
  {
   "cell_type": "code",
   "execution_count": 35,
   "metadata": {},
   "outputs": [
    {
     "data": {
      "text/html": [
       "<div>\n",
       "<style scoped>\n",
       "    .dataframe tbody tr th:only-of-type {\n",
       "        vertical-align: middle;\n",
       "    }\n",
       "\n",
       "    .dataframe tbody tr th {\n",
       "        vertical-align: top;\n",
       "    }\n",
       "\n",
       "    .dataframe thead th {\n",
       "        text-align: right;\n",
       "    }\n",
       "</style>\n",
       "<table border=\"1\" class=\"dataframe\">\n",
       "  <thead>\n",
       "    <tr style=\"text-align: right;\">\n",
       "      <th></th>\n",
       "      <th>fundedamnt</th>\n",
       "      <th>loanamnt</th>\n",
       "    </tr>\n",
       "  </thead>\n",
       "  <tbody>\n",
       "    <tr>\n",
       "      <th>0</th>\n",
       "      <td>12800.0</td>\n",
       "      <td>12800.0</td>\n",
       "    </tr>\n",
       "    <tr>\n",
       "      <th>1</th>\n",
       "      <td>9000.0</td>\n",
       "      <td>9000.0</td>\n",
       "    </tr>\n",
       "    <tr>\n",
       "      <th>2</th>\n",
       "      <td>8000.0</td>\n",
       "      <td>8000.0</td>\n",
       "    </tr>\n",
       "    <tr>\n",
       "      <th>3</th>\n",
       "      <td>25000.0</td>\n",
       "      <td>25000.0</td>\n",
       "    </tr>\n",
       "    <tr>\n",
       "      <th>4</th>\n",
       "      <td>35000.0</td>\n",
       "      <td>35000.0</td>\n",
       "    </tr>\n",
       "    <tr>\n",
       "      <th>5</th>\n",
       "      <td>20000.0</td>\n",
       "      <td>20000.0</td>\n",
       "    </tr>\n",
       "    <tr>\n",
       "      <th>6</th>\n",
       "      <td>15000.0</td>\n",
       "      <td>15000.0</td>\n",
       "    </tr>\n",
       "    <tr>\n",
       "      <th>7</th>\n",
       "      <td>6000.0</td>\n",
       "      <td>6000.0</td>\n",
       "    </tr>\n",
       "    <tr>\n",
       "      <th>8</th>\n",
       "      <td>5625.0</td>\n",
       "      <td>5625.0</td>\n",
       "    </tr>\n",
       "    <tr>\n",
       "      <th>9</th>\n",
       "      <td>16000.0</td>\n",
       "      <td>16000.0</td>\n",
       "    </tr>\n",
       "  </tbody>\n",
       "</table>\n",
       "</div>"
      ],
      "text/plain": [
       "   fundedamnt  loanamnt\n",
       "0     12800.0   12800.0\n",
       "1      9000.0    9000.0\n",
       "2      8000.0    8000.0\n",
       "3     25000.0   25000.0\n",
       "4     35000.0   35000.0\n",
       "5     20000.0   20000.0\n",
       "6     15000.0   15000.0\n",
       "7      6000.0    6000.0\n",
       "8      5625.0    5625.0\n",
       "9     16000.0   16000.0"
      ]
     },
     "execution_count": 35,
     "metadata": {},
     "output_type": "execute_result"
    }
   ],
   "source": [
    "df[['fundedamnt','loanamnt']][:10]"
   ]
  },
  {
   "cell_type": "code",
   "execution_count": 36,
   "metadata": {},
   "outputs": [
    {
     "name": "stderr",
     "output_type": "stream",
     "text": [
      "<ipython-input-36-dc26ff7a684f>:1: UserWarning: Pandas doesn't allow columns to be created via a new attribute name - see https://pandas.pydata.org/pandas-docs/stable/indexing.html#attribute-access\n",
      "  df.ratio=df.fundedamnt/df.loanamnt.astype(float,3)\n"
     ]
    },
    {
     "data": {
      "text/plain": [
       "<matplotlib.axes._subplots.AxesSubplot at 0x7fc1629b9850>"
      ]
     },
     "execution_count": 36,
     "metadata": {},
     "output_type": "execute_result"
    },
    {
     "data": {
      "image/png": "[encoded data removed]",
      "text/plain": [
       "<Figure size 432x288 with 1 Axes>"
      ]
     },
     "metadata": {
      "needs_background": "light"
     },
     "output_type": "display_data"
    }
   ],
   "source": [
    "df.ratio=df.fundedamnt/df.loanamnt.astype(float,3)\n",
    "df.ratio.hist(bins=100)"
   ]
  },
  {
   "cell_type": "code",
   "execution_count": 37,
   "metadata": {},
   "outputs": [],
   "source": [
    "df.drop('fundedamnt',axis=1,inplace=True)"
   ]
  },
  {
   "cell_type": "markdown",
   "metadata": {},
   "source": [
    "#### histogram"
   ]
  },
  {
   "cell_type": "code",
   "execution_count": 38,
   "metadata": {},
   "outputs": [
    {
     "data": {
      "text/plain": [
       "<matplotlib.axes._subplots.AxesSubplot at 0x7fc1b9f9b280>"
      ]
     },
     "execution_count": 38,
     "metadata": {},
     "output_type": "execute_result"
    },
    {
     "data": {
      "image/png": "[encoded data removed]",
      "text/plain": [
       "<Figure size 432x288 with 1 Axes>"
      ]
     },
     "metadata": {
      "needs_background": "light"
     },
     "output_type": "display_data"
    }
   ],
   "source": [
    "df.installment.hist(bins=100)\n",
    "#150~380"
   ]
  },
  {
   "cell_type": "markdown",
   "metadata": {},
   "source": [
    "#### mean response"
   ]
  },
  {
   "cell_type": "code",
   "execution_count": 39,
   "metadata": {},
   "outputs": [
    {
     "data": {
      "text/plain": [
       "Fully Paid            283148\n",
       "Charged Off            74151\n",
       "Current                72512\n",
       "Late (31-120 days)      2739\n",
       "In Grace Period         1217\n",
       "Late (16-30 days)        633\n",
       "Default                    7\n",
       "Name: loanstatus, dtype: int64"
      ]
     },
     "execution_count": 39,
     "metadata": {},
     "output_type": "execute_result"
    }
   ],
   "source": [
    "df.loanstatus.value_counts()"
   ]
  },
  {
   "cell_type": "code",
   "execution_count": 40,
   "metadata": {},
   "outputs": [],
   "source": [
    "df_select=df.query('loanstatus==\"Fully Paid\" or loanstatus==\"Charged Off\"')"
   ]
  },
  {
   "cell_type": "code",
   "execution_count": 41,
   "metadata": {},
   "outputs": [
    {
     "name": "stderr",
     "output_type": "stream",
     "text": [
      "/Users/xrli/opt/anaconda3/lib/python3.8/site-packages/pandas/core/generic.py:5303: SettingWithCopyWarning: \n",
      "A value is trying to be set on a copy of a slice from a DataFrame.\n",
      "Try using .loc[row_indexer,col_indexer] = value instead\n",
      "\n",
      "See the caveats in the documentation: https://pandas.pydata.org/pandas-docs/stable/user_guide/indexing.html#returning-a-view-versus-a-copy\n",
      "  self[name] = value\n"
     ]
    },
    {
     "data": {
      "text/plain": [
       "0    283148\n",
       "1     74151\n",
       "Name: loanstatus, dtype: int64"
      ]
     },
     "execution_count": 41,
     "metadata": {},
     "output_type": "execute_result"
    }
   ],
   "source": [
    "df_select.loanstatus=df_select.loanstatus.map({\"Charged Off\": 1, \"Fully Paid\": 0})\n",
    "df_select.loanstatus.value_counts()"
   ]
  },
  {
   "cell_type": "markdown",
   "metadata": {},
   "source": [
    "#### categorical data vs loanstatus"
   ]
  },
  {
   "cell_type": "code",
   "execution_count": 42,
   "metadata": {},
   "outputs": [
    {
     "data": {
      "text/plain": [
       "['accnowdelinq',\n",
       " 'accopenpast24mths',\n",
       " 'allutil',\n",
       " 'annualinc',\n",
       " 'annualincjoint',\n",
       " 'avgcurbal',\n",
       " 'bcopentobuy',\n",
       " 'bcutil',\n",
       " 'chargeoffwithin12mths',\n",
       " 'collections12mthsexmed',\n",
       " 'delinq2yrs',\n",
       " 'delinqamnt',\n",
       " 'dti',\n",
       " 'dtijoint',\n",
       " 'ficorangehigh',\n",
       " 'ficorangelow',\n",
       " 'fundedamnt',\n",
       " 'ilutil',\n",
       " 'inqfi',\n",
       " 'inqlast12m',\n",
       " 'inqlast6mths',\n",
       " 'installment',\n",
       " 'loanamnt',\n",
       " 'maxbalbc',\n",
       " 'mortacc',\n",
       " 'mosinoldilacct',\n",
       " 'mosinoldrevtlop',\n",
       " 'mosinrcntrevtlop',\n",
       " 'mosinrcnttl',\n",
       " 'mthssincelastdelinq',\n",
       " 'mthssincelastmajorderog',\n",
       " 'mthssincelastrecord',\n",
       " 'mthssincercntil',\n",
       " 'mthssincerecentbc',\n",
       " 'mthssincerecentbcdlq',\n",
       " 'mthssincerecentinq',\n",
       " 'mthssincerecentrevoldelinq',\n",
       " 'numacctsever120pd',\n",
       " 'numactvbctl',\n",
       " 'numactvrevtl',\n",
       " 'numbcsats',\n",
       " 'numbctl',\n",
       " 'numiltl',\n",
       " 'numoprevtl',\n",
       " 'numrevaccts',\n",
       " 'numrevtlbalgt0',\n",
       " 'numsats',\n",
       " 'numtl120dpd2m',\n",
       " 'numtl30dpd',\n",
       " 'numtl90gdpd24m',\n",
       " 'numtloppast12m',\n",
       " 'openacc',\n",
       " 'openacc6m',\n",
       " 'openactil',\n",
       " 'openil12m',\n",
       " 'openil24m',\n",
       " 'openrv12m',\n",
       " 'openrv24m',\n",
       " 'pcttlnvrdlq',\n",
       " 'percentbcgt75',\n",
       " 'pubrec',\n",
       " 'pubrecbankruptcies',\n",
       " 'revolbal',\n",
       " 'taxliens',\n",
       " 'totalacc',\n",
       " 'totalbalexmort',\n",
       " 'totalbalil',\n",
       " 'totalbclimit',\n",
       " 'totalcutl',\n",
       " 'totalilhighcreditlimit',\n",
       " 'totalrevhilim',\n",
       " 'totcollamt',\n",
       " 'totcurbal',\n",
       " 'tothicredlim']"
      ]
     },
     "execution_count": 42,
     "metadata": {},
     "output_type": "execute_result"
    }
   ],
   "source": [
    "sorted(num_feature)"
   ]
  },
  {
   "cell_type": "code",
   "execution_count": 43,
   "metadata": {},
   "outputs": [
    {
     "data": {
      "text/plain": [
       "10"
      ]
     },
     "execution_count": 43,
     "metadata": {},
     "output_type": "execute_result"
    }
   ],
   "source": [
    "dummy_list = ['grade', 'subgrade','addrstate',\n",
    "              'homeownership', 'emplength',\n",
    "              'verificationstatus','applicationtype', 'initialliststatus',\n",
    "              'delinq2yrs','openacc']\n",
    "              \n",
    "n = len(dummy_list);n"
   ]
  },
  {
   "cell_type": "code",
   "execution_count": 44,
   "metadata": {},
   "outputs": [
    {
     "data": {
      "text/plain": [
       "array(['A1', 'A2', 'A3', 'A4', 'A5', 'B1', 'B2', 'B3', 'B4', 'B5', 'C1',\n",
       "       'C2', 'C3', 'C4', 'C5', 'D1', 'D2', 'D3', 'D4', 'D5', 'E1', 'E2',\n",
       "       'E3', 'E4', 'E5', 'F1', 'F2', 'F3', 'F4', 'F5', 'G1', 'G2', 'G3',\n",
       "       'G4', 'G5'], dtype=object)"
      ]
     },
     "execution_count": 44,
     "metadata": {},
     "output_type": "execute_result"
    }
   ],
   "source": [
    "np.sort(df_select.subgrade.unique())"
   ]
  },
  {
   "cell_type": "code",
   "execution_count": 45,
   "metadata": {},
   "outputs": [
    {
     "data": {
      "text/plain": [
       "10+ years    121143\n",
       "2 years       32942\n",
       "3 years       28847\n",
       "< 1 year      26763\n",
       "1 year        24353\n",
       "5 years       21929\n",
       "4 years       21287\n",
       "8 years       15556\n",
       "6 years       15313\n",
       "9 years       13929\n",
       "7 years       11604\n",
       "Name: emplength, dtype: int64"
      ]
     },
     "execution_count": 45,
     "metadata": {},
     "output_type": "execute_result"
    }
   ],
   "source": [
    "df_select.emplength.value_counts()"
   ]
  },
  {
   "cell_type": "code",
   "execution_count": 46,
   "metadata": {},
   "outputs": [],
   "source": [
    "df_select.emplength=df_select.emplength.map({\"10+ years\":10, \"< 1 year\":0, \n",
    "                                             \"1 year\":1, \"2 years\":2, \"3 years\":3, \"4 years\":4, \"5 years\":5,\n",
    "                                             \"6 years\":6, \"7 years\":7, \"8 years\":8, \"9 years\":9})"
   ]
  },
  {
   "cell_type": "code",
   "execution_count": 47,
   "metadata": {},
   "outputs": [
    {
     "data": {
      "text/plain": [
       "10.0    121143\n",
       "2.0      32942\n",
       "3.0      28847\n",
       "0.0      26763\n",
       "1.0      24353\n",
       "5.0      21929\n",
       "4.0      21287\n",
       "8.0      15556\n",
       "6.0      15313\n",
       "9.0      13929\n",
       "7.0      11604\n",
       "Name: emplength, dtype: int64"
      ]
     },
     "execution_count": 47,
     "metadata": {},
     "output_type": "execute_result"
    }
   ],
   "source": [
    "df_select.emplength.value_counts()"
   ]
  },
  {
   "cell_type": "code",
   "execution_count": 48,
   "metadata": {},
   "outputs": [
    {
     "data": {
      "image/png": "[encoded data removed]",
      "text/plain": [
       "<Figure size 1296x1080 with 9 Axes>"
      ]
     },
     "metadata": {
      "needs_background": "light"
     },
     "output_type": "display_data"
    }
   ],
   "source": [
    "fig, axes = plt.subplots(3, 3, figsize=(18, 15))\n",
    "\n",
    "i=0\n",
    "m=0\n",
    "for i in range(len(dummy_list)-1):\n",
    "    while m<3:\n",
    "        n=0\n",
    "        while n<3:\n",
    "            sns.barplot(ax=axes[m, n], data=df_select, x=dummy_list[i], y='loanstatus',\n",
    "                        order=np.sort(df_select[dummy_list[i]].unique()))\n",
    "            i=i+1\n",
    "            n=n+1\n",
    "        m=m+1"
   ]
  },
  {
   "cell_type": "code",
   "execution_count": 49,
   "metadata": {},
   "outputs": [],
   "source": [
    "# higher grade -> higher chances of default, applies to subgrade as well.\n",
    "# other,rent > mortage, own -> higher chances of default\n",
    "# shorter length of employmnet not necessatily result in higher chances of getting default.\n",
    "# why verified has higher chances of default?\n",
    "# why joint app has higher chances of default?"
   ]
  },
  {
   "cell_type": "markdown",
   "metadata": {},
   "source": [
    "#### numerical data vs default rate"
   ]
  },
  {
   "cell_type": "code",
   "execution_count": 50,
   "metadata": {},
   "outputs": [
    {
     "data": {
      "text/plain": [
       "['accnowdelinq',\n",
       " 'accopenpast24mths',\n",
       " 'allutil',\n",
       " 'annualinc',\n",
       " 'annualincjoint',\n",
       " 'avgcurbal',\n",
       " 'bcopentobuy',\n",
       " 'bcutil',\n",
       " 'chargeoffwithin12mths',\n",
       " 'collections12mthsexmed',\n",
       " 'delinq2yrs',\n",
       " 'delinqamnt',\n",
       " 'dti',\n",
       " 'dtijoint',\n",
       " 'ficorangehigh',\n",
       " 'ficorangelow',\n",
       " 'fundedamnt',\n",
       " 'ilutil',\n",
       " 'inqfi',\n",
       " 'inqlast12m',\n",
       " 'inqlast6mths',\n",
       " 'installment',\n",
       " 'loanamnt',\n",
       " 'maxbalbc',\n",
       " 'mortacc',\n",
       " 'mosinoldilacct',\n",
       " 'mosinoldrevtlop',\n",
       " 'mosinrcntrevtlop',\n",
       " 'mosinrcnttl',\n",
       " 'mthssincelastdelinq',\n",
       " 'mthssincelastmajorderog',\n",
       " 'mthssincelastrecord',\n",
       " 'mthssincercntil',\n",
       " 'mthssincerecentbc',\n",
       " 'mthssincerecentbcdlq',\n",
       " 'mthssincerecentinq',\n",
       " 'mthssincerecentrevoldelinq',\n",
       " 'numacctsever120pd',\n",
       " 'numactvbctl',\n",
       " 'numactvrevtl',\n",
       " 'numbcsats',\n",
       " 'numbctl',\n",
       " 'numiltl',\n",
       " 'numoprevtl',\n",
       " 'numrevaccts',\n",
       " 'numrevtlbalgt0',\n",
       " 'numsats',\n",
       " 'numtl120dpd2m',\n",
       " 'numtl30dpd',\n",
       " 'numtl90gdpd24m',\n",
       " 'numtloppast12m',\n",
       " 'openacc',\n",
       " 'openacc6m',\n",
       " 'openactil',\n",
       " 'openil12m',\n",
       " 'openil24m',\n",
       " 'openrv12m',\n",
       " 'openrv24m',\n",
       " 'pcttlnvrdlq',\n",
       " 'percentbcgt75',\n",
       " 'pubrec',\n",
       " 'pubrecbankruptcies',\n",
       " 'revolbal',\n",
       " 'taxliens',\n",
       " 'totalacc',\n",
       " 'totalbalexmort',\n",
       " 'totalbalil',\n",
       " 'totalbclimit',\n",
       " 'totalcutl',\n",
       " 'totalilhighcreditlimit',\n",
       " 'totalrevhilim',\n",
       " 'totcollamt',\n",
       " 'totcurbal',\n",
       " 'tothicredlim']"
      ]
     },
     "execution_count": 50,
     "metadata": {},
     "output_type": "execute_result"
    }
   ],
   "source": [
    "num_feature=sorted(num_feature)\n",
    "num_feature"
   ]
  },
  {
   "cell_type": "code",
   "execution_count": 51,
   "metadata": {},
   "outputs": [
    {
     "data": {
      "text/plain": [
       "74"
      ]
     },
     "execution_count": 51,
     "metadata": {},
     "output_type": "execute_result"
    }
   ],
   "source": [
    "len(num_feature)"
   ]
  },
  {
   "cell_type": "code",
   "execution_count": null,
   "metadata": {},
   "outputs": [],
   "source": []
  }
 ],
 "metadata": {
  "kernelspec": {
   "display_name": "Python 3",
   "language": "python",
   "name": "python3"
  },
  "language_info": {
   "codemirror_mode": {
    "name": "ipython",
    "version": 3
   },
   "file_extension": ".py",
   "mimetype": "text/x-python",
   "name": "python",
   "nbconvert_exporter": "python",
   "pygments_lexer": "ipython3",
   "version": "3.8.3"
  }
 },
 "nbformat": 4,
 "nbformat_minor": 2
}
