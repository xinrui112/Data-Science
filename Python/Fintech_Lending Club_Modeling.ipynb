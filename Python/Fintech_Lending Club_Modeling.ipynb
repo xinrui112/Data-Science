{
 "cells": [
  {
   "cell_type": "code",
   "execution_count": 1,
   "metadata": {},
   "outputs": [],
   "source": [
    "import pandas as pd\n",
    "import numpy as np\n",
    "import matplotlib.pyplot as plt\n",
    "%matplotlib inline\n",
    "import seaborn as sns\n",
    "import xgboost as xgb\n",
    "import requests,json"
   ]
  },
  {
   "cell_type": "code",
   "execution_count": 2,
   "metadata": {},
   "outputs": [],
   "source": [
    "import gc\n",
    "gc.enable()"
   ]
  },
  {
   "cell_type": "markdown",
   "metadata": {},
   "source": [
    "### 1. Load Dataset"
   ]
  },
  {
   "cell_type": "code",
   "execution_count": 3,
   "metadata": {},
   "outputs": [
    {
     "name": "stderr",
     "output_type": "stream",
     "text": [
      "/Users/xrli/opt/anaconda3/lib/python3.8/site-packages/IPython/core/interactiveshell.py:3071: DtypeWarning: Columns (39,71,104) have mixed types.Specify dtype option on import or set low_memory=False.\n",
      "  has_raised = await self.run_ast_nodes(code_ast.body, cell_name,\n"
     ]
    }
   ],
   "source": [
    "df=pd.read_csv(\"loan_2016.csv\")"
   ]
  },
  {
   "cell_type": "code",
   "execution_count": 4,
   "metadata": {},
   "outputs": [
    {
     "data": {
      "text/plain": [
       "(434415, 108)"
      ]
     },
     "execution_count": 4,
     "metadata": {},
     "output_type": "execute_result"
    }
   ],
   "source": [
    "df.shape"
   ]
  },
  {
   "cell_type": "code",
   "execution_count": 5,
   "metadata": {},
   "outputs": [
    {
     "data": {
      "text/html": [
       "<div>\n",
       "<style scoped>\n",
       "    .dataframe tbody tr th:only-of-type {\n",
       "        vertical-align: middle;\n",
       "    }\n",
       "\n",
       "    .dataframe tbody tr th {\n",
       "        vertical-align: top;\n",
       "    }\n",
       "\n",
       "    .dataframe thead th {\n",
       "        text-align: right;\n",
       "    }\n",
       "</style>\n",
       "<table border=\"1\" class=\"dataframe\">\n",
       "  <thead>\n",
       "    <tr style=\"text-align: right;\">\n",
       "      <th></th>\n",
       "      <th>inqlast12m</th>\n",
       "      <th>earliestcrline</th>\n",
       "      <th>secappficorangehigh</th>\n",
       "      <th>numactvrevtl</th>\n",
       "      <th>totcurbal</th>\n",
       "      <th>maxbalbc</th>\n",
       "      <th>mosinoldrevtlop</th>\n",
       "      <th>annualincjoint</th>\n",
       "      <th>term</th>\n",
       "      <th>verificationstatus</th>\n",
       "      <th>...</th>\n",
       "      <th>delinqamnt</th>\n",
       "      <th>emplength</th>\n",
       "      <th>numrevtlbalgt0</th>\n",
       "      <th>numiltl</th>\n",
       "      <th>totalbclimit</th>\n",
       "      <th>ficorangehigh</th>\n",
       "      <th>verificationstatusjoint</th>\n",
       "      <th>totalacc</th>\n",
       "      <th>issued</th>\n",
       "      <th>loanstatus</th>\n",
       "    </tr>\n",
       "  </thead>\n",
       "  <tbody>\n",
       "    <tr>\n",
       "      <th>0</th>\n",
       "      <td>2.0</td>\n",
       "      <td>Mar-2002</td>\n",
       "      <td>NaN</td>\n",
       "      <td>4.0</td>\n",
       "      <td>221036.0</td>\n",
       "      <td>3381.0</td>\n",
       "      <td>168.0</td>\n",
       "      <td>NaN</td>\n",
       "      <td>36 months</td>\n",
       "      <td>Verified</td>\n",
       "      <td>...</td>\n",
       "      <td>0.0</td>\n",
       "      <td>6 years</td>\n",
       "      <td>4.0</td>\n",
       "      <td>7.0</td>\n",
       "      <td>7900.0</td>\n",
       "      <td>669.0</td>\n",
       "      <td>NaN</td>\n",
       "      <td>16.0</td>\n",
       "      <td>Mar-2016</td>\n",
       "      <td>Fully Paid</td>\n",
       "    </tr>\n",
       "    <tr>\n",
       "      <th>1</th>\n",
       "      <td>2.0</td>\n",
       "      <td>Nov-1999</td>\n",
       "      <td>NaN</td>\n",
       "      <td>5.0</td>\n",
       "      <td>52953.0</td>\n",
       "      <td>3789.0</td>\n",
       "      <td>196.0</td>\n",
       "      <td>NaN</td>\n",
       "      <td>36 months</td>\n",
       "      <td>Source Verified</td>\n",
       "      <td>...</td>\n",
       "      <td>0.0</td>\n",
       "      <td>9 years</td>\n",
       "      <td>5.0</td>\n",
       "      <td>3.0</td>\n",
       "      <td>15900.0</td>\n",
       "      <td>669.0</td>\n",
       "      <td>NaN</td>\n",
       "      <td>13.0</td>\n",
       "      <td>Mar-2016</td>\n",
       "      <td>Fully Paid</td>\n",
       "    </tr>\n",
       "    <tr>\n",
       "      <th>2</th>\n",
       "      <td>2.0</td>\n",
       "      <td>Jan-2005</td>\n",
       "      <td>NaN</td>\n",
       "      <td>3.0</td>\n",
       "      <td>62125.0</td>\n",
       "      <td>854.0</td>\n",
       "      <td>84.0</td>\n",
       "      <td>NaN</td>\n",
       "      <td>36 months</td>\n",
       "      <td>Source Verified</td>\n",
       "      <td>...</td>\n",
       "      <td>0.0</td>\n",
       "      <td>5 years</td>\n",
       "      <td>3.0</td>\n",
       "      <td>4.0</td>\n",
       "      <td>22000.0</td>\n",
       "      <td>739.0</td>\n",
       "      <td>NaN</td>\n",
       "      <td>8.0</td>\n",
       "      <td>Mar-2016</td>\n",
       "      <td>Fully Paid</td>\n",
       "    </tr>\n",
       "    <tr>\n",
       "      <th>3</th>\n",
       "      <td>2.0</td>\n",
       "      <td>Aug-1995</td>\n",
       "      <td>NaN</td>\n",
       "      <td>8.0</td>\n",
       "      <td>11565.0</td>\n",
       "      <td>4350.0</td>\n",
       "      <td>247.0</td>\n",
       "      <td>NaN</td>\n",
       "      <td>60 months</td>\n",
       "      <td>Not Verified</td>\n",
       "      <td>...</td>\n",
       "      <td>0.0</td>\n",
       "      <td>10+ years</td>\n",
       "      <td>8.0</td>\n",
       "      <td>3.0</td>\n",
       "      <td>17000.0</td>\n",
       "      <td>674.0</td>\n",
       "      <td>NaN</td>\n",
       "      <td>24.0</td>\n",
       "      <td>Mar-2016</td>\n",
       "      <td>Charged Off</td>\n",
       "    </tr>\n",
       "    <tr>\n",
       "      <th>4</th>\n",
       "      <td>1.0</td>\n",
       "      <td>Nov-1996</td>\n",
       "      <td>NaN</td>\n",
       "      <td>13.0</td>\n",
       "      <td>310728.0</td>\n",
       "      <td>6819.0</td>\n",
       "      <td>232.0</td>\n",
       "      <td>NaN</td>\n",
       "      <td>60 months</td>\n",
       "      <td>Verified</td>\n",
       "      <td>...</td>\n",
       "      <td>0.0</td>\n",
       "      <td>10+ years</td>\n",
       "      <td>10.0</td>\n",
       "      <td>4.0</td>\n",
       "      <td>51500.0</td>\n",
       "      <td>679.0</td>\n",
       "      <td>NaN</td>\n",
       "      <td>26.0</td>\n",
       "      <td>Mar-2016</td>\n",
       "      <td>Fully Paid</td>\n",
       "    </tr>\n",
       "  </tbody>\n",
       "</table>\n",
       "<p>5 rows × 108 columns</p>\n",
       "</div>"
      ],
      "text/plain": [
       "   inqlast12m earliestcrline  secappficorangehigh  numactvrevtl  totcurbal  \\\n",
       "0         2.0       Mar-2002                  NaN           4.0   221036.0   \n",
       "1         2.0       Nov-1999                  NaN           5.0    52953.0   \n",
       "2         2.0       Jan-2005                  NaN           3.0    62125.0   \n",
       "3         2.0       Aug-1995                  NaN           8.0    11565.0   \n",
       "4         1.0       Nov-1996                  NaN          13.0   310728.0   \n",
       "\n",
       "   maxbalbc  mosinoldrevtlop  annualincjoint        term verificationstatus  \\\n",
       "0    3381.0            168.0             NaN   36 months           Verified   \n",
       "1    3789.0            196.0             NaN   36 months    Source Verified   \n",
       "2     854.0             84.0             NaN   36 months    Source Verified   \n",
       "3    4350.0            247.0             NaN   60 months       Not Verified   \n",
       "4    6819.0            232.0             NaN   60 months           Verified   \n",
       "\n",
       "   ...  delinqamnt  emplength  numrevtlbalgt0  numiltl  totalbclimit  \\\n",
       "0  ...         0.0    6 years             4.0      7.0        7900.0   \n",
       "1  ...         0.0    9 years             5.0      3.0       15900.0   \n",
       "2  ...         0.0    5 years             3.0      4.0       22000.0   \n",
       "3  ...         0.0  10+ years             8.0      3.0       17000.0   \n",
       "4  ...         0.0  10+ years            10.0      4.0       51500.0   \n",
       "\n",
       "   ficorangehigh  verificationstatusjoint  totalacc    issued   loanstatus  \n",
       "0          669.0                      NaN      16.0  Mar-2016   Fully Paid  \n",
       "1          669.0                      NaN      13.0  Mar-2016   Fully Paid  \n",
       "2          739.0                      NaN       8.0  Mar-2016   Fully Paid  \n",
       "3          674.0                      NaN      24.0  Mar-2016  Charged Off  \n",
       "4          679.0                      NaN      26.0  Mar-2016   Fully Paid  \n",
       "\n",
       "[5 rows x 108 columns]"
      ]
     },
     "execution_count": 5,
     "metadata": {},
     "output_type": "execute_result"
    }
   ],
   "source": [
    "df.head(5)"
   ]
  },
  {
   "cell_type": "code",
   "execution_count": 6,
   "metadata": {},
   "outputs": [
    {
     "data": {
      "text/plain": [
       "inqlast12m                 float64\n",
       "earliestcrline              object\n",
       "secappficorangehigh        float64\n",
       "numactvrevtl               float64\n",
       "totcurbal                  float64\n",
       "                            ...   \n",
       "ficorangehigh              float64\n",
       "verificationstatusjoint     object\n",
       "totalacc                   float64\n",
       "issued                      object\n",
       "loanstatus                  object\n",
       "Length: 108, dtype: object"
      ]
     },
     "execution_count": 6,
     "metadata": {},
     "output_type": "execute_result"
    }
   ],
   "source": [
    "df.dtypes"
   ]
  },
  {
   "cell_type": "markdown",
   "metadata": {},
   "source": [
    "### 2. Prepare Data"
   ]
  },
  {
   "cell_type": "markdown",
   "metadata": {},
   "source": [
    "### 1.1 Select features"
   ]
  },
  {
   "cell_type": "code",
   "execution_count": 7,
   "metadata": {},
   "outputs": [],
   "source": [
    "df=df.dropna(axis='columns',how='all')"
   ]
  },
  {
   "cell_type": "code",
   "execution_count": 8,
   "metadata": {},
   "outputs": [
    {
     "data": {
      "text/plain": [
       "array(['inqlast12m', 'earliestcrline', 'numactvrevtl', 'totcurbal',\n",
       "       'maxbalbc', 'mosinoldrevtlop', 'annualincjoint', 'term',\n",
       "       'verificationstatus', 'mthssincercntil', 'revolbal',\n",
       "       'accopenpast24mths', 'percentbcgt75', 'mthssincerecentrevoldelinq',\n",
       "       'numbctl', 'mosinrcntrevtlop', 'numacctsever120pd',\n",
       "       'mthssincelastdelinq', 'installment', 'mthssincerecentbc',\n",
       "       'totcollamt', 'addrstate', 'numsats', 'mthssincelastmajorderog',\n",
       "       'totalilhighcreditlimit', 'subgrade', 'inqfi', 'openactil',\n",
       "       'mthssincelastrecord', 'applicationtype', 'intrate',\n",
       "       'homeownership', 'revolutil', 'emptitle', 'mortacc', 'desc', 'dti',\n",
       "       'openil12m', 'purpose', 'openacc', 'numbcsats', 'numoprevtl',\n",
       "       'mosinrcnttl', 'openrv24m', 'openacc6m', 'totalbalil', 'totalcutl',\n",
       "       'totalbalexmort', 'bcutil', 'grade', 'ilutil', 'delinq2yrs',\n",
       "       'numtl30dpd', 'pcttlnvrdlq', 'mthssincerecentinq',\n",
       "       'numtloppast12m', 'loanamnt', 'collections12mthsexmed', 'zipcode',\n",
       "       'allutil', 'mthssincerecentbcdlq', 'id', 'mosinoldilacct',\n",
       "       'numrevaccts', 'numtl90gdpd24m', 'fundedamnt', 'pubrec',\n",
       "       'numactvbctl', 'dtijoint', 'ficorangelow', 'chargeoffwithin12mths',\n",
       "       'numtl120dpd2m', 'totalrevhilim', 'pubrecbankruptcies',\n",
       "       'bcopentobuy', 'taxliens', 'openrv12m', 'openil24m', 'annualinc',\n",
       "       'accnowdelinq', 'inqlast6mths', 'initialliststatus', 'avgcurbal',\n",
       "       'tothicredlim', 'delinqamnt', 'emplength', 'numrevtlbalgt0',\n",
       "       'numiltl', 'totalbclimit', 'ficorangehigh',\n",
       "       'verificationstatusjoint', 'totalacc', 'issued', 'loanstatus'],\n",
       "      dtype=object)"
      ]
     },
     "execution_count": 8,
     "metadata": {},
     "output_type": "execute_result"
    }
   ],
   "source": [
    "cols=df.columns.values\n",
    "cols"
   ]
  },
  {
   "cell_type": "code",
   "execution_count": 9,
   "metadata": {},
   "outputs": [],
   "source": [
    "num_feature=[]\n",
    "obj_feature=[]\n",
    "for col in cols:\n",
    "    if df[col].dtype == 'object':\n",
    "        obj_feature.append(col)\n",
    "    else:\n",
    "        num_feature.append(col)"
   ]
  },
  {
   "cell_type": "code",
   "execution_count": 10,
   "metadata": {},
   "outputs": [
    {
     "name": "stdout",
     "output_type": "stream",
     "text": [
      "74\n"
     ]
    },
    {
     "data": {
      "text/plain": [
       "['accnowdelinq',\n",
       " 'accopenpast24mths',\n",
       " 'allutil',\n",
       " 'annualinc',\n",
       " 'annualincjoint',\n",
       " 'avgcurbal',\n",
       " 'bcopentobuy',\n",
       " 'bcutil',\n",
       " 'chargeoffwithin12mths',\n",
       " 'collections12mthsexmed',\n",
       " 'delinq2yrs',\n",
       " 'delinqamnt',\n",
       " 'dti',\n",
       " 'dtijoint',\n",
       " 'ficorangehigh',\n",
       " 'ficorangelow',\n",
       " 'fundedamnt',\n",
       " 'ilutil',\n",
       " 'inqfi',\n",
       " 'inqlast12m',\n",
       " 'inqlast6mths',\n",
       " 'installment',\n",
       " 'loanamnt',\n",
       " 'maxbalbc',\n",
       " 'mortacc',\n",
       " 'mosinoldilacct',\n",
       " 'mosinoldrevtlop',\n",
       " 'mosinrcntrevtlop',\n",
       " 'mosinrcnttl',\n",
       " 'mthssincelastdelinq',\n",
       " 'mthssincelastmajorderog',\n",
       " 'mthssincelastrecord',\n",
       " 'mthssincercntil',\n",
       " 'mthssincerecentbc',\n",
       " 'mthssincerecentbcdlq',\n",
       " 'mthssincerecentinq',\n",
       " 'mthssincerecentrevoldelinq',\n",
       " 'numacctsever120pd',\n",
       " 'numactvbctl',\n",
       " 'numactvrevtl',\n",
       " 'numbcsats',\n",
       " 'numbctl',\n",
       " 'numiltl',\n",
       " 'numoprevtl',\n",
       " 'numrevaccts',\n",
       " 'numrevtlbalgt0',\n",
       " 'numsats',\n",
       " 'numtl120dpd2m',\n",
       " 'numtl30dpd',\n",
       " 'numtl90gdpd24m',\n",
       " 'numtloppast12m',\n",
       " 'openacc',\n",
       " 'openacc6m',\n",
       " 'openactil',\n",
       " 'openil12m',\n",
       " 'openil24m',\n",
       " 'openrv12m',\n",
       " 'openrv24m',\n",
       " 'pcttlnvrdlq',\n",
       " 'percentbcgt75',\n",
       " 'pubrec',\n",
       " 'pubrecbankruptcies',\n",
       " 'revolbal',\n",
       " 'taxliens',\n",
       " 'totalacc',\n",
       " 'totalbalexmort',\n",
       " 'totalbalil',\n",
       " 'totalbclimit',\n",
       " 'totalcutl',\n",
       " 'totalilhighcreditlimit',\n",
       " 'totalrevhilim',\n",
       " 'totcollamt',\n",
       " 'totcurbal',\n",
       " 'tothicredlim']"
      ]
     },
     "execution_count": 10,
     "metadata": {},
     "output_type": "execute_result"
    }
   ],
   "source": [
    "print (len(num_feature))\n",
    "sorted(num_feature)"
   ]
  },
  {
   "cell_type": "code",
   "execution_count": 11,
   "metadata": {},
   "outputs": [
    {
     "name": "stdout",
     "output_type": "stream",
     "text": [
      "20\n"
     ]
    },
    {
     "data": {
      "text/plain": [
       "['addrstate',\n",
       " 'applicationtype',\n",
       " 'desc',\n",
       " 'earliestcrline',\n",
       " 'emplength',\n",
       " 'emptitle',\n",
       " 'grade',\n",
       " 'homeownership',\n",
       " 'id',\n",
       " 'initialliststatus',\n",
       " 'intrate',\n",
       " 'issued',\n",
       " 'loanstatus',\n",
       " 'purpose',\n",
       " 'revolutil',\n",
       " 'subgrade',\n",
       " 'term',\n",
       " 'verificationstatus',\n",
       " 'verificationstatusjoint',\n",
       " 'zipcode']"
      ]
     },
     "execution_count": 11,
     "metadata": {},
     "output_type": "execute_result"
    }
   ],
   "source": [
    "print (len(obj_feature))\n",
    "sorted(obj_feature)"
   ]
  },
  {
   "cell_type": "markdown",
   "metadata": {},
   "source": [
    "#### remove fundedamnt & 'desc'"
   ]
  },
  {
   "cell_type": "code",
   "execution_count": 12,
   "metadata": {},
   "outputs": [],
   "source": [
    "num_feature.remove('fundedamnt')"
   ]
  },
  {
   "cell_type": "code",
   "execution_count": 13,
   "metadata": {},
   "outputs": [
    {
     "name": "stdout",
     "output_type": "stream",
     "text": [
      "19\n"
     ]
    },
    {
     "data": {
      "text/plain": [
       "['earliestcrline',\n",
       " 'term',\n",
       " 'verificationstatus',\n",
       " 'addrstate',\n",
       " 'subgrade',\n",
       " 'applicationtype',\n",
       " 'intrate',\n",
       " 'homeownership',\n",
       " 'revolutil',\n",
       " 'emptitle',\n",
       " 'purpose',\n",
       " 'grade',\n",
       " 'zipcode',\n",
       " 'id',\n",
       " 'initialliststatus',\n",
       " 'emplength',\n",
       " 'verificationstatusjoint',\n",
       " 'issued',\n",
       " 'loanstatus']"
      ]
     },
     "execution_count": 13,
     "metadata": {},
     "output_type": "execute_result"
    }
   ],
   "source": [
    "obj_feature.remove('desc')\n",
    "print (len(obj_feature))\n",
    "obj_feature"
   ]
  },
  {
   "cell_type": "markdown",
   "metadata": {},
   "source": [
    "#### 'id','loanstatus','issued'"
   ]
  },
  {
   "cell_type": "code",
   "execution_count": 14,
   "metadata": {},
   "outputs": [],
   "source": [
    "to_remove=[13,17,18]\n",
    "#'id','issued', 'loanstatus'"
   ]
  },
  {
   "cell_type": "code",
   "execution_count": 15,
   "metadata": {},
   "outputs": [
    {
     "name": "stdout",
     "output_type": "stream",
     "text": [
      "16\n"
     ]
    },
    {
     "data": {
      "text/plain": [
       "['addrstate',\n",
       " 'applicationtype',\n",
       " 'earliestcrline',\n",
       " 'emplength',\n",
       " 'emptitle',\n",
       " 'grade',\n",
       " 'homeownership',\n",
       " 'initialliststatus',\n",
       " 'intrate',\n",
       " 'purpose',\n",
       " 'revolutil',\n",
       " 'subgrade',\n",
       " 'term',\n",
       " 'verificationstatus',\n",
       " 'verificationstatusjoint',\n",
       " 'zipcode']"
      ]
     },
     "execution_count": 15,
     "metadata": {},
     "output_type": "execute_result"
    }
   ],
   "source": [
    "obj_feature=np.delete(obj_feature,to_remove).tolist()\n",
    "print (len(obj_feature))\n",
    "sorted(obj_feature)"
   ]
  },
  {
   "cell_type": "markdown",
   "metadata": {},
   "source": [
    "#### all_feature"
   ]
  },
  {
   "cell_type": "code",
   "execution_count": 16,
   "metadata": {},
   "outputs": [
    {
     "name": "stdout",
     "output_type": "stream",
     "text": [
      "89\n"
     ]
    },
    {
     "data": {
      "text/plain": [
       "['accnowdelinq',\n",
       " 'accopenpast24mths',\n",
       " 'addrstate',\n",
       " 'allutil',\n",
       " 'annualinc',\n",
       " 'annualincjoint',\n",
       " 'applicationtype',\n",
       " 'avgcurbal',\n",
       " 'bcopentobuy',\n",
       " 'bcutil',\n",
       " 'chargeoffwithin12mths',\n",
       " 'collections12mthsexmed',\n",
       " 'delinq2yrs',\n",
       " 'delinqamnt',\n",
       " 'dti',\n",
       " 'dtijoint',\n",
       " 'earliestcrline',\n",
       " 'emplength',\n",
       " 'emptitle',\n",
       " 'ficorangehigh',\n",
       " 'ficorangelow',\n",
       " 'grade',\n",
       " 'homeownership',\n",
       " 'ilutil',\n",
       " 'initialliststatus',\n",
       " 'inqfi',\n",
       " 'inqlast12m',\n",
       " 'inqlast6mths',\n",
       " 'installment',\n",
       " 'intrate',\n",
       " 'loanamnt',\n",
       " 'maxbalbc',\n",
       " 'mortacc',\n",
       " 'mosinoldilacct',\n",
       " 'mosinoldrevtlop',\n",
       " 'mosinrcntrevtlop',\n",
       " 'mosinrcnttl',\n",
       " 'mthssincelastdelinq',\n",
       " 'mthssincelastmajorderog',\n",
       " 'mthssincelastrecord',\n",
       " 'mthssincercntil',\n",
       " 'mthssincerecentbc',\n",
       " 'mthssincerecentbcdlq',\n",
       " 'mthssincerecentinq',\n",
       " 'mthssincerecentrevoldelinq',\n",
       " 'numacctsever120pd',\n",
       " 'numactvbctl',\n",
       " 'numactvrevtl',\n",
       " 'numbcsats',\n",
       " 'numbctl',\n",
       " 'numiltl',\n",
       " 'numoprevtl',\n",
       " 'numrevaccts',\n",
       " 'numrevtlbalgt0',\n",
       " 'numsats',\n",
       " 'numtl120dpd2m',\n",
       " 'numtl30dpd',\n",
       " 'numtl90gdpd24m',\n",
       " 'numtloppast12m',\n",
       " 'openacc',\n",
       " 'openacc6m',\n",
       " 'openactil',\n",
       " 'openil12m',\n",
       " 'openil24m',\n",
       " 'openrv12m',\n",
       " 'openrv24m',\n",
       " 'pcttlnvrdlq',\n",
       " 'percentbcgt75',\n",
       " 'pubrec',\n",
       " 'pubrecbankruptcies',\n",
       " 'purpose',\n",
       " 'revolbal',\n",
       " 'revolutil',\n",
       " 'subgrade',\n",
       " 'taxliens',\n",
       " 'term',\n",
       " 'totalacc',\n",
       " 'totalbalexmort',\n",
       " 'totalbalil',\n",
       " 'totalbclimit',\n",
       " 'totalcutl',\n",
       " 'totalilhighcreditlimit',\n",
       " 'totalrevhilim',\n",
       " 'totcollamt',\n",
       " 'totcurbal',\n",
       " 'tothicredlim',\n",
       " 'verificationstatus',\n",
       " 'verificationstatusjoint',\n",
       " 'zipcode']"
      ]
     },
     "execution_count": 16,
     "metadata": {},
     "output_type": "execute_result"
    }
   ],
   "source": [
    "all_feature=obj_feature+num_feature\n",
    "print (len(all_feature))\n",
    "sorted(all_feature)"
   ]
  },
  {
   "cell_type": "code",
   "execution_count": 17,
   "metadata": {},
   "outputs": [
    {
     "data": {
      "text/html": [
       "<div>\n",
       "<style scoped>\n",
       "    .dataframe tbody tr th:only-of-type {\n",
       "        vertical-align: middle;\n",
       "    }\n",
       "\n",
       "    .dataframe tbody tr th {\n",
       "        vertical-align: top;\n",
       "    }\n",
       "\n",
       "    .dataframe thead th {\n",
       "        text-align: right;\n",
       "    }\n",
       "</style>\n",
       "<table border=\"1\" class=\"dataframe\">\n",
       "  <thead>\n",
       "    <tr style=\"text-align: right;\">\n",
       "      <th></th>\n",
       "      <th>earliestcrline</th>\n",
       "      <th>term</th>\n",
       "      <th>verificationstatus</th>\n",
       "      <th>addrstate</th>\n",
       "      <th>subgrade</th>\n",
       "      <th>applicationtype</th>\n",
       "      <th>intrate</th>\n",
       "      <th>homeownership</th>\n",
       "      <th>revolutil</th>\n",
       "      <th>emptitle</th>\n",
       "      <th>...</th>\n",
       "      <th>tothicredlim</th>\n",
       "      <th>delinqamnt</th>\n",
       "      <th>numrevtlbalgt0</th>\n",
       "      <th>numiltl</th>\n",
       "      <th>totalbclimit</th>\n",
       "      <th>ficorangehigh</th>\n",
       "      <th>totalacc</th>\n",
       "      <th>id</th>\n",
       "      <th>issued</th>\n",
       "      <th>loanstatus</th>\n",
       "    </tr>\n",
       "  </thead>\n",
       "  <tbody>\n",
       "    <tr>\n",
       "      <th>0</th>\n",
       "      <td>Mar-2002</td>\n",
       "      <td>36 months</td>\n",
       "      <td>Verified</td>\n",
       "      <td>FL</td>\n",
       "      <td>C1</td>\n",
       "      <td>Individual</td>\n",
       "      <td>11.99%</td>\n",
       "      <td>MORTGAGE</td>\n",
       "      <td>79.1%</td>\n",
       "      <td>LOGISTICS COORDINATOR</td>\n",
       "      <td>...</td>\n",
       "      <td>235600.0</td>\n",
       "      <td>0.0</td>\n",
       "      <td>4.0</td>\n",
       "      <td>7.0</td>\n",
       "      <td>7900.0</td>\n",
       "      <td>669.0</td>\n",
       "      <td>16.0</td>\n",
       "      <td>75710736</td>\n",
       "      <td>Mar-2016</td>\n",
       "      <td>Fully Paid</td>\n",
       "    </tr>\n",
       "    <tr>\n",
       "      <th>1</th>\n",
       "      <td>Nov-1999</td>\n",
       "      <td>36 months</td>\n",
       "      <td>Source Verified</td>\n",
       "      <td>CA</td>\n",
       "      <td>C5</td>\n",
       "      <td>Individual</td>\n",
       "      <td>15.31%</td>\n",
       "      <td>RENT</td>\n",
       "      <td>73.7%</td>\n",
       "      <td>Senior Case Assistant</td>\n",
       "      <td>...</td>\n",
       "      <td>58425.0</td>\n",
       "      <td>0.0</td>\n",
       "      <td>5.0</td>\n",
       "      <td>3.0</td>\n",
       "      <td>15900.0</td>\n",
       "      <td>669.0</td>\n",
       "      <td>13.0</td>\n",
       "      <td>76143686</td>\n",
       "      <td>Mar-2016</td>\n",
       "      <td>Fully Paid</td>\n",
       "    </tr>\n",
       "    <tr>\n",
       "      <th>2</th>\n",
       "      <td>Jan-2005</td>\n",
       "      <td>36 months</td>\n",
       "      <td>Source Verified</td>\n",
       "      <td>CA</td>\n",
       "      <td>B4</td>\n",
       "      <td>Individual</td>\n",
       "      <td>10.75%</td>\n",
       "      <td>RENT</td>\n",
       "      <td>8%</td>\n",
       "      <td>Vp</td>\n",
       "      <td>...</td>\n",
       "      <td>78840.0</td>\n",
       "      <td>0.0</td>\n",
       "      <td>3.0</td>\n",
       "      <td>4.0</td>\n",
       "      <td>22000.0</td>\n",
       "      <td>739.0</td>\n",
       "      <td>8.0</td>\n",
       "      <td>76143234</td>\n",
       "      <td>Mar-2016</td>\n",
       "      <td>Fully Paid</td>\n",
       "    </tr>\n",
       "    <tr>\n",
       "      <th>3</th>\n",
       "      <td>Aug-1995</td>\n",
       "      <td>60 months</td>\n",
       "      <td>Not Verified</td>\n",
       "      <td>NJ</td>\n",
       "      <td>C2</td>\n",
       "      <td>Individual</td>\n",
       "      <td>12.99%</td>\n",
       "      <td>RENT</td>\n",
       "      <td>37.1%</td>\n",
       "      <td>Administration</td>\n",
       "      <td>...</td>\n",
       "      <td>58967.0</td>\n",
       "      <td>0.0</td>\n",
       "      <td>8.0</td>\n",
       "      <td>3.0</td>\n",
       "      <td>17000.0</td>\n",
       "      <td>674.0</td>\n",
       "      <td>24.0</td>\n",
       "      <td>76022756</td>\n",
       "      <td>Mar-2016</td>\n",
       "      <td>Charged Off</td>\n",
       "    </tr>\n",
       "    <tr>\n",
       "      <th>4</th>\n",
       "      <td>Nov-1996</td>\n",
       "      <td>60 months</td>\n",
       "      <td>Verified</td>\n",
       "      <td>IL</td>\n",
       "      <td>D3</td>\n",
       "      <td>Individual</td>\n",
       "      <td>18.25%</td>\n",
       "      <td>MORTGAGE</td>\n",
       "      <td>63%</td>\n",
       "      <td>Electrician</td>\n",
       "      <td>...</td>\n",
       "      <td>355711.0</td>\n",
       "      <td>0.0</td>\n",
       "      <td>10.0</td>\n",
       "      <td>4.0</td>\n",
       "      <td>51500.0</td>\n",
       "      <td>679.0</td>\n",
       "      <td>26.0</td>\n",
       "      <td>76143291</td>\n",
       "      <td>Mar-2016</td>\n",
       "      <td>Fully Paid</td>\n",
       "    </tr>\n",
       "  </tbody>\n",
       "</table>\n",
       "<p>5 rows × 92 columns</p>\n",
       "</div>"
      ],
      "text/plain": [
       "  earliestcrline        term verificationstatus addrstate subgrade  \\\n",
       "0       Mar-2002   36 months           Verified        FL       C1   \n",
       "1       Nov-1999   36 months    Source Verified        CA       C5   \n",
       "2       Jan-2005   36 months    Source Verified        CA       B4   \n",
       "3       Aug-1995   60 months       Not Verified        NJ       C2   \n",
       "4       Nov-1996   60 months           Verified        IL       D3   \n",
       "\n",
       "  applicationtype  intrate homeownership revolutil               emptitle  \\\n",
       "0      Individual   11.99%      MORTGAGE     79.1%  LOGISTICS COORDINATOR   \n",
       "1      Individual   15.31%          RENT     73.7%  Senior Case Assistant   \n",
       "2      Individual   10.75%          RENT        8%                     Vp   \n",
       "3      Individual   12.99%          RENT     37.1%         Administration   \n",
       "4      Individual   18.25%      MORTGAGE       63%           Electrician    \n",
       "\n",
       "   ... tothicredlim delinqamnt numrevtlbalgt0 numiltl totalbclimit  \\\n",
       "0  ...     235600.0        0.0            4.0     7.0       7900.0   \n",
       "1  ...      58425.0        0.0            5.0     3.0      15900.0   \n",
       "2  ...      78840.0        0.0            3.0     4.0      22000.0   \n",
       "3  ...      58967.0        0.0            8.0     3.0      17000.0   \n",
       "4  ...     355711.0        0.0           10.0     4.0      51500.0   \n",
       "\n",
       "  ficorangehigh  totalacc        id    issued   loanstatus  \n",
       "0         669.0      16.0  75710736  Mar-2016   Fully Paid  \n",
       "1         669.0      13.0  76143686  Mar-2016   Fully Paid  \n",
       "2         739.0       8.0  76143234  Mar-2016   Fully Paid  \n",
       "3         674.0      24.0  76022756  Mar-2016  Charged Off  \n",
       "4         679.0      26.0  76143291  Mar-2016   Fully Paid  \n",
       "\n",
       "[5 rows x 92 columns]"
      ]
     },
     "execution_count": 17,
     "metadata": {},
     "output_type": "execute_result"
    }
   ],
   "source": [
    "df=df[all_feature+['id','issued','loanstatus']]\n",
    "df.head()"
   ]
  },
  {
   "cell_type": "code",
   "execution_count": 18,
   "metadata": {},
   "outputs": [
    {
     "data": {
      "text/plain": [
       "(434415, 92)"
      ]
     },
     "execution_count": 18,
     "metadata": {},
     "output_type": "execute_result"
    }
   ],
   "source": [
    "df.shape"
   ]
  },
  {
   "cell_type": "markdown",
   "metadata": {},
   "source": [
    "### 1.2 Select rows"
   ]
  },
  {
   "cell_type": "markdown",
   "metadata": {},
   "source": [
    "#### only keep 36 months (term)"
   ]
  },
  {
   "cell_type": "code",
   "execution_count": 19,
   "metadata": {},
   "outputs": [
    {
     "data": {
      "text/plain": [
       " 36 months    323495\n",
       " 60 months    110912\n",
       "Name: term, dtype: int64"
      ]
     },
     "execution_count": 19,
     "metadata": {},
     "output_type": "execute_result"
    }
   ],
   "source": [
    "df.term.value_counts()"
   ]
  },
  {
   "cell_type": "code",
   "execution_count": 20,
   "metadata": {},
   "outputs": [
    {
     "data": {
      "text/plain": [
       "(323495, 92)"
      ]
     },
     "execution_count": 20,
     "metadata": {},
     "output_type": "execute_result"
    }
   ],
   "source": [
    "df=df.query(\"term== ' 36 months' \")\n",
    "df.shape"
   ]
  },
  {
   "cell_type": "markdown",
   "metadata": {},
   "source": [
    "#### only keep fully paid=0, charged off=1 and map"
   ]
  },
  {
   "cell_type": "code",
   "execution_count": 21,
   "metadata": {},
   "outputs": [
    {
     "data": {
      "text/plain": [
       "Fully Paid            239220\n",
       "Charged Off            49618\n",
       "Current                32451\n",
       "Late (31-120 days)      1312\n",
       "In Grace Period          598\n",
       "Late (16-30 days)        292\n",
       "Default                    4\n",
       "Name: loanstatus, dtype: int64"
      ]
     },
     "execution_count": 21,
     "metadata": {},
     "output_type": "execute_result"
    }
   ],
   "source": [
    "df.loanstatus.value_counts()"
   ]
  },
  {
   "cell_type": "code",
   "execution_count": 22,
   "metadata": {},
   "outputs": [
    {
     "data": {
      "text/plain": [
       "(288838, 92)"
      ]
     },
     "execution_count": 22,
     "metadata": {},
     "output_type": "execute_result"
    }
   ],
   "source": [
    "df=df.query(\"loanstatus== 'Fully Paid' or loanstatus== 'Charged Off' \")\n",
    "df.shape"
   ]
  },
  {
   "cell_type": "code",
   "execution_count": 23,
   "metadata": {},
   "outputs": [
    {
     "data": {
      "text/plain": [
       "0    239220\n",
       "1     49618\n",
       "Name: loanstatus, dtype: int64"
      ]
     },
     "execution_count": 23,
     "metadata": {},
     "output_type": "execute_result"
    }
   ],
   "source": [
    "df.loanstatus=df.loanstatus.map({\"Fully Paid\":0,\"Charged Off\":1})\n",
    "df.loanstatus.value_counts()"
   ]
  },
  {
   "cell_type": "code",
   "execution_count": 24,
   "metadata": {},
   "outputs": [
    {
     "data": {
      "text/plain": [
       "0    0.828215\n",
       "1    0.171785\n",
       "Name: loanstatus, dtype: float64"
      ]
     },
     "execution_count": 24,
     "metadata": {},
     "output_type": "execute_result"
    }
   ],
   "source": [
    "df.loanstatus.value_counts(normalize=True)"
   ]
  },
  {
   "cell_type": "code",
   "execution_count": 25,
   "metadata": {},
   "outputs": [
    {
     "name": "stdout",
     "output_type": "stream",
     "text": [
      "15\n"
     ]
    },
    {
     "data": {
      "text/plain": [
       "['addrstate',\n",
       " 'applicationtype',\n",
       " 'earliestcrline',\n",
       " 'emplength',\n",
       " 'emptitle',\n",
       " 'grade',\n",
       " 'homeownership',\n",
       " 'initialliststatus',\n",
       " 'intrate',\n",
       " 'purpose',\n",
       " 'revolutil',\n",
       " 'subgrade',\n",
       " 'verificationstatus',\n",
       " 'verificationstatusjoint',\n",
       " 'zipcode']"
      ]
     },
     "execution_count": 25,
     "metadata": {},
     "output_type": "execute_result"
    }
   ],
   "source": [
    "obj_feature.remove('term')\n",
    "print (len(obj_feature))\n",
    "sorted(obj_feature)"
   ]
  },
  {
   "cell_type": "code",
   "execution_count": 26,
   "metadata": {},
   "outputs": [
    {
     "name": "stdout",
     "output_type": "stream",
     "text": [
      "73\n"
     ]
    },
    {
     "data": {
      "text/plain": [
       "['accnowdelinq',\n",
       " 'accopenpast24mths',\n",
       " 'allutil',\n",
       " 'annualinc',\n",
       " 'annualincjoint',\n",
       " 'avgcurbal',\n",
       " 'bcopentobuy',\n",
       " 'bcutil',\n",
       " 'chargeoffwithin12mths',\n",
       " 'collections12mthsexmed',\n",
       " 'delinq2yrs',\n",
       " 'delinqamnt',\n",
       " 'dti',\n",
       " 'dtijoint',\n",
       " 'ficorangehigh',\n",
       " 'ficorangelow',\n",
       " 'ilutil',\n",
       " 'inqfi',\n",
       " 'inqlast12m',\n",
       " 'inqlast6mths',\n",
       " 'installment',\n",
       " 'loanamnt',\n",
       " 'maxbalbc',\n",
       " 'mortacc',\n",
       " 'mosinoldilacct',\n",
       " 'mosinoldrevtlop',\n",
       " 'mosinrcntrevtlop',\n",
       " 'mosinrcnttl',\n",
       " 'mthssincelastdelinq',\n",
       " 'mthssincelastmajorderog',\n",
       " 'mthssincelastrecord',\n",
       " 'mthssincercntil',\n",
       " 'mthssincerecentbc',\n",
       " 'mthssincerecentbcdlq',\n",
       " 'mthssincerecentinq',\n",
       " 'mthssincerecentrevoldelinq',\n",
       " 'numacctsever120pd',\n",
       " 'numactvbctl',\n",
       " 'numactvrevtl',\n",
       " 'numbcsats',\n",
       " 'numbctl',\n",
       " 'numiltl',\n",
       " 'numoprevtl',\n",
       " 'numrevaccts',\n",
       " 'numrevtlbalgt0',\n",
       " 'numsats',\n",
       " 'numtl120dpd2m',\n",
       " 'numtl30dpd',\n",
       " 'numtl90gdpd24m',\n",
       " 'numtloppast12m',\n",
       " 'openacc',\n",
       " 'openacc6m',\n",
       " 'openactil',\n",
       " 'openil12m',\n",
       " 'openil24m',\n",
       " 'openrv12m',\n",
       " 'openrv24m',\n",
       " 'pcttlnvrdlq',\n",
       " 'percentbcgt75',\n",
       " 'pubrec',\n",
       " 'pubrecbankruptcies',\n",
       " 'revolbal',\n",
       " 'taxliens',\n",
       " 'totalacc',\n",
       " 'totalbalexmort',\n",
       " 'totalbalil',\n",
       " 'totalbclimit',\n",
       " 'totalcutl',\n",
       " 'totalilhighcreditlimit',\n",
       " 'totalrevhilim',\n",
       " 'totcollamt',\n",
       " 'totcurbal',\n",
       " 'tothicredlim']"
      ]
     },
     "execution_count": 26,
     "metadata": {},
     "output_type": "execute_result"
    }
   ],
   "source": [
    "print (len(num_feature))\n",
    "sorted(num_feature)"
   ]
  },
  {
   "cell_type": "code",
   "execution_count": 27,
   "metadata": {},
   "outputs": [
    {
     "name": "stdout",
     "output_type": "stream",
     "text": [
      "88\n"
     ]
    },
    {
     "data": {
      "text/plain": [
       "['accnowdelinq',\n",
       " 'accopenpast24mths',\n",
       " 'addrstate',\n",
       " 'allutil',\n",
       " 'annualinc',\n",
       " 'annualincjoint',\n",
       " 'applicationtype',\n",
       " 'avgcurbal',\n",
       " 'bcopentobuy',\n",
       " 'bcutil',\n",
       " 'chargeoffwithin12mths',\n",
       " 'collections12mthsexmed',\n",
       " 'delinq2yrs',\n",
       " 'delinqamnt',\n",
       " 'dti',\n",
       " 'dtijoint',\n",
       " 'earliestcrline',\n",
       " 'emplength',\n",
       " 'emptitle',\n",
       " 'ficorangehigh',\n",
       " 'ficorangelow',\n",
       " 'grade',\n",
       " 'homeownership',\n",
       " 'ilutil',\n",
       " 'initialliststatus',\n",
       " 'inqfi',\n",
       " 'inqlast12m',\n",
       " 'inqlast6mths',\n",
       " 'installment',\n",
       " 'intrate',\n",
       " 'loanamnt',\n",
       " 'maxbalbc',\n",
       " 'mortacc',\n",
       " 'mosinoldilacct',\n",
       " 'mosinoldrevtlop',\n",
       " 'mosinrcntrevtlop',\n",
       " 'mosinrcnttl',\n",
       " 'mthssincelastdelinq',\n",
       " 'mthssincelastmajorderog',\n",
       " 'mthssincelastrecord',\n",
       " 'mthssincercntil',\n",
       " 'mthssincerecentbc',\n",
       " 'mthssincerecentbcdlq',\n",
       " 'mthssincerecentinq',\n",
       " 'mthssincerecentrevoldelinq',\n",
       " 'numacctsever120pd',\n",
       " 'numactvbctl',\n",
       " 'numactvrevtl',\n",
       " 'numbcsats',\n",
       " 'numbctl',\n",
       " 'numiltl',\n",
       " 'numoprevtl',\n",
       " 'numrevaccts',\n",
       " 'numrevtlbalgt0',\n",
       " 'numsats',\n",
       " 'numtl120dpd2m',\n",
       " 'numtl30dpd',\n",
       " 'numtl90gdpd24m',\n",
       " 'numtloppast12m',\n",
       " 'openacc',\n",
       " 'openacc6m',\n",
       " 'openactil',\n",
       " 'openil12m',\n",
       " 'openil24m',\n",
       " 'openrv12m',\n",
       " 'openrv24m',\n",
       " 'pcttlnvrdlq',\n",
       " 'percentbcgt75',\n",
       " 'pubrec',\n",
       " 'pubrecbankruptcies',\n",
       " 'purpose',\n",
       " 'revolbal',\n",
       " 'revolutil',\n",
       " 'subgrade',\n",
       " 'taxliens',\n",
       " 'totalacc',\n",
       " 'totalbalexmort',\n",
       " 'totalbalil',\n",
       " 'totalbclimit',\n",
       " 'totalcutl',\n",
       " 'totalilhighcreditlimit',\n",
       " 'totalrevhilim',\n",
       " 'totcollamt',\n",
       " 'totcurbal',\n",
       " 'tothicredlim',\n",
       " 'verificationstatus',\n",
       " 'verificationstatusjoint',\n",
       " 'zipcode']"
      ]
     },
     "execution_count": 27,
     "metadata": {},
     "output_type": "execute_result"
    }
   ],
   "source": [
    "all_feature=obj_feature+num_feature\n",
    "print (len(all_feature))\n",
    "sorted(all_feature)"
   ]
  },
  {
   "cell_type": "markdown",
   "metadata": {},
   "source": [
    "### 1.3 Train/Test Split - \"Issued\""
   ]
  },
  {
   "cell_type": "code",
   "execution_count": 28,
   "metadata": {},
   "outputs": [
    {
     "data": {
      "text/plain": [
       "0    Mar-2016\n",
       "1    Mar-2016\n",
       "2    Mar-2016\n",
       "5    Mar-2016\n",
       "7    Mar-2016\n",
       "Name: issued, dtype: object"
      ]
     },
     "execution_count": 28,
     "metadata": {},
     "output_type": "execute_result"
    }
   ],
   "source": [
    "df.issued.head()"
   ]
  },
  {
   "cell_type": "code",
   "execution_count": 29,
   "metadata": {},
   "outputs": [
    {
     "data": {
      "text/plain": [
       "Mar-2016    44790\n",
       "Feb-2016    28606\n",
       "Apr-2016    28062\n",
       "Aug-2016    24983\n",
       "Jul-2016    24916\n",
       "Jun-2016    24471\n",
       "Jan-2016    22671\n",
       "May-2016    21760\n",
       "Dec-2016    18210\n",
       "Nov-2016    17499\n",
       "Oct-2016    17409\n",
       "Sep-2016    15461\n",
       "Name: issued, dtype: int64"
      ]
     },
     "execution_count": 29,
     "metadata": {},
     "output_type": "execute_result"
    }
   ],
   "source": [
    "df.issued.value_counts()"
   ]
  },
  {
   "cell_type": "code",
   "execution_count": 30,
   "metadata": {},
   "outputs": [
    {
     "data": {
      "text/plain": [
       "1    235720\n",
       "0     53118\n",
       "Name: train_flag, dtype: int64"
      ]
     },
     "execution_count": 30,
     "metadata": {},
     "output_type": "execute_result"
    }
   ],
   "source": [
    "df['train_flag']=df.issued.apply(lambda x:0 if x in ['Oct-2016','Nov-2016','Dec-2016'] else 1)\n",
    "df.train_flag.value_counts()\n",
    "#1 train: Jan-Sep, 0 test: Oct-Dec"
   ]
  },
  {
   "cell_type": "markdown",
   "metadata": {},
   "source": [
    "### 3. Feature Engineering"
   ]
  },
  {
   "cell_type": "markdown",
   "metadata": {},
   "source": [
    "### 3.1 Obj to numeric features"
   ]
  },
  {
   "cell_type": "markdown",
   "metadata": {},
   "source": [
    "#### a) datetime to numeric"
   ]
  },
  {
   "cell_type": "code",
   "execution_count": 31,
   "metadata": {},
   "outputs": [],
   "source": [
    "#month to Dec 2016\n",
    "cl_month=df.earliestcrline.apply(lambda x:x.split('-')[0])\n",
    "cl_year=df.earliestcrline.apply(lambda x:x.split('-')[1])"
   ]
  },
  {
   "cell_type": "code",
   "execution_count": 32,
   "metadata": {},
   "outputs": [
    {
     "data": {
      "text/plain": [
       "array(['Mar', 'Nov', 'Jan', 'May', 'Oct', 'Sep', 'Feb', 'Jul', 'Jun',\n",
       "       'Dec', 'Aug', 'Apr'], dtype=object)"
      ]
     },
     "execution_count": 32,
     "metadata": {},
     "output_type": "execute_result"
    }
   ],
   "source": [
    "cl_month.unique()"
   ]
  },
  {
   "cell_type": "code",
   "execution_count": 33,
   "metadata": {},
   "outputs": [
    {
     "data": {
      "text/plain": [
       "array(['2002', '1999', '2005', '2004', '2008', '1997', '1993', '1998',\n",
       "       '2012', '1990', '2006', '1972', '2007', '1996', '1994', '1987',\n",
       "       '2001', '2011', '2000', '1995', '2009', '1986', '1982', '1976',\n",
       "       '2003', '1989', '2010', '1991', '1984', '1983', '1992', '1975',\n",
       "       '1988', '1981', '1985', '1963', '1980', '2013', '1978', '1973',\n",
       "       '1969', '1979', '1974', '1977', '1970', '1971', '1966', '1967',\n",
       "       '1968', '1955', '1965', '1960', '1957', '1961', '1964', '1958',\n",
       "       '1959', '1962', '1956', '1948', '1952', '1933', '1954', '1946',\n",
       "       '1951'], dtype=object)"
      ]
     },
     "execution_count": 33,
     "metadata": {},
     "output_type": "execute_result"
    }
   ],
   "source": [
    "cl_year.unique()"
   ]
  },
  {
   "cell_type": "code",
   "execution_count": 34,
   "metadata": {},
   "outputs": [],
   "source": [
    "dic_month={\n",
    "    'Jan':1, 'Feb':2, 'Mar':3, 'Apr':4, 'May':5, 'Jun':6,\n",
    "    'Jul':7, 'Aug':8, 'Sep':9, 'Oct':10, 'Nov':11,'Dec':12\n",
    "}"
   ]
  },
  {
   "cell_type": "code",
   "execution_count": 35,
   "metadata": {},
   "outputs": [],
   "source": [
    "df['earliestcrline_month']=df.earliestcrline.apply(lambda x: (2016-int(x.split('-')[1]))*12+\n",
    "                                                   dic_month[x.split('-')[0]])"
   ]
  },
  {
   "cell_type": "code",
   "execution_count": 36,
   "metadata": {},
   "outputs": [
    {
     "data": {
      "text/plain": [
       "0    171\n",
       "1    215\n",
       "2    133\n",
       "5    149\n",
       "7    106\n",
       "Name: earliestcrline_month, dtype: int64"
      ]
     },
     "execution_count": 36,
     "metadata": {},
     "output_type": "execute_result"
    }
   ],
   "source": [
    "df.earliestcrline_month.head()"
   ]
  },
  {
   "cell_type": "code",
   "execution_count": 37,
   "metadata": {},
   "outputs": [],
   "source": [
    "num_feature.append('earliestcrline_month')\n",
    "obj_feature.remove('earliestcrline')"
   ]
  },
  {
   "cell_type": "markdown",
   "metadata": {},
   "source": [
    "#### b) emplength to numeric"
   ]
  },
  {
   "cell_type": "code",
   "execution_count": 38,
   "metadata": {},
   "outputs": [
    {
     "data": {
      "text/plain": [
       "array(['6 years', '9 years', '5 years', '10+ years', '3 years', '2 years',\n",
       "       '< 1 year', '4 years', '8 years', '1 year', nan, '7 years'],\n",
       "      dtype=object)"
      ]
     },
     "execution_count": 38,
     "metadata": {},
     "output_type": "execute_result"
    }
   ],
   "source": [
    "df.emplength.unique()"
   ]
  },
  {
   "cell_type": "code",
   "execution_count": 39,
   "metadata": {},
   "outputs": [],
   "source": [
    "df.emplength=df.emplength.map({\"< 1 year\":0,\n",
    "                               \"1 year\":1, \"2 years\":2, \"3 years\":3, \"4 years\":4, \"5 years\":5,\n",
    "                               \"6 years\":6, \"7 years\":7, \"8 years\":8, \"9 years\":9, \"10+ years\":10})"
   ]
  },
  {
   "cell_type": "code",
   "execution_count": 40,
   "metadata": {},
   "outputs": [
    {
     "data": {
      "text/plain": [
       "10.0    94905\n",
       "2.0     27038\n",
       "3.0     23727\n",
       "0.0     22254\n",
       "1.0     19982\n",
       "5.0     17717\n",
       "4.0     17286\n",
       "6.0     12405\n",
       "8.0     12383\n",
       "9.0     11029\n",
       "7.0      9309\n",
       "Name: emplength, dtype: int64"
      ]
     },
     "execution_count": 40,
     "metadata": {},
     "output_type": "execute_result"
    }
   ],
   "source": [
    "df.emplength.value_counts()"
   ]
  },
  {
   "cell_type": "code",
   "execution_count": 41,
   "metadata": {},
   "outputs": [],
   "source": [
    "num_feature.append('emplength')\n",
    "obj_feature.remove('emplength')"
   ]
  },
  {
   "cell_type": "markdown",
   "metadata": {},
   "source": [
    "#### c) % to numeric: intrate, revolutil"
   ]
  },
  {
   "cell_type": "code",
   "execution_count": 42,
   "metadata": {},
   "outputs": [
    {
     "data": {
      "text/plain": [
       "0     11.99%\n",
       "1     15.31%\n",
       "2     10.75%\n",
       "5     12.99%\n",
       "7      7.39%\n",
       "Name: intrate, dtype: object"
      ]
     },
     "execution_count": 42,
     "metadata": {},
     "output_type": "execute_result"
    }
   ],
   "source": [
    "df.intrate.head()"
   ]
  },
  {
   "cell_type": "code",
   "execution_count": 43,
   "metadata": {},
   "outputs": [],
   "source": [
    "df.intrate=df.intrate.apply(lambda x: float(x.replace('%','')))"
   ]
  },
  {
   "cell_type": "code",
   "execution_count": 44,
   "metadata": {},
   "outputs": [
    {
     "data": {
      "text/plain": [
       "0    11.99\n",
       "1    15.31\n",
       "2    10.75\n",
       "5    12.99\n",
       "7     7.39\n",
       "Name: intrate, dtype: float64"
      ]
     },
     "execution_count": 44,
     "metadata": {},
     "output_type": "execute_result"
    }
   ],
   "source": [
    "df.intrate.head()"
   ]
  },
  {
   "cell_type": "code",
   "execution_count": 45,
   "metadata": {},
   "outputs": [
    {
     "data": {
      "text/plain": [
       "0    79.1%\n",
       "1    73.7%\n",
       "2       8%\n",
       "5    65.3%\n",
       "7    23.6%\n",
       "Name: revolutil, dtype: object"
      ]
     },
     "execution_count": 45,
     "metadata": {},
     "output_type": "execute_result"
    }
   ],
   "source": [
    "df.revolutil.head()"
   ]
  },
  {
   "cell_type": "code",
   "execution_count": 46,
   "metadata": {},
   "outputs": [],
   "source": [
    "df.revolutil=df.revolutil.apply(lambda x: str(x).replace('%','')).astype(float)"
   ]
  },
  {
   "cell_type": "code",
   "execution_count": 47,
   "metadata": {},
   "outputs": [
    {
     "data": {
      "text/plain": [
       "0    79.1\n",
       "1    73.7\n",
       "2     8.0\n",
       "5    65.3\n",
       "7    23.6\n",
       "Name: revolutil, dtype: float64"
      ]
     },
     "execution_count": 47,
     "metadata": {},
     "output_type": "execute_result"
    }
   ],
   "source": [
    "df.revolutil.head()"
   ]
  },
  {
   "cell_type": "code",
   "execution_count": 48,
   "metadata": {},
   "outputs": [],
   "source": [
    "num_feature.append('intrate')\n",
    "num_feature.append('revolutil')\n",
    "obj_feature.remove('intrate')\n",
    "obj_feature.remove('revolutil')"
   ]
  },
  {
   "cell_type": "markdown",
   "metadata": {},
   "source": [
    "### 3.2 Ordinal encoding: grade,subgrade"
   ]
  },
  {
   "cell_type": "code",
   "execution_count": 49,
   "metadata": {},
   "outputs": [
    {
     "data": {
      "text/plain": [
       "array(['C', 'B', 'A', 'D', 'E', 'F', 'G'], dtype=object)"
      ]
     },
     "execution_count": 49,
     "metadata": {},
     "output_type": "execute_result"
    }
   ],
   "source": [
    "df.grade.unique()"
   ]
  },
  {
   "cell_type": "code",
   "execution_count": 50,
   "metadata": {},
   "outputs": [],
   "source": [
    "dic_grade={'A':1, 'B':2, 'C':3,\n",
    "           'D':4, 'E':5, 'F':6, 'G':7\n",
    "}\n",
    "df.grade=df.grade.map(dic_grade)"
   ]
  },
  {
   "cell_type": "code",
   "execution_count": 51,
   "metadata": {},
   "outputs": [
    {
     "data": {
      "text/plain": [
       "2    101466\n",
       "3     81495\n",
       "1     60823\n",
       "4     32999\n",
       "5      9285\n",
       "6      2255\n",
       "7       515\n",
       "Name: grade, dtype: int64"
      ]
     },
     "execution_count": 51,
     "metadata": {},
     "output_type": "execute_result"
    }
   ],
   "source": [
    "df.grade.value_counts()"
   ]
  },
  {
   "cell_type": "code",
   "execution_count": 52,
   "metadata": {},
   "outputs": [
    {
     "data": {
      "text/plain": [
       "array(['C1', 'C5', 'B4', 'C2', 'A4', 'D3', 'C4', 'D2', 'A3', 'B1', 'B2',\n",
       "       'A2', 'D1', 'C3', 'B3', 'A1', 'E2', 'B5', 'A5', 'E5', 'D4', 'F1',\n",
       "       'D5', 'G3', 'F2', 'G2', 'E3', 'G5', 'E4', 'F5', 'E1', 'F3', 'G4',\n",
       "       'F4', 'G1'], dtype=object)"
      ]
     },
     "execution_count": 52,
     "metadata": {},
     "output_type": "execute_result"
    }
   ],
   "source": [
    "df.subgrade.unique()"
   ]
  },
  {
   "cell_type": "code",
   "execution_count": 53,
   "metadata": {},
   "outputs": [
    {
     "data": {
      "text/plain": [
       "0    C1\n",
       "1    C5\n",
       "2    B4\n",
       "5    C2\n",
       "7    A4\n",
       "Name: subgrade, dtype: object"
      ]
     },
     "execution_count": 53,
     "metadata": {},
     "output_type": "execute_result"
    }
   ],
   "source": [
    "df.subgrade.head()"
   ]
  },
  {
   "cell_type": "code",
   "execution_count": 54,
   "metadata": {},
   "outputs": [],
   "source": [
    "df.subgrade=df.subgrade.apply(lambda x: (dic_grade[x[0]] - 1) * 5 + int(x[1]))"
   ]
  },
  {
   "cell_type": "code",
   "execution_count": 55,
   "metadata": {},
   "outputs": [
    {
     "data": {
      "text/plain": [
       "0    11\n",
       "1    15\n",
       "2     9\n",
       "5    12\n",
       "7     4\n",
       "Name: subgrade, dtype: int64"
      ]
     },
     "execution_count": 55,
     "metadata": {},
     "output_type": "execute_result"
    }
   ],
   "source": [
    "df.subgrade.head()"
   ]
  },
  {
   "cell_type": "code",
   "execution_count": 56,
   "metadata": {},
   "outputs": [],
   "source": [
    "num_feature.append('grade')\n",
    "num_feature.append('subgrade')\n",
    "obj_feature.remove('grade')\n",
    "obj_feature.remove('subgrade')"
   ]
  },
  {
   "cell_type": "markdown",
   "metadata": {},
   "source": [
    "### 3.3 Frequency Encoding: zipcode/addrstate/emptitle"
   ]
  },
  {
   "cell_type": "markdown",
   "metadata": {},
   "source": [
    "#### a) zipcode"
   ]
  },
  {
   "cell_type": "code",
   "execution_count": 57,
   "metadata": {},
   "outputs": [
    {
     "data": {
      "text/plain": [
       "['accnowdelinq',\n",
       " 'accopenpast24mths',\n",
       " 'addrstate',\n",
       " 'allutil',\n",
       " 'annualinc',\n",
       " 'annualincjoint',\n",
       " 'applicationtype',\n",
       " 'avgcurbal',\n",
       " 'bcopentobuy',\n",
       " 'bcutil',\n",
       " 'chargeoffwithin12mths',\n",
       " 'collections12mthsexmed',\n",
       " 'delinq2yrs',\n",
       " 'delinqamnt',\n",
       " 'dti',\n",
       " 'dtijoint',\n",
       " 'earliestcrline',\n",
       " 'earliestcrline_month',\n",
       " 'emplength',\n",
       " 'emptitle',\n",
       " 'ficorangehigh',\n",
       " 'ficorangelow',\n",
       " 'grade',\n",
       " 'homeownership',\n",
       " 'id',\n",
       " 'ilutil',\n",
       " 'initialliststatus',\n",
       " 'inqfi',\n",
       " 'inqlast12m',\n",
       " 'inqlast6mths',\n",
       " 'installment',\n",
       " 'intrate',\n",
       " 'issued',\n",
       " 'loanamnt',\n",
       " 'loanstatus',\n",
       " 'maxbalbc',\n",
       " 'mortacc',\n",
       " 'mosinoldilacct',\n",
       " 'mosinoldrevtlop',\n",
       " 'mosinrcntrevtlop',\n",
       " 'mosinrcnttl',\n",
       " 'mthssincelastdelinq',\n",
       " 'mthssincelastmajorderog',\n",
       " 'mthssincelastrecord',\n",
       " 'mthssincercntil',\n",
       " 'mthssincerecentbc',\n",
       " 'mthssincerecentbcdlq',\n",
       " 'mthssincerecentinq',\n",
       " 'mthssincerecentrevoldelinq',\n",
       " 'numacctsever120pd',\n",
       " 'numactvbctl',\n",
       " 'numactvrevtl',\n",
       " 'numbcsats',\n",
       " 'numbctl',\n",
       " 'numiltl',\n",
       " 'numoprevtl',\n",
       " 'numrevaccts',\n",
       " 'numrevtlbalgt0',\n",
       " 'numsats',\n",
       " 'numtl120dpd2m',\n",
       " 'numtl30dpd',\n",
       " 'numtl90gdpd24m',\n",
       " 'numtloppast12m',\n",
       " 'openacc',\n",
       " 'openacc6m',\n",
       " 'openactil',\n",
       " 'openil12m',\n",
       " 'openil24m',\n",
       " 'openrv12m',\n",
       " 'openrv24m',\n",
       " 'pcttlnvrdlq',\n",
       " 'percentbcgt75',\n",
       " 'pubrec',\n",
       " 'pubrecbankruptcies',\n",
       " 'purpose',\n",
       " 'revolbal',\n",
       " 'revolutil',\n",
       " 'subgrade',\n",
       " 'taxliens',\n",
       " 'term',\n",
       " 'totalacc',\n",
       " 'totalbalexmort',\n",
       " 'totalbalil',\n",
       " 'totalbclimit',\n",
       " 'totalcutl',\n",
       " 'totalilhighcreditlimit',\n",
       " 'totalrevhilim',\n",
       " 'totcollamt',\n",
       " 'totcurbal',\n",
       " 'tothicredlim',\n",
       " 'train_flag',\n",
       " 'verificationstatus',\n",
       " 'verificationstatusjoint',\n",
       " 'zipcode']"
      ]
     },
     "execution_count": 57,
     "metadata": {},
     "output_type": "execute_result"
    }
   ],
   "source": [
    "sorted(df.columns)"
   ]
  },
  {
   "cell_type": "code",
   "execution_count": 58,
   "metadata": {},
   "outputs": [
    {
     "data": {
      "text/plain": [
       "array(['330xx', '945xx', '917xx', '498xx', '976xx'], dtype=object)"
      ]
     },
     "execution_count": 58,
     "metadata": {},
     "output_type": "execute_result"
    }
   ],
   "source": [
    "df.zipcode.unique()[:5]"
   ]
  },
  {
   "cell_type": "code",
   "execution_count": 59,
   "metadata": {},
   "outputs": [],
   "source": [
    "df.zipcode=df.zipcode.apply(lambda x: int(x[:3]))"
   ]
  },
  {
   "cell_type": "code",
   "execution_count": 60,
   "metadata": {},
   "outputs": [
    {
     "data": {
      "text/plain": [
       "array([330, 945, 917, 498, 976])"
      ]
     },
     "execution_count": 60,
     "metadata": {},
     "output_type": "execute_result"
    }
   ],
   "source": [
    "df.zipcode.unique()[:5]"
   ]
  },
  {
   "cell_type": "code",
   "execution_count": 61,
   "metadata": {},
   "outputs": [
    {
     "data": {
      "text/html": [
       "<div>\n",
       "<style scoped>\n",
       "    .dataframe tbody tr th:only-of-type {\n",
       "        vertical-align: middle;\n",
       "    }\n",
       "\n",
       "    .dataframe tbody tr th {\n",
       "        vertical-align: top;\n",
       "    }\n",
       "\n",
       "    .dataframe thead th {\n",
       "        text-align: right;\n",
       "    }\n",
       "</style>\n",
       "<table border=\"1\" class=\"dataframe\">\n",
       "  <thead>\n",
       "    <tr style=\"text-align: right;\">\n",
       "      <th></th>\n",
       "      <th>zipcode</th>\n",
       "      <th>zipcode_freq</th>\n",
       "    </tr>\n",
       "  </thead>\n",
       "  <tbody>\n",
       "    <tr>\n",
       "      <th>0</th>\n",
       "      <td>8</td>\n",
       "      <td>2</td>\n",
       "    </tr>\n",
       "    <tr>\n",
       "      <th>1</th>\n",
       "      <td>9</td>\n",
       "      <td>1</td>\n",
       "    </tr>\n",
       "    <tr>\n",
       "      <th>2</th>\n",
       "      <td>10</td>\n",
       "      <td>447</td>\n",
       "    </tr>\n",
       "    <tr>\n",
       "      <th>3</th>\n",
       "      <td>11</td>\n",
       "      <td>154</td>\n",
       "    </tr>\n",
       "    <tr>\n",
       "      <th>4</th>\n",
       "      <td>12</td>\n",
       "      <td>103</td>\n",
       "    </tr>\n",
       "  </tbody>\n",
       "</table>\n",
       "</div>"
      ],
      "text/plain": [
       "   zipcode  zipcode_freq\n",
       "0        8             2\n",
       "1        9             1\n",
       "2       10           447\n",
       "3       11           154\n",
       "4       12           103"
      ]
     },
     "execution_count": 61,
     "metadata": {},
     "output_type": "execute_result"
    }
   ],
   "source": [
    "zipcode_freq=df.groupby('zipcode').size().reset_index()\n",
    "zipcode_freq.columns=['zipcode','zipcode_freq']\n",
    "zipcode_freq.head()"
   ]
  },
  {
   "cell_type": "code",
   "execution_count": 62,
   "metadata": {},
   "outputs": [],
   "source": [
    "df=pd.merge(df, zipcode_freq, how='left', on='zipcode')"
   ]
  },
  {
   "cell_type": "code",
   "execution_count": 63,
   "metadata": {},
   "outputs": [
    {
     "data": {
      "text/plain": [
       "0    2325\n",
       "1    3041\n",
       "2    2010\n",
       "3      97\n",
       "4    2325\n",
       "Name: zipcode_freq, dtype: int64"
      ]
     },
     "execution_count": 63,
     "metadata": {},
     "output_type": "execute_result"
    }
   ],
   "source": [
    "df.zipcode_freq[:5]"
   ]
  },
  {
   "cell_type": "code",
   "execution_count": 64,
   "metadata": {},
   "outputs": [
    {
     "data": {
      "text/html": [
       "<div>\n",
       "<style scoped>\n",
       "    .dataframe tbody tr th:only-of-type {\n",
       "        vertical-align: middle;\n",
       "    }\n",
       "\n",
       "    .dataframe tbody tr th {\n",
       "        vertical-align: top;\n",
       "    }\n",
       "\n",
       "    .dataframe thead th {\n",
       "        text-align: right;\n",
       "    }\n",
       "</style>\n",
       "<table border=\"1\" class=\"dataframe\">\n",
       "  <thead>\n",
       "    <tr style=\"text-align: right;\">\n",
       "      <th></th>\n",
       "      <th>earliestcrline</th>\n",
       "      <th>term</th>\n",
       "      <th>verificationstatus</th>\n",
       "      <th>addrstate</th>\n",
       "      <th>subgrade</th>\n",
       "      <th>applicationtype</th>\n",
       "      <th>intrate</th>\n",
       "      <th>homeownership</th>\n",
       "      <th>revolutil</th>\n",
       "      <th>emptitle</th>\n",
       "      <th>...</th>\n",
       "      <th>numiltl</th>\n",
       "      <th>totalbclimit</th>\n",
       "      <th>ficorangehigh</th>\n",
       "      <th>totalacc</th>\n",
       "      <th>id</th>\n",
       "      <th>issued</th>\n",
       "      <th>loanstatus</th>\n",
       "      <th>train_flag</th>\n",
       "      <th>earliestcrline_month</th>\n",
       "      <th>zipcode_freq</th>\n",
       "    </tr>\n",
       "  </thead>\n",
       "  <tbody>\n",
       "    <tr>\n",
       "      <th>0</th>\n",
       "      <td>Mar-2002</td>\n",
       "      <td>36 months</td>\n",
       "      <td>Verified</td>\n",
       "      <td>FL</td>\n",
       "      <td>11</td>\n",
       "      <td>Individual</td>\n",
       "      <td>11.99</td>\n",
       "      <td>MORTGAGE</td>\n",
       "      <td>79.1</td>\n",
       "      <td>LOGISTICS COORDINATOR</td>\n",
       "      <td>...</td>\n",
       "      <td>7.0</td>\n",
       "      <td>7900.0</td>\n",
       "      <td>669.0</td>\n",
       "      <td>16.0</td>\n",
       "      <td>75710736</td>\n",
       "      <td>Mar-2016</td>\n",
       "      <td>0</td>\n",
       "      <td>1</td>\n",
       "      <td>171</td>\n",
       "      <td>2325</td>\n",
       "    </tr>\n",
       "    <tr>\n",
       "      <th>1</th>\n",
       "      <td>Nov-1999</td>\n",
       "      <td>36 months</td>\n",
       "      <td>Source Verified</td>\n",
       "      <td>CA</td>\n",
       "      <td>15</td>\n",
       "      <td>Individual</td>\n",
       "      <td>15.31</td>\n",
       "      <td>RENT</td>\n",
       "      <td>73.7</td>\n",
       "      <td>Senior Case Assistant</td>\n",
       "      <td>...</td>\n",
       "      <td>3.0</td>\n",
       "      <td>15900.0</td>\n",
       "      <td>669.0</td>\n",
       "      <td>13.0</td>\n",
       "      <td>76143686</td>\n",
       "      <td>Mar-2016</td>\n",
       "      <td>0</td>\n",
       "      <td>1</td>\n",
       "      <td>215</td>\n",
       "      <td>3041</td>\n",
       "    </tr>\n",
       "    <tr>\n",
       "      <th>2</th>\n",
       "      <td>Jan-2005</td>\n",
       "      <td>36 months</td>\n",
       "      <td>Source Verified</td>\n",
       "      <td>CA</td>\n",
       "      <td>9</td>\n",
       "      <td>Individual</td>\n",
       "      <td>10.75</td>\n",
       "      <td>RENT</td>\n",
       "      <td>8.0</td>\n",
       "      <td>Vp</td>\n",
       "      <td>...</td>\n",
       "      <td>4.0</td>\n",
       "      <td>22000.0</td>\n",
       "      <td>739.0</td>\n",
       "      <td>8.0</td>\n",
       "      <td>76143234</td>\n",
       "      <td>Mar-2016</td>\n",
       "      <td>0</td>\n",
       "      <td>1</td>\n",
       "      <td>133</td>\n",
       "      <td>2010</td>\n",
       "    </tr>\n",
       "    <tr>\n",
       "      <th>3</th>\n",
       "      <td>May-2004</td>\n",
       "      <td>36 months</td>\n",
       "      <td>Verified</td>\n",
       "      <td>MI</td>\n",
       "      <td>12</td>\n",
       "      <td>Individual</td>\n",
       "      <td>12.99</td>\n",
       "      <td>MORTGAGE</td>\n",
       "      <td>65.3</td>\n",
       "      <td>Jail Administrator</td>\n",
       "      <td>...</td>\n",
       "      <td>19.0</td>\n",
       "      <td>18000.0</td>\n",
       "      <td>679.0</td>\n",
       "      <td>36.0</td>\n",
       "      <td>75943579</td>\n",
       "      <td>Mar-2016</td>\n",
       "      <td>0</td>\n",
       "      <td>1</td>\n",
       "      <td>149</td>\n",
       "      <td>97</td>\n",
       "    </tr>\n",
       "    <tr>\n",
       "      <th>4</th>\n",
       "      <td>Oct-2008</td>\n",
       "      <td>36 months</td>\n",
       "      <td>Source Verified</td>\n",
       "      <td>FL</td>\n",
       "      <td>4</td>\n",
       "      <td>Individual</td>\n",
       "      <td>7.39</td>\n",
       "      <td>MORTGAGE</td>\n",
       "      <td>23.6</td>\n",
       "      <td>Telecom ngineer</td>\n",
       "      <td>...</td>\n",
       "      <td>8.0</td>\n",
       "      <td>9400.0</td>\n",
       "      <td>729.0</td>\n",
       "      <td>18.0</td>\n",
       "      <td>75169662</td>\n",
       "      <td>Mar-2016</td>\n",
       "      <td>0</td>\n",
       "      <td>1</td>\n",
       "      <td>106</td>\n",
       "      <td>2325</td>\n",
       "    </tr>\n",
       "  </tbody>\n",
       "</table>\n",
       "<p>5 rows × 95 columns</p>\n",
       "</div>"
      ],
      "text/plain": [
       "  earliestcrline        term verificationstatus addrstate  subgrade  \\\n",
       "0       Mar-2002   36 months           Verified        FL        11   \n",
       "1       Nov-1999   36 months    Source Verified        CA        15   \n",
       "2       Jan-2005   36 months    Source Verified        CA         9   \n",
       "3       May-2004   36 months           Verified        MI        12   \n",
       "4       Oct-2008   36 months    Source Verified        FL         4   \n",
       "\n",
       "  applicationtype  intrate homeownership  revolutil               emptitle  \\\n",
       "0      Individual    11.99      MORTGAGE       79.1  LOGISTICS COORDINATOR   \n",
       "1      Individual    15.31          RENT       73.7  Senior Case Assistant   \n",
       "2      Individual    10.75          RENT        8.0                     Vp   \n",
       "3      Individual    12.99      MORTGAGE       65.3     Jail Administrator   \n",
       "4      Individual     7.39      MORTGAGE       23.6        Telecom ngineer   \n",
       "\n",
       "   ... numiltl  totalbclimit  ficorangehigh totalacc        id    issued  \\\n",
       "0  ...     7.0        7900.0          669.0     16.0  75710736  Mar-2016   \n",
       "1  ...     3.0       15900.0          669.0     13.0  76143686  Mar-2016   \n",
       "2  ...     4.0       22000.0          739.0      8.0  76143234  Mar-2016   \n",
       "3  ...    19.0       18000.0          679.0     36.0  75943579  Mar-2016   \n",
       "4  ...     8.0        9400.0          729.0     18.0  75169662  Mar-2016   \n",
       "\n",
       "   loanstatus  train_flag  earliestcrline_month  zipcode_freq  \n",
       "0           0           1                   171          2325  \n",
       "1           0           1                   215          3041  \n",
       "2           0           1                   133          2010  \n",
       "3           0           1                   149            97  \n",
       "4           0           1                   106          2325  \n",
       "\n",
       "[5 rows x 95 columns]"
      ]
     },
     "execution_count": 64,
     "metadata": {},
     "output_type": "execute_result"
    }
   ],
   "source": [
    "df.head()"
   ]
  },
  {
   "cell_type": "code",
   "execution_count": 65,
   "metadata": {},
   "outputs": [],
   "source": [
    "num_feature.append('zipcode')\n",
    "num_feature.append('zipcode_freq')\n",
    "obj_feature.remove('zipcode')"
   ]
  },
  {
   "cell_type": "markdown",
   "metadata": {},
   "source": [
    "#### b)addrstate"
   ]
  },
  {
   "cell_type": "code",
   "execution_count": 66,
   "metadata": {},
   "outputs": [
    {
     "data": {
      "text/plain": [
       "array(['FL', 'CA', 'MI', 'OR', 'OH'], dtype=object)"
      ]
     },
     "execution_count": 66,
     "metadata": {},
     "output_type": "execute_result"
    }
   ],
   "source": [
    "df.addrstate.unique()[:5]"
   ]
  },
  {
   "cell_type": "code",
   "execution_count": 67,
   "metadata": {},
   "outputs": [
    {
     "data": {
      "text/html": [
       "<div>\n",
       "<style scoped>\n",
       "    .dataframe tbody tr th:only-of-type {\n",
       "        vertical-align: middle;\n",
       "    }\n",
       "\n",
       "    .dataframe tbody tr th {\n",
       "        vertical-align: top;\n",
       "    }\n",
       "\n",
       "    .dataframe thead th {\n",
       "        text-align: right;\n",
       "    }\n",
       "</style>\n",
       "<table border=\"1\" class=\"dataframe\">\n",
       "  <thead>\n",
       "    <tr style=\"text-align: right;\">\n",
       "      <th></th>\n",
       "      <th>addrstate</th>\n",
       "      <th>addrstate_freq</th>\n",
       "    </tr>\n",
       "  </thead>\n",
       "  <tbody>\n",
       "    <tr>\n",
       "      <th>0</th>\n",
       "      <td>AK</td>\n",
       "      <td>645</td>\n",
       "    </tr>\n",
       "    <tr>\n",
       "      <th>1</th>\n",
       "      <td>AL</td>\n",
       "      <td>3422</td>\n",
       "    </tr>\n",
       "    <tr>\n",
       "      <th>2</th>\n",
       "      <td>AR</td>\n",
       "      <td>2193</td>\n",
       "    </tr>\n",
       "    <tr>\n",
       "      <th>3</th>\n",
       "      <td>AZ</td>\n",
       "      <td>7166</td>\n",
       "    </tr>\n",
       "    <tr>\n",
       "      <th>4</th>\n",
       "      <td>CA</td>\n",
       "      <td>40051</td>\n",
       "    </tr>\n",
       "  </tbody>\n",
       "</table>\n",
       "</div>"
      ],
      "text/plain": [
       "  addrstate  addrstate_freq\n",
       "0        AK             645\n",
       "1        AL            3422\n",
       "2        AR            2193\n",
       "3        AZ            7166\n",
       "4        CA           40051"
      ]
     },
     "execution_count": 67,
     "metadata": {},
     "output_type": "execute_result"
    }
   ],
   "source": [
    "addrstate_freq=df.groupby('addrstate').size().reset_index()\n",
    "addrstate_freq.columns=['addrstate','addrstate_freq']\n",
    "addrstate_freq.head()"
   ]
  },
  {
   "cell_type": "code",
   "execution_count": 68,
   "metadata": {},
   "outputs": [
    {
     "data": {
      "text/plain": [
       "0    21752\n",
       "1    40051\n",
       "2    40051\n",
       "3     7762\n",
       "4    21752\n",
       "Name: addrstate_freq, dtype: int64"
      ]
     },
     "execution_count": 68,
     "metadata": {},
     "output_type": "execute_result"
    }
   ],
   "source": [
    "df=pd.merge(df, addrstate_freq, how='left', on='addrstate')\n",
    "df.addrstate_freq[:5]"
   ]
  },
  {
   "cell_type": "code",
   "execution_count": 69,
   "metadata": {},
   "outputs": [],
   "source": [
    "num_feature.append('addrstate_freq')\n",
    "obj_feature.remove('addrstate')"
   ]
  },
  {
   "cell_type": "markdown",
   "metadata": {},
   "source": [
    "#### c)emptitle"
   ]
  },
  {
   "cell_type": "code",
   "execution_count": 70,
   "metadata": {},
   "outputs": [
    {
     "data": {
      "text/plain": [
       "array(['LOGISTICS COORDINATOR', 'Senior Case Assistant', 'Vp',\n",
       "       'Jail Administrator', 'Telecom ngineer'], dtype=object)"
      ]
     },
     "execution_count": 70,
     "metadata": {},
     "output_type": "execute_result"
    }
   ],
   "source": [
    "df.emptitle.unique()[:5]"
   ]
  },
  {
   "cell_type": "code",
   "execution_count": 71,
   "metadata": {},
   "outputs": [
    {
     "data": {
      "text/html": [
       "<div>\n",
       "<style scoped>\n",
       "    .dataframe tbody tr th:only-of-type {\n",
       "        vertical-align: middle;\n",
       "    }\n",
       "\n",
       "    .dataframe tbody tr th {\n",
       "        vertical-align: top;\n",
       "    }\n",
       "\n",
       "    .dataframe thead th {\n",
       "        text-align: right;\n",
       "    }\n",
       "</style>\n",
       "<table border=\"1\" class=\"dataframe\">\n",
       "  <thead>\n",
       "    <tr style=\"text-align: right;\">\n",
       "      <th></th>\n",
       "      <th>emptitle</th>\n",
       "      <th>emptitle_freq</th>\n",
       "    </tr>\n",
       "  </thead>\n",
       "  <tbody>\n",
       "    <tr>\n",
       "      <th>0</th>\n",
       "      <td></td>\n",
       "      <td>1</td>\n",
       "    </tr>\n",
       "    <tr>\n",
       "      <th>1</th>\n",
       "      <td>\\tOFFICE MANAGER/MEDICAL ASSISTANT</td>\n",
       "      <td>1</td>\n",
       "    </tr>\n",
       "    <tr>\n",
       "      <th>2</th>\n",
       "      <td>Delivery driver</td>\n",
       "      <td>1</td>\n",
       "    </tr>\n",
       "    <tr>\n",
       "      <th>3</th>\n",
       "      <td>Diversion investigator</td>\n",
       "      <td>1</td>\n",
       "    </tr>\n",
       "    <tr>\n",
       "      <th>4</th>\n",
       "      <td>Division Administrative III</td>\n",
       "      <td>1</td>\n",
       "    </tr>\n",
       "  </tbody>\n",
       "</table>\n",
       "</div>"
      ],
      "text/plain": [
       "                              emptitle  emptitle_freq\n",
       "0                                                   1\n",
       "1   \\tOFFICE MANAGER/MEDICAL ASSISTANT              1\n",
       "2                     Delivery driver               1\n",
       "3              Diversion investigator               1\n",
       "4          Division Administrative III              1"
      ]
     },
     "execution_count": 71,
     "metadata": {},
     "output_type": "execute_result"
    }
   ],
   "source": [
    "emptitle_freq=df.groupby('emptitle').size().reset_index()\n",
    "emptitle_freq.columns=['emptitle','emptitle_freq']\n",
    "emptitle_freq.head()"
   ]
  },
  {
   "cell_type": "code",
   "execution_count": 72,
   "metadata": {},
   "outputs": [
    {
     "data": {
      "text/plain": [
       "0     2.0\n",
       "1     2.0\n",
       "2    25.0\n",
       "3     2.0\n",
       "4     1.0\n",
       "Name: emptitle_freq, dtype: float64"
      ]
     },
     "execution_count": 72,
     "metadata": {},
     "output_type": "execute_result"
    }
   ],
   "source": [
    "df=pd.merge(df, emptitle_freq, how='left', on='emptitle')\n",
    "df.emptitle_freq[:5]"
   ]
  },
  {
   "cell_type": "code",
   "execution_count": 73,
   "metadata": {},
   "outputs": [],
   "source": [
    "num_feature.append('emptitle_freq')\n",
    "obj_feature.remove('emptitle')"
   ]
  },
  {
   "cell_type": "markdown",
   "metadata": {},
   "source": [
    "### 3.4 Label encoding: applicationtype/verificationstatus/verificationstatusjoint/initialliststatus"
   ]
  },
  {
   "cell_type": "markdown",
   "metadata": {},
   "source": [
    "#### a) applicationtype"
   ]
  },
  {
   "cell_type": "code",
   "execution_count": 74,
   "metadata": {},
   "outputs": [
    {
     "data": {
      "text/plain": [
       "Individual    284549\n",
       "Joint App       4289\n",
       "Name: applicationtype, dtype: int64"
      ]
     },
     "execution_count": 74,
     "metadata": {},
     "output_type": "execute_result"
    }
   ],
   "source": [
    "df.applicationtype.value_counts()"
   ]
  },
  {
   "cell_type": "code",
   "execution_count": 75,
   "metadata": {},
   "outputs": [
    {
     "data": {
      "text/plain": [
       "0    284549\n",
       "1      4289\n",
       "Name: applicationtype, dtype: int64"
      ]
     },
     "execution_count": 75,
     "metadata": {},
     "output_type": "execute_result"
    }
   ],
   "source": [
    "df.applicationtype=df.applicationtype.map({'Individual':0,'Joint App':1})\n",
    "df.applicationtype.value_counts()"
   ]
  },
  {
   "cell_type": "markdown",
   "metadata": {},
   "source": [
    "#### b) verificationstatus"
   ]
  },
  {
   "cell_type": "code",
   "execution_count": 76,
   "metadata": {},
   "outputs": [
    {
     "data": {
      "text/plain": [
       "Source Verified    125867\n",
       "Verified            83031\n",
       "Not Verified        79940\n",
       "Name: verificationstatus, dtype: int64"
      ]
     },
     "execution_count": 76,
     "metadata": {},
     "output_type": "execute_result"
    }
   ],
   "source": [
    "df.verificationstatus.value_counts()"
   ]
  },
  {
   "cell_type": "markdown",
   "metadata": {},
   "source": [
    "#### c) verificationstatusjoint"
   ]
  },
  {
   "cell_type": "code",
   "execution_count": 77,
   "metadata": {},
   "outputs": [
    {
     "data": {
      "text/plain": [
       "Not Verified    4289\n",
       "Name: verificationstatusjoint, dtype: int64"
      ]
     },
     "execution_count": 77,
     "metadata": {},
     "output_type": "execute_result"
    }
   ],
   "source": [
    "df.verificationstatusjoint.value_counts()"
   ]
  },
  {
   "cell_type": "code",
   "execution_count": 78,
   "metadata": {},
   "outputs": [],
   "source": [
    "obj_feature.remove('verificationstatusjoint')"
   ]
  },
  {
   "cell_type": "markdown",
   "metadata": {},
   "source": [
    "#### d) initialliststatus"
   ]
  },
  {
   "cell_type": "code",
   "execution_count": 79,
   "metadata": {},
   "outputs": [
    {
     "data": {
      "text/plain": [
       "w    213422\n",
       "f     75416\n",
       "Name: initialliststatus, dtype: int64"
      ]
     },
     "execution_count": 79,
     "metadata": {},
     "output_type": "execute_result"
    }
   ],
   "source": [
    "df.initialliststatus.value_counts()"
   ]
  },
  {
   "cell_type": "code",
   "execution_count": 80,
   "metadata": {},
   "outputs": [
    {
     "data": {
      "text/plain": [
       "0    213422\n",
       "1     75416\n",
       "Name: initialliststatus, dtype: int64"
      ]
     },
     "execution_count": 80,
     "metadata": {},
     "output_type": "execute_result"
    }
   ],
   "source": [
    "df.initialliststatus=df.initialliststatus.map({'w':0,'f':1})\n",
    "df.initialliststatus.value_counts()"
   ]
  },
  {
   "cell_type": "code",
   "execution_count": 81,
   "metadata": {},
   "outputs": [],
   "source": [
    "num_feature.append('applicationtype')\n",
    "obj_feature.remove('applicationtype')\n",
    "num_feature.append('initialliststatus')\n",
    "obj_feature.remove('initialliststatus')"
   ]
  },
  {
   "cell_type": "markdown",
   "metadata": {},
   "source": [
    "### 3.5 One hot encoding: verificationstatus/purpose/homeownership"
   ]
  },
  {
   "cell_type": "code",
   "execution_count": 82,
   "metadata": {},
   "outputs": [
    {
     "data": {
      "text/plain": [
       "['verificationstatus', 'homeownership', 'purpose']"
      ]
     },
     "execution_count": 82,
     "metadata": {},
     "output_type": "execute_result"
    }
   ],
   "source": [
    "obj_feature"
   ]
  },
  {
   "cell_type": "code",
   "execution_count": 83,
   "metadata": {},
   "outputs": [],
   "source": [
    "dummy_feature=['verificationstatus','purpose','homeownership']"
   ]
  },
  {
   "cell_type": "code",
   "execution_count": 84,
   "metadata": {},
   "outputs": [
    {
     "data": {
      "text/html": [
       "<div>\n",
       "<style scoped>\n",
       "    .dataframe tbody tr th:only-of-type {\n",
       "        vertical-align: middle;\n",
       "    }\n",
       "\n",
       "    .dataframe tbody tr th {\n",
       "        vertical-align: top;\n",
       "    }\n",
       "\n",
       "    .dataframe thead th {\n",
       "        text-align: right;\n",
       "    }\n",
       "</style>\n",
       "<table border=\"1\" class=\"dataframe\">\n",
       "  <thead>\n",
       "    <tr style=\"text-align: right;\">\n",
       "      <th></th>\n",
       "      <th>verificationstatus_Not Verified</th>\n",
       "      <th>verificationstatus_Source Verified</th>\n",
       "      <th>verificationstatus_Verified</th>\n",
       "      <th>purpose_car</th>\n",
       "      <th>purpose_credit_card</th>\n",
       "      <th>purpose_debt_consolidation</th>\n",
       "      <th>purpose_home_improvement</th>\n",
       "      <th>purpose_house</th>\n",
       "      <th>purpose_major_purchase</th>\n",
       "      <th>purpose_medical</th>\n",
       "      <th>purpose_moving</th>\n",
       "      <th>purpose_other</th>\n",
       "      <th>purpose_renewable_energy</th>\n",
       "      <th>purpose_small_business</th>\n",
       "      <th>purpose_vacation</th>\n",
       "      <th>purpose_wedding</th>\n",
       "      <th>homeownership_ANY</th>\n",
       "      <th>homeownership_MORTGAGE</th>\n",
       "      <th>homeownership_OWN</th>\n",
       "      <th>homeownership_RENT</th>\n",
       "    </tr>\n",
       "  </thead>\n",
       "  <tbody>\n",
       "    <tr>\n",
       "      <th>0</th>\n",
       "      <td>0</td>\n",
       "      <td>0</td>\n",
       "      <td>1</td>\n",
       "      <td>0</td>\n",
       "      <td>1</td>\n",
       "      <td>0</td>\n",
       "      <td>0</td>\n",
       "      <td>0</td>\n",
       "      <td>0</td>\n",
       "      <td>0</td>\n",
       "      <td>0</td>\n",
       "      <td>0</td>\n",
       "      <td>0</td>\n",
       "      <td>0</td>\n",
       "      <td>0</td>\n",
       "      <td>0</td>\n",
       "      <td>0</td>\n",
       "      <td>1</td>\n",
       "      <td>0</td>\n",
       "      <td>0</td>\n",
       "    </tr>\n",
       "    <tr>\n",
       "      <th>1</th>\n",
       "      <td>0</td>\n",
       "      <td>1</td>\n",
       "      <td>0</td>\n",
       "      <td>0</td>\n",
       "      <td>0</td>\n",
       "      <td>1</td>\n",
       "      <td>0</td>\n",
       "      <td>0</td>\n",
       "      <td>0</td>\n",
       "      <td>0</td>\n",
       "      <td>0</td>\n",
       "      <td>0</td>\n",
       "      <td>0</td>\n",
       "      <td>0</td>\n",
       "      <td>0</td>\n",
       "      <td>0</td>\n",
       "      <td>0</td>\n",
       "      <td>0</td>\n",
       "      <td>0</td>\n",
       "      <td>1</td>\n",
       "    </tr>\n",
       "    <tr>\n",
       "      <th>2</th>\n",
       "      <td>0</td>\n",
       "      <td>1</td>\n",
       "      <td>0</td>\n",
       "      <td>0</td>\n",
       "      <td>0</td>\n",
       "      <td>1</td>\n",
       "      <td>0</td>\n",
       "      <td>0</td>\n",
       "      <td>0</td>\n",
       "      <td>0</td>\n",
       "      <td>0</td>\n",
       "      <td>0</td>\n",
       "      <td>0</td>\n",
       "      <td>0</td>\n",
       "      <td>0</td>\n",
       "      <td>0</td>\n",
       "      <td>0</td>\n",
       "      <td>0</td>\n",
       "      <td>0</td>\n",
       "      <td>1</td>\n",
       "    </tr>\n",
       "    <tr>\n",
       "      <th>3</th>\n",
       "      <td>0</td>\n",
       "      <td>0</td>\n",
       "      <td>1</td>\n",
       "      <td>0</td>\n",
       "      <td>0</td>\n",
       "      <td>1</td>\n",
       "      <td>0</td>\n",
       "      <td>0</td>\n",
       "      <td>0</td>\n",
       "      <td>0</td>\n",
       "      <td>0</td>\n",
       "      <td>0</td>\n",
       "      <td>0</td>\n",
       "      <td>0</td>\n",
       "      <td>0</td>\n",
       "      <td>0</td>\n",
       "      <td>0</td>\n",
       "      <td>1</td>\n",
       "      <td>0</td>\n",
       "      <td>0</td>\n",
       "    </tr>\n",
       "    <tr>\n",
       "      <th>4</th>\n",
       "      <td>0</td>\n",
       "      <td>1</td>\n",
       "      <td>0</td>\n",
       "      <td>0</td>\n",
       "      <td>0</td>\n",
       "      <td>1</td>\n",
       "      <td>0</td>\n",
       "      <td>0</td>\n",
       "      <td>0</td>\n",
       "      <td>0</td>\n",
       "      <td>0</td>\n",
       "      <td>0</td>\n",
       "      <td>0</td>\n",
       "      <td>0</td>\n",
       "      <td>0</td>\n",
       "      <td>0</td>\n",
       "      <td>0</td>\n",
       "      <td>1</td>\n",
       "      <td>0</td>\n",
       "      <td>0</td>\n",
       "    </tr>\n",
       "  </tbody>\n",
       "</table>\n",
       "</div>"
      ],
      "text/plain": [
       "   verificationstatus_Not Verified  verificationstatus_Source Verified  \\\n",
       "0                                0                                   0   \n",
       "1                                0                                   1   \n",
       "2                                0                                   1   \n",
       "3                                0                                   0   \n",
       "4                                0                                   1   \n",
       "\n",
       "   verificationstatus_Verified  purpose_car  purpose_credit_card  \\\n",
       "0                            1            0                    1   \n",
       "1                            0            0                    0   \n",
       "2                            0            0                    0   \n",
       "3                            1            0                    0   \n",
       "4                            0            0                    0   \n",
       "\n",
       "   purpose_debt_consolidation  purpose_home_improvement  purpose_house  \\\n",
       "0                           0                         0              0   \n",
       "1                           1                         0              0   \n",
       "2                           1                         0              0   \n",
       "3                           1                         0              0   \n",
       "4                           1                         0              0   \n",
       "\n",
       "   purpose_major_purchase  purpose_medical  purpose_moving  purpose_other  \\\n",
       "0                       0                0               0              0   \n",
       "1                       0                0               0              0   \n",
       "2                       0                0               0              0   \n",
       "3                       0                0               0              0   \n",
       "4                       0                0               0              0   \n",
       "\n",
       "   purpose_renewable_energy  purpose_small_business  purpose_vacation  \\\n",
       "0                         0                       0                 0   \n",
       "1                         0                       0                 0   \n",
       "2                         0                       0                 0   \n",
       "3                         0                       0                 0   \n",
       "4                         0                       0                 0   \n",
       "\n",
       "   purpose_wedding  homeownership_ANY  homeownership_MORTGAGE  \\\n",
       "0                0                  0                       1   \n",
       "1                0                  0                       0   \n",
       "2                0                  0                       0   \n",
       "3                0                  0                       1   \n",
       "4                0                  0                       1   \n",
       "\n",
       "   homeownership_OWN  homeownership_RENT  \n",
       "0                  0                   0  \n",
       "1                  0                   1  \n",
       "2                  0                   1  \n",
       "3                  0                   0  \n",
       "4                  0                   0  "
      ]
     },
     "execution_count": 84,
     "metadata": {},
     "output_type": "execute_result"
    }
   ],
   "source": [
    "df_dummy=pd.get_dummies(df[dummy_feature])\n",
    "df_dummy.head()"
   ]
  },
  {
   "cell_type": "code",
   "execution_count": 85,
   "metadata": {},
   "outputs": [
    {
     "name": "stdout",
     "output_type": "stream",
     "text": [
      "20\n"
     ]
    },
    {
     "data": {
      "text/plain": [
       "['verificationstatus_Not Verified',\n",
       " 'verificationstatus_Source Verified',\n",
       " 'verificationstatus_Verified',\n",
       " 'purpose_car',\n",
       " 'purpose_credit_card',\n",
       " 'purpose_debt_consolidation',\n",
       " 'purpose_home_improvement',\n",
       " 'purpose_house',\n",
       " 'purpose_major_purchase',\n",
       " 'purpose_medical',\n",
       " 'purpose_moving',\n",
       " 'purpose_other',\n",
       " 'purpose_renewable_energy',\n",
       " 'purpose_small_business',\n",
       " 'purpose_vacation',\n",
       " 'purpose_wedding',\n",
       " 'homeownership_ANY',\n",
       " 'homeownership_MORTGAGE',\n",
       " 'homeownership_OWN',\n",
       " 'homeownership_RENT']"
      ]
     },
     "execution_count": 85,
     "metadata": {},
     "output_type": "execute_result"
    }
   ],
   "source": [
    "OHE_feature=list(df_dummy.columns.values)\n",
    "print(len(OHE_feature))\n",
    "OHE_feature"
   ]
  },
  {
   "cell_type": "code",
   "execution_count": 86,
   "metadata": {},
   "outputs": [
    {
     "data": {
      "text/plain": [
       "(288838, 117)"
      ]
     },
     "execution_count": 86,
     "metadata": {},
     "output_type": "execute_result"
    }
   ],
   "source": [
    "df=pd.concat([df,df_dummy],axis=1)\n",
    "df.shape"
   ]
  },
  {
   "cell_type": "code",
   "execution_count": 87,
   "metadata": {},
   "outputs": [],
   "source": [
    "for i in dummy_feature:\n",
    "    obj_feature.remove(i)"
   ]
  },
  {
   "cell_type": "code",
   "execution_count": 88,
   "metadata": {},
   "outputs": [
    {
     "data": {
      "text/plain": [
       "0"
      ]
     },
     "execution_count": 88,
     "metadata": {},
     "output_type": "execute_result"
    }
   ],
   "source": [
    "len(obj_feature)"
   ]
  },
  {
   "cell_type": "code",
   "execution_count": 89,
   "metadata": {},
   "outputs": [
    {
     "data": {
      "text/plain": [
       "105"
      ]
     },
     "execution_count": 89,
     "metadata": {},
     "output_type": "execute_result"
    }
   ],
   "source": [
    "select_feature=num_feature+OHE_feature\n",
    "len(select_feature)"
   ]
  },
  {
   "cell_type": "markdown",
   "metadata": {},
   "source": [
    "### 4. Prem Modeling - XGBoost"
   ]
  },
  {
   "cell_type": "code",
   "execution_count": 90,
   "metadata": {},
   "outputs": [
    {
     "name": "stdout",
     "output_type": "stream",
     "text": [
      "['inqlast12m', 'numactvrevtl', 'totcurbal', 'maxbalbc', 'mosinoldrevtlop', 'annualincjoint', 'mthssincercntil', 'revolbal', 'accopenpast24mths', 'percentbcgt75', 'mthssincerecentrevoldelinq', 'numbctl', 'mosinrcntrevtlop', 'numacctsever120pd', 'mthssincelastdelinq', 'installment', 'mthssincerecentbc', 'totcollamt', 'numsats', 'mthssincelastmajorderog', 'totalilhighcreditlimit', 'inqfi', 'openactil', 'mthssincelastrecord', 'mortacc', 'dti', 'openil12m', 'openacc', 'numbcsats', 'numoprevtl', 'mosinrcnttl', 'openrv24m', 'openacc6m', 'totalbalil', 'totalcutl', 'totalbalexmort', 'bcutil', 'ilutil', 'delinq2yrs', 'numtl30dpd', 'pcttlnvrdlq', 'mthssincerecentinq', 'numtloppast12m', 'loanamnt', 'collections12mthsexmed', 'allutil', 'mthssincerecentbcdlq', 'mosinoldilacct', 'numrevaccts', 'numtl90gdpd24m', 'pubrec', 'numactvbctl', 'dtijoint', 'ficorangelow', 'chargeoffwithin12mths', 'numtl120dpd2m', 'totalrevhilim', 'pubrecbankruptcies', 'bcopentobuy', 'taxliens', 'openrv12m', 'openil24m', 'annualinc', 'accnowdelinq', 'inqlast6mths', 'avgcurbal', 'tothicredlim', 'delinqamnt', 'numrevtlbalgt0', 'numiltl', 'totalbclimit', 'ficorangehigh', 'totalacc', 'earliestcrline_month', 'emplength', 'intrate', 'revolutil', 'grade', 'subgrade', 'zipcode', 'zipcode_freq', 'addrstate_freq', 'emptitle_freq', 'applicationtype', 'initialliststatus', 'verificationstatus_Not Verified', 'verificationstatus_Source Verified', 'verificationstatus_Verified', 'purpose_car', 'purpose_credit_card', 'purpose_debt_consolidation', 'purpose_home_improvement', 'purpose_house', 'purpose_major_purchase', 'purpose_medical', 'purpose_moving', 'purpose_other', 'purpose_renewable_energy', 'purpose_small_business', 'purpose_vacation', 'purpose_wedding', 'homeownership_ANY', 'homeownership_MORTGAGE', 'homeownership_OWN', 'homeownership_RENT']\n"
     ]
    }
   ],
   "source": [
    "feat=select_feature\n",
    "print (feat)"
   ]
  },
  {
   "cell_type": "code",
   "execution_count": 91,
   "metadata": {},
   "outputs": [],
   "source": [
    "from sklearn.model_selection import StratifiedKFold\n",
    "from sklearn.model_selection import train_test_split"
   ]
  },
  {
   "cell_type": "code",
   "execution_count": 92,
   "metadata": {},
   "outputs": [
    {
     "name": "stdout",
     "output_type": "stream",
     "text": [
      "train dataset is:  (235720, 117) \n",
      " test dataset is:  (53118, 117)\n"
     ]
    }
   ],
   "source": [
    "df_train=df.query('train_flag==1')\n",
    "df_test=df.query('train_flag==0')\n",
    "\n",
    "print('train dataset is: ',df_train.shape,'\\n',\n",
    "      'test dataset is: ',df_test.shape)"
   ]
  },
  {
   "cell_type": "code",
   "execution_count": 93,
   "metadata": {},
   "outputs": [
    {
     "data": {
      "text/plain": [
       "(235720, 105)"
      ]
     },
     "execution_count": 93,
     "metadata": {},
     "output_type": "execute_result"
    }
   ],
   "source": [
    "df_train[feat].shape"
   ]
  },
  {
   "cell_type": "code",
   "execution_count": 94,
   "metadata": {},
   "outputs": [],
   "source": [
    "X=df_train[feat]\n",
    "Y=df_train['loanstatus']\n",
    "\n",
    "X_train, X_valid, Y_train, Y_valid=train_test_split(X,Y,test_size=0.3,stratify=Y)"
   ]
  },
  {
   "cell_type": "code",
   "execution_count": 95,
   "metadata": {},
   "outputs": [],
   "source": [
    "X_test, Y_test = df_test[feat], df_test.loanstatus"
   ]
  },
  {
   "cell_type": "code",
   "execution_count": 96,
   "metadata": {},
   "outputs": [],
   "source": [
    "dtrain=xgb.DMatrix(X_train,Y_train, missing=np.NAN)\n",
    "dvalid=xgb.DMatrix(X_valid,Y_valid, missing=np.NAN)\n",
    "dtest=xgb.DMatrix(X_test,Y_test, missing=np.NAN)"
   ]
  },
  {
   "cell_type": "code",
   "execution_count": 97,
   "metadata": {},
   "outputs": [],
   "source": [
    "params={\n",
    "    'objective':'binary:logistic',\n",
    "    'booster':'gbtree',\n",
    "    'eta':0.05,\n",
    "    'max_depth':6,\n",
    "    'subsample':0.632,\n",
    "    'colsamole_bytree':0.7,\n",
    "    #\"colsample_bylevel\": 0.6,\n",
    "    'silent':1,\n",
    "    'seed':1234,\n",
    "    'eval_metric':'auc',\n",
    "    'min_child_weight':5\n",
    "}"
   ]
  },
  {
   "cell_type": "code",
   "execution_count": 98,
   "metadata": {},
   "outputs": [
    {
     "name": "stdout",
     "output_type": "stream",
     "text": [
      "[20:21:52] WARNING: /Users/runner/miniforge3/conda-bld/xgboost_1593723618214/work/src/learner.cc:480: \n",
      "Parameters: { colsamole_bytree, silent } might not be used.\n",
      "\n",
      "  This may not be accurate due to some parameters are only used in language bindings but\n",
      "  passed down to XGBoost core.  Or some parameters are not used but slip through this\n",
      "  verification. Please open an issue if you find above cases.\n",
      "\n",
      "\n",
      "[0]\ttrain-auc:0.69378\teval-auc:0.68396\n",
      "Multiple eval metrics have been passed: 'eval-auc' will be used for early stopping.\n",
      "\n",
      "Will train until eval-auc hasn't improved in 50 rounds.\n",
      "[1]\ttrain-auc:0.69961\teval-auc:0.68932\n",
      "[2]\ttrain-auc:0.70279\teval-auc:0.69190\n",
      "[3]\ttrain-auc:0.70370\teval-auc:0.69274\n",
      "[4]\ttrain-auc:0.70505\teval-auc:0.69372\n",
      "[5]\ttrain-auc:0.70599\teval-auc:0.69437\n",
      "[6]\ttrain-auc:0.70663\teval-auc:0.69470\n",
      "[7]\ttrain-auc:0.70721\teval-auc:0.69486\n",
      "[8]\ttrain-auc:0.70765\teval-auc:0.69500\n",
      "[9]\ttrain-auc:0.70835\teval-auc:0.69549\n",
      "[10]\ttrain-auc:0.70894\teval-auc:0.69575\n",
      "[11]\ttrain-auc:0.70940\teval-auc:0.69623\n",
      "[12]\ttrain-auc:0.70991\teval-auc:0.69619\n",
      "[13]\ttrain-auc:0.71056\teval-auc:0.69650\n",
      "[14]\ttrain-auc:0.71090\teval-auc:0.69666\n",
      "[15]\ttrain-auc:0.71126\teval-auc:0.69697\n",
      "[16]\ttrain-auc:0.71174\teval-auc:0.69749\n",
      "[17]\ttrain-auc:0.71222\teval-auc:0.69775\n",
      "[18]\ttrain-auc:0.71253\teval-auc:0.69794\n",
      "[19]\ttrain-auc:0.71285\teval-auc:0.69789\n",
      "[20]\ttrain-auc:0.71327\teval-auc:0.69813\n",
      "[21]\ttrain-auc:0.71375\teval-auc:0.69833\n",
      "[22]\ttrain-auc:0.71414\teval-auc:0.69837\n",
      "[23]\ttrain-auc:0.71436\teval-auc:0.69843\n",
      "[24]\ttrain-auc:0.71481\teval-auc:0.69855\n",
      "[25]\ttrain-auc:0.71510\teval-auc:0.69858\n",
      "[26]\ttrain-auc:0.71535\teval-auc:0.69883\n",
      "[27]\ttrain-auc:0.71562\teval-auc:0.69891\n",
      "[28]\ttrain-auc:0.71593\teval-auc:0.69901\n",
      "[29]\ttrain-auc:0.71634\teval-auc:0.69921\n",
      "[30]\ttrain-auc:0.71670\teval-auc:0.69924\n",
      "[31]\ttrain-auc:0.71706\teval-auc:0.69937\n",
      "[32]\ttrain-auc:0.71746\teval-auc:0.69960\n",
      "[33]\ttrain-auc:0.71791\teval-auc:0.69970\n",
      "[34]\ttrain-auc:0.71833\teval-auc:0.69991\n",
      "[35]\ttrain-auc:0.71870\teval-auc:0.70018\n",
      "[36]\ttrain-auc:0.71898\teval-auc:0.70025\n",
      "[37]\ttrain-auc:0.71928\teval-auc:0.70042\n",
      "[38]\ttrain-auc:0.71960\teval-auc:0.70062\n",
      "[39]\ttrain-auc:0.71989\teval-auc:0.70072\n",
      "[40]\ttrain-auc:0.72028\teval-auc:0.70076\n",
      "[41]\ttrain-auc:0.72061\teval-auc:0.70093\n",
      "[42]\ttrain-auc:0.72103\teval-auc:0.70100\n",
      "[43]\ttrain-auc:0.72140\teval-auc:0.70097\n",
      "[44]\ttrain-auc:0.72174\teval-auc:0.70099\n",
      "[45]\ttrain-auc:0.72226\teval-auc:0.70129\n",
      "[46]\ttrain-auc:0.72262\teval-auc:0.70142\n",
      "[47]\ttrain-auc:0.72302\teval-auc:0.70170\n",
      "[48]\ttrain-auc:0.72330\teval-auc:0.70195\n",
      "[49]\ttrain-auc:0.72376\teval-auc:0.70206\n",
      "[50]\ttrain-auc:0.72409\teval-auc:0.70219\n",
      "[51]\ttrain-auc:0.72450\teval-auc:0.70226\n",
      "[52]\ttrain-auc:0.72493\teval-auc:0.70246\n",
      "[53]\ttrain-auc:0.72526\teval-auc:0.70258\n",
      "[54]\ttrain-auc:0.72561\teval-auc:0.70264\n",
      "[55]\ttrain-auc:0.72595\teval-auc:0.70269\n",
      "[56]\ttrain-auc:0.72638\teval-auc:0.70278\n",
      "[57]\ttrain-auc:0.72672\teval-auc:0.70287\n",
      "[58]\ttrain-auc:0.72697\teval-auc:0.70291\n",
      "[59]\ttrain-auc:0.72724\teval-auc:0.70298\n",
      "[60]\ttrain-auc:0.72771\teval-auc:0.70313\n",
      "[61]\ttrain-auc:0.72809\teval-auc:0.70321\n",
      "[62]\ttrain-auc:0.72841\teval-auc:0.70335\n",
      "[63]\ttrain-auc:0.72880\teval-auc:0.70352\n",
      "[64]\ttrain-auc:0.72912\teval-auc:0.70361\n",
      "[65]\ttrain-auc:0.72949\teval-auc:0.70365\n",
      "[66]\ttrain-auc:0.72997\teval-auc:0.70379\n",
      "[67]\ttrain-auc:0.73026\teval-auc:0.70385\n",
      "[68]\ttrain-auc:0.73069\teval-auc:0.70405\n",
      "[69]\ttrain-auc:0.73111\teval-auc:0.70420\n",
      "[70]\ttrain-auc:0.73155\teval-auc:0.70432\n",
      "[71]\ttrain-auc:0.73185\teval-auc:0.70444\n",
      "[72]\ttrain-auc:0.73216\teval-auc:0.70449\n",
      "[73]\ttrain-auc:0.73249\teval-auc:0.70455\n",
      "[74]\ttrain-auc:0.73302\teval-auc:0.70474\n",
      "[75]\ttrain-auc:0.73334\teval-auc:0.70487\n",
      "[76]\ttrain-auc:0.73371\teval-auc:0.70488\n",
      "[77]\ttrain-auc:0.73399\teval-auc:0.70496\n",
      "[78]\ttrain-auc:0.73442\teval-auc:0.70505\n",
      "[79]\ttrain-auc:0.73467\teval-auc:0.70517\n",
      "[80]\ttrain-auc:0.73500\teval-auc:0.70532\n",
      "[81]\ttrain-auc:0.73531\teval-auc:0.70547\n",
      "[82]\ttrain-auc:0.73564\teval-auc:0.70559\n",
      "[83]\ttrain-auc:0.73600\teval-auc:0.70571\n",
      "[84]\ttrain-auc:0.73640\teval-auc:0.70575\n",
      "[85]\ttrain-auc:0.73687\teval-auc:0.70590\n",
      "[86]\ttrain-auc:0.73733\teval-auc:0.70595\n",
      "[87]\ttrain-auc:0.73768\teval-auc:0.70611\n",
      "[88]\ttrain-auc:0.73809\teval-auc:0.70614\n",
      "[89]\ttrain-auc:0.73843\teval-auc:0.70629\n",
      "[90]\ttrain-auc:0.73887\teval-auc:0.70641\n",
      "[91]\ttrain-auc:0.73922\teval-auc:0.70643\n",
      "[92]\ttrain-auc:0.73961\teval-auc:0.70650\n",
      "[93]\ttrain-auc:0.73989\teval-auc:0.70655\n",
      "[94]\ttrain-auc:0.74017\teval-auc:0.70663\n",
      "[95]\ttrain-auc:0.74035\teval-auc:0.70666\n",
      "[96]\ttrain-auc:0.74066\teval-auc:0.70670\n",
      "[97]\ttrain-auc:0.74092\teval-auc:0.70676\n",
      "[98]\ttrain-auc:0.74125\teval-auc:0.70685\n",
      "[99]\ttrain-auc:0.74167\teval-auc:0.70694\n",
      "[100]\ttrain-auc:0.74208\teval-auc:0.70705\n",
      "[101]\ttrain-auc:0.74227\teval-auc:0.70710\n",
      "[102]\ttrain-auc:0.74259\teval-auc:0.70715\n",
      "[103]\ttrain-auc:0.74290\teval-auc:0.70723\n",
      "[104]\ttrain-auc:0.74338\teval-auc:0.70730\n",
      "[105]\ttrain-auc:0.74366\teval-auc:0.70737\n",
      "[106]\ttrain-auc:0.74394\teval-auc:0.70747\n",
      "[107]\ttrain-auc:0.74417\teval-auc:0.70755\n",
      "[108]\ttrain-auc:0.74443\teval-auc:0.70757\n",
      "[109]\ttrain-auc:0.74467\teval-auc:0.70761\n",
      "[110]\ttrain-auc:0.74496\teval-auc:0.70765\n",
      "[111]\ttrain-auc:0.74527\teval-auc:0.70767\n",
      "[112]\ttrain-auc:0.74559\teval-auc:0.70771\n",
      "[113]\ttrain-auc:0.74594\teval-auc:0.70767\n",
      "[114]\ttrain-auc:0.74625\teval-auc:0.70778\n",
      "[115]\ttrain-auc:0.74661\teval-auc:0.70785\n",
      "[116]\ttrain-auc:0.74686\teval-auc:0.70795\n",
      "[117]\ttrain-auc:0.74707\teval-auc:0.70798\n",
      "[118]\ttrain-auc:0.74736\teval-auc:0.70808\n",
      "[119]\ttrain-auc:0.74774\teval-auc:0.70819\n",
      "[120]\ttrain-auc:0.74807\teval-auc:0.70827\n",
      "[121]\ttrain-auc:0.74833\teval-auc:0.70833\n",
      "[122]\ttrain-auc:0.74863\teval-auc:0.70834\n",
      "[123]\ttrain-auc:0.74894\teval-auc:0.70840\n",
      "[124]\ttrain-auc:0.74927\teval-auc:0.70849\n",
      "[125]\ttrain-auc:0.74964\teval-auc:0.70850\n",
      "[126]\ttrain-auc:0.74997\teval-auc:0.70854\n",
      "[127]\ttrain-auc:0.75036\teval-auc:0.70861\n",
      "[128]\ttrain-auc:0.75060\teval-auc:0.70860\n",
      "[129]\ttrain-auc:0.75086\teval-auc:0.70865\n",
      "[130]\ttrain-auc:0.75104\teval-auc:0.70870\n",
      "[131]\ttrain-auc:0.75131\teval-auc:0.70875\n",
      "[132]\ttrain-auc:0.75167\teval-auc:0.70879\n",
      "[133]\ttrain-auc:0.75199\teval-auc:0.70880\n",
      "[134]\ttrain-auc:0.75223\teval-auc:0.70884\n",
      "[135]\ttrain-auc:0.75246\teval-auc:0.70885\n",
      "[136]\ttrain-auc:0.75256\teval-auc:0.70886\n",
      "[137]\ttrain-auc:0.75292\teval-auc:0.70890\n",
      "[138]\ttrain-auc:0.75330\teval-auc:0.70895\n",
      "[139]\ttrain-auc:0.75352\teval-auc:0.70903\n",
      "[140]\ttrain-auc:0.75376\teval-auc:0.70906\n",
      "[141]\ttrain-auc:0.75408\teval-auc:0.70911\n",
      "[142]\ttrain-auc:0.75437\teval-auc:0.70917\n",
      "[143]\ttrain-auc:0.75456\teval-auc:0.70922\n",
      "[144]\ttrain-auc:0.75477\teval-auc:0.70926\n",
      "[145]\ttrain-auc:0.75501\teval-auc:0.70931\n",
      "[146]\ttrain-auc:0.75513\teval-auc:0.70930\n",
      "[147]\ttrain-auc:0.75525\teval-auc:0.70930\n",
      "[148]\ttrain-auc:0.75543\teval-auc:0.70931\n",
      "[149]\ttrain-auc:0.75557\teval-auc:0.70930\n",
      "[150]\ttrain-auc:0.75576\teval-auc:0.70930\n",
      "[151]\ttrain-auc:0.75598\teval-auc:0.70930\n",
      "[152]\ttrain-auc:0.75620\teval-auc:0.70930\n",
      "[153]\ttrain-auc:0.75650\teval-auc:0.70930\n",
      "[154]\ttrain-auc:0.75671\teval-auc:0.70933\n",
      "[155]\ttrain-auc:0.75699\teval-auc:0.70940\n",
      "[156]\ttrain-auc:0.75719\teval-auc:0.70940\n",
      "[157]\ttrain-auc:0.75752\teval-auc:0.70941\n",
      "[158]\ttrain-auc:0.75773\teval-auc:0.70944\n",
      "[159]\ttrain-auc:0.75803\teval-auc:0.70948\n",
      "[160]\ttrain-auc:0.75819\teval-auc:0.70950\n",
      "[161]\ttrain-auc:0.75856\teval-auc:0.70961\n",
      "[162]\ttrain-auc:0.75885\teval-auc:0.70960\n",
      "[163]\ttrain-auc:0.75913\teval-auc:0.70964\n",
      "[164]\ttrain-auc:0.75938\teval-auc:0.70963\n",
      "[165]\ttrain-auc:0.75958\teval-auc:0.70966\n",
      "[166]\ttrain-auc:0.75980\teval-auc:0.70970\n",
      "[167]\ttrain-auc:0.76016\teval-auc:0.70974\n",
      "[168]\ttrain-auc:0.76024\teval-auc:0.70973\n",
      "[169]\ttrain-auc:0.76042\teval-auc:0.70977\n",
      "[170]\ttrain-auc:0.76058\teval-auc:0.70975\n",
      "[171]\ttrain-auc:0.76104\teval-auc:0.70978\n",
      "[172]\ttrain-auc:0.76122\teval-auc:0.70978\n",
      "[173]\ttrain-auc:0.76142\teval-auc:0.70980\n",
      "[174]\ttrain-auc:0.76178\teval-auc:0.70984\n",
      "[175]\ttrain-auc:0.76214\teval-auc:0.70993\n",
      "[176]\ttrain-auc:0.76242\teval-auc:0.70996\n",
      "[177]\ttrain-auc:0.76263\teval-auc:0.71001\n",
      "[178]\ttrain-auc:0.76284\teval-auc:0.71001\n",
      "[179]\ttrain-auc:0.76309\teval-auc:0.71003\n",
      "[180]\ttrain-auc:0.76341\teval-auc:0.71002\n",
      "[181]\ttrain-auc:0.76368\teval-auc:0.71006\n",
      "[182]\ttrain-auc:0.76388\teval-auc:0.71006\n",
      "[183]\ttrain-auc:0.76409\teval-auc:0.71006\n",
      "[184]\ttrain-auc:0.76426\teval-auc:0.71004\n",
      "[185]\ttrain-auc:0.76437\teval-auc:0.71004\n",
      "[186]\ttrain-auc:0.76456\teval-auc:0.71007\n",
      "[187]\ttrain-auc:0.76486\teval-auc:0.71010\n",
      "[188]\ttrain-auc:0.76506\teval-auc:0.71009\n",
      "[189]\ttrain-auc:0.76522\teval-auc:0.71011\n"
     ]
    },
    {
     "name": "stdout",
     "output_type": "stream",
     "text": [
      "[190]\ttrain-auc:0.76536\teval-auc:0.71012\n",
      "[191]\ttrain-auc:0.76560\teval-auc:0.71010\n",
      "[192]\ttrain-auc:0.76592\teval-auc:0.71010\n",
      "[193]\ttrain-auc:0.76626\teval-auc:0.71010\n",
      "[194]\ttrain-auc:0.76648\teval-auc:0.71014\n",
      "[195]\ttrain-auc:0.76659\teval-auc:0.71014\n",
      "[196]\ttrain-auc:0.76689\teval-auc:0.71013\n",
      "[197]\ttrain-auc:0.76716\teval-auc:0.71014\n",
      "[198]\ttrain-auc:0.76736\teval-auc:0.71016\n",
      "[199]\ttrain-auc:0.76771\teval-auc:0.71014\n",
      "[200]\ttrain-auc:0.76780\teval-auc:0.71012\n",
      "[201]\ttrain-auc:0.76804\teval-auc:0.71015\n",
      "[202]\ttrain-auc:0.76814\teval-auc:0.71016\n",
      "[203]\ttrain-auc:0.76833\teval-auc:0.71019\n",
      "[204]\ttrain-auc:0.76847\teval-auc:0.71022\n",
      "[205]\ttrain-auc:0.76879\teval-auc:0.71020\n",
      "[206]\ttrain-auc:0.76888\teval-auc:0.71015\n",
      "[207]\ttrain-auc:0.76898\teval-auc:0.71016\n",
      "[208]\ttrain-auc:0.76915\teval-auc:0.71019\n",
      "[209]\ttrain-auc:0.76945\teval-auc:0.71019\n",
      "[210]\ttrain-auc:0.76960\teval-auc:0.71021\n",
      "[211]\ttrain-auc:0.76987\teval-auc:0.71021\n",
      "[212]\ttrain-auc:0.76998\teval-auc:0.71024\n",
      "[213]\ttrain-auc:0.77029\teval-auc:0.71027\n",
      "[214]\ttrain-auc:0.77054\teval-auc:0.71032\n",
      "[215]\ttrain-auc:0.77073\teval-auc:0.71030\n",
      "[216]\ttrain-auc:0.77100\teval-auc:0.71037\n",
      "[217]\ttrain-auc:0.77123\teval-auc:0.71034\n",
      "[218]\ttrain-auc:0.77150\teval-auc:0.71037\n",
      "[219]\ttrain-auc:0.77167\teval-auc:0.71039\n",
      "[220]\ttrain-auc:0.77192\teval-auc:0.71039\n",
      "[221]\ttrain-auc:0.77208\teval-auc:0.71038\n",
      "[222]\ttrain-auc:0.77227\teval-auc:0.71039\n",
      "[223]\ttrain-auc:0.77248\teval-auc:0.71039\n",
      "[224]\ttrain-auc:0.77271\teval-auc:0.71044\n",
      "[225]\ttrain-auc:0.77285\teval-auc:0.71041\n",
      "[226]\ttrain-auc:0.77305\teval-auc:0.71038\n",
      "[227]\ttrain-auc:0.77333\teval-auc:0.71037\n",
      "[228]\ttrain-auc:0.77339\teval-auc:0.71038\n",
      "[229]\ttrain-auc:0.77353\teval-auc:0.71044\n",
      "[230]\ttrain-auc:0.77379\teval-auc:0.71044\n",
      "[231]\ttrain-auc:0.77404\teval-auc:0.71042\n",
      "[232]\ttrain-auc:0.77422\teval-auc:0.71041\n",
      "[233]\ttrain-auc:0.77441\teval-auc:0.71041\n",
      "[234]\ttrain-auc:0.77447\teval-auc:0.71040\n",
      "[235]\ttrain-auc:0.77461\teval-auc:0.71036\n",
      "[236]\ttrain-auc:0.77480\teval-auc:0.71035\n",
      "[237]\ttrain-auc:0.77499\teval-auc:0.71035\n",
      "[238]\ttrain-auc:0.77511\teval-auc:0.71035\n",
      "[239]\ttrain-auc:0.77524\teval-auc:0.71034\n",
      "[240]\ttrain-auc:0.77548\teval-auc:0.71032\n",
      "[241]\ttrain-auc:0.77572\teval-auc:0.71034\n",
      "[242]\ttrain-auc:0.77598\teval-auc:0.71034\n",
      "[243]\ttrain-auc:0.77612\teval-auc:0.71038\n",
      "[244]\ttrain-auc:0.77624\teval-auc:0.71038\n",
      "[245]\ttrain-auc:0.77650\teval-auc:0.71037\n",
      "[246]\ttrain-auc:0.77676\teval-auc:0.71035\n",
      "[247]\ttrain-auc:0.77696\teval-auc:0.71036\n",
      "[248]\ttrain-auc:0.77712\teval-auc:0.71031\n",
      "[249]\ttrain-auc:0.77737\teval-auc:0.71032\n",
      "[250]\ttrain-auc:0.77758\teval-auc:0.71034\n",
      "[251]\ttrain-auc:0.77779\teval-auc:0.71039\n",
      "[252]\ttrain-auc:0.77788\teval-auc:0.71038\n",
      "[253]\ttrain-auc:0.77816\teval-auc:0.71037\n",
      "[254]\ttrain-auc:0.77839\teval-auc:0.71039\n",
      "[255]\ttrain-auc:0.77862\teval-auc:0.71044\n",
      "[256]\ttrain-auc:0.77871\teval-auc:0.71047\n",
      "[257]\ttrain-auc:0.77897\teval-auc:0.71046\n",
      "[258]\ttrain-auc:0.77918\teval-auc:0.71046\n",
      "[259]\ttrain-auc:0.77931\teval-auc:0.71047\n",
      "[260]\ttrain-auc:0.77944\teval-auc:0.71046\n",
      "[261]\ttrain-auc:0.77956\teval-auc:0.71047\n",
      "[262]\ttrain-auc:0.77984\teval-auc:0.71047\n",
      "[263]\ttrain-auc:0.77997\teval-auc:0.71050\n",
      "[264]\ttrain-auc:0.78022\teval-auc:0.71052\n",
      "[265]\ttrain-auc:0.78044\teval-auc:0.71053\n",
      "[266]\ttrain-auc:0.78062\teval-auc:0.71059\n",
      "[267]\ttrain-auc:0.78084\teval-auc:0.71062\n",
      "[268]\ttrain-auc:0.78094\teval-auc:0.71059\n",
      "[269]\ttrain-auc:0.78114\teval-auc:0.71060\n",
      "[270]\ttrain-auc:0.78124\teval-auc:0.71060\n",
      "[271]\ttrain-auc:0.78134\teval-auc:0.71056\n",
      "[272]\ttrain-auc:0.78149\teval-auc:0.71056\n",
      "[273]\ttrain-auc:0.78168\teval-auc:0.71057\n",
      "[274]\ttrain-auc:0.78188\teval-auc:0.71057\n",
      "[275]\ttrain-auc:0.78203\teval-auc:0.71057\n",
      "[276]\ttrain-auc:0.78226\teval-auc:0.71062\n",
      "[277]\ttrain-auc:0.78247\teval-auc:0.71065\n",
      "[278]\ttrain-auc:0.78261\teval-auc:0.71066\n",
      "[279]\ttrain-auc:0.78282\teval-auc:0.71064\n",
      "[280]\ttrain-auc:0.78296\teval-auc:0.71065\n",
      "[281]\ttrain-auc:0.78320\teval-auc:0.71064\n",
      "[282]\ttrain-auc:0.78348\teval-auc:0.71063\n",
      "[283]\ttrain-auc:0.78374\teval-auc:0.71063\n",
      "[284]\ttrain-auc:0.78390\teval-auc:0.71063\n",
      "[285]\ttrain-auc:0.78395\teval-auc:0.71064\n",
      "[286]\ttrain-auc:0.78411\teval-auc:0.71062\n",
      "[287]\ttrain-auc:0.78422\teval-auc:0.71063\n",
      "[288]\ttrain-auc:0.78442\teval-auc:0.71066\n",
      "[289]\ttrain-auc:0.78448\teval-auc:0.71065\n",
      "[290]\ttrain-auc:0.78470\teval-auc:0.71061\n",
      "[291]\ttrain-auc:0.78494\teval-auc:0.71062\n",
      "[292]\ttrain-auc:0.78511\teval-auc:0.71062\n",
      "[293]\ttrain-auc:0.78539\teval-auc:0.71060\n",
      "[294]\ttrain-auc:0.78559\teval-auc:0.71057\n",
      "[295]\ttrain-auc:0.78570\teval-auc:0.71055\n",
      "[296]\ttrain-auc:0.78584\teval-auc:0.71050\n",
      "[297]\ttrain-auc:0.78599\teval-auc:0.71047\n",
      "[298]\ttrain-auc:0.78626\teval-auc:0.71046\n",
      "[299]\ttrain-auc:0.78643\teval-auc:0.71040\n",
      "[300]\ttrain-auc:0.78668\teval-auc:0.71036\n",
      "[301]\ttrain-auc:0.78685\teval-auc:0.71037\n",
      "[302]\ttrain-auc:0.78692\teval-auc:0.71037\n",
      "[303]\ttrain-auc:0.78712\teval-auc:0.71042\n",
      "[304]\ttrain-auc:0.78731\teval-auc:0.71046\n",
      "[305]\ttrain-auc:0.78746\teval-auc:0.71042\n",
      "[306]\ttrain-auc:0.78749\teval-auc:0.71044\n",
      "[307]\ttrain-auc:0.78763\teval-auc:0.71042\n",
      "[308]\ttrain-auc:0.78777\teval-auc:0.71040\n",
      "[309]\ttrain-auc:0.78785\teval-auc:0.71039\n",
      "[310]\ttrain-auc:0.78810\teval-auc:0.71039\n",
      "[311]\ttrain-auc:0.78823\teval-auc:0.71039\n",
      "[312]\ttrain-auc:0.78830\teval-auc:0.71037\n",
      "[313]\ttrain-auc:0.78865\teval-auc:0.71035\n",
      "[314]\ttrain-auc:0.78888\teval-auc:0.71034\n",
      "[315]\ttrain-auc:0.78899\teval-auc:0.71032\n",
      "[316]\ttrain-auc:0.78918\teval-auc:0.71033\n",
      "[317]\ttrain-auc:0.78948\teval-auc:0.71034\n",
      "[318]\ttrain-auc:0.78969\teval-auc:0.71040\n",
      "[319]\ttrain-auc:0.78979\teval-auc:0.71041\n",
      "[320]\ttrain-auc:0.79000\teval-auc:0.71038\n",
      "[321]\ttrain-auc:0.79014\teval-auc:0.71034\n",
      "[322]\ttrain-auc:0.79021\teval-auc:0.71034\n",
      "[323]\ttrain-auc:0.79030\teval-auc:0.71035\n",
      "[324]\ttrain-auc:0.79045\teval-auc:0.71034\n",
      "[325]\ttrain-auc:0.79062\teval-auc:0.71038\n",
      "[326]\ttrain-auc:0.79077\teval-auc:0.71034\n",
      "[327]\ttrain-auc:0.79088\teval-auc:0.71033\n",
      "[328]\ttrain-auc:0.79104\teval-auc:0.71035\n",
      "[329]\ttrain-auc:0.79134\teval-auc:0.71031\n",
      "[330]\ttrain-auc:0.79158\teval-auc:0.71037\n",
      "[331]\ttrain-auc:0.79177\teval-auc:0.71033\n",
      "[332]\ttrain-auc:0.79197\teval-auc:0.71035\n",
      "[333]\ttrain-auc:0.79221\teval-auc:0.71031\n",
      "[334]\ttrain-auc:0.79242\teval-auc:0.71033\n",
      "[335]\ttrain-auc:0.79260\teval-auc:0.71033\n",
      "[336]\ttrain-auc:0.79280\teval-auc:0.71035\n",
      "[337]\ttrain-auc:0.79303\teval-auc:0.71038\n",
      "[338]\ttrain-auc:0.79321\teval-auc:0.71036\n",
      "Stopping. Best iteration:\n",
      "[288]\ttrain-auc:0.78442\teval-auc:0.71066\n",
      "\n"
     ]
    }
   ],
   "source": [
    "watchlist=[(dtrain,'train'),(dvalid,'eval')]\n",
    "num_boost_round=1500\n",
    "gbm=xgb.train(params,dtrain,num_boost_round,evals=watchlist,\n",
    "              early_stopping_rounds=50)"
   ]
  },
  {
   "cell_type": "markdown",
   "metadata": {},
   "source": [
    "### ROC curve"
   ]
  },
  {
   "cell_type": "code",
   "execution_count": 99,
   "metadata": {},
   "outputs": [],
   "source": [
    "from sklearn.metrics import roc_curve,auc\n",
    "from sklearn import linear_model, datasets\n",
    "import pylab as pl\n",
    "\n",
    "def draw_ROC(model, dtrain, dvalid, dtest, y_train, y_valid, y_test ):\n",
    "    probas_ = model.predict(dvalid, ntree_limit=model.best_ntree_limit)\n",
    "    probas_1 = model.predict(dtrain, ntree_limit=model.best_ntree_limit)\n",
    "    probas_2 = model.predict(dtest, ntree_limit=model.best_ntree_limit)\n",
    "    fpr, tpr, thresholds = roc_curve(y_valid, probas_)\n",
    "    fpr_1, tpr_1, thresholds_1 = roc_curve(y_train, probas_1)\n",
    "    fpr_2, tpr_2, thresholds_2 = roc_curve(y_test, probas_2)\n",
    "    roc_auc = auc(fpr, tpr)\n",
    "    roc_auc_1 = auc(fpr_1, tpr_1)\n",
    "    roc_auc_2 = auc(fpr_2, tpr_2)\n",
    "    print (\"Area under the ROC curve - validation: %f\" % roc_auc)\n",
    "    print (\"Area under the ROC curve - train: %f\" % roc_auc_1)\n",
    "    print (\"Area under the ROC curve - test: %f\" % roc_auc_2)\n",
    "    \n",
    "    # Plot ROC curve\n",
    "    plt.figure(figsize=(8,8))\n",
    "    plt.plot(fpr, tpr, label='ROC curve - valid(AUC = %0.2f)' % roc_auc, color='r')\n",
    "    plt.plot(fpr_1, tpr_1, label='ROC curve - train (AUC = %0.2f)' % roc_auc_1, color='b')\n",
    "    plt.plot(fpr_2, tpr_2, label='ROC curve - test (AUC = %0.2f)' % roc_auc_2, color='g')\n",
    "    plt.plot([0, 1], [0, 1], 'k--')\n",
    "    plt.xlim([0.0, 1.0])\n",
    "    plt.ylim([0.0, 1.0])\n",
    "    plt.xlabel('False Positive Rate')\n",
    "    plt.ylabel('True Positive Rate')\n",
    "    plt.title('ROC for lead score model')\n",
    "    plt.legend(loc=\"lower right\")\n",
    "    plt.show()"
   ]
  },
  {
   "cell_type": "code",
   "execution_count": 100,
   "metadata": {},
   "outputs": [
    {
     "name": "stdout",
     "output_type": "stream",
     "text": [
      "Area under the ROC curve - validation: 0.710665\n",
      "Area under the ROC curve - train: 0.784421\n",
      "Area under the ROC curve - test: 0.693779\n"
     ]
    },
    {
     "data": {
      "image/png": "[encoded data removed]",
      "text/plain": [
       "<Figure size 576x576 with 1 Axes>"
      ]
     },
     "metadata": {
      "needs_background": "light"
     },
     "output_type": "display_data"
    }
   ],
   "source": [
    "draw_ROC(gbm, dtrain, dvalid, dtest, Y_train,Y_valid,Y_test)"
   ]
  },
  {
   "cell_type": "markdown",
   "metadata": {},
   "source": [
    "#### distribution of predicted values"
   ]
  },
  {
   "cell_type": "code",
   "execution_count": 101,
   "metadata": {},
   "outputs": [],
   "source": [
    "y_pred=gbm.predict(dtest)"
   ]
  },
  {
   "cell_type": "code",
   "execution_count": 102,
   "metadata": {},
   "outputs": [
    {
     "name": "stdout",
     "output_type": "stream",
     "text": [
      "0.7893423 0.006062867 0.1748661\n"
     ]
    }
   ],
   "source": [
    "print (y_pred.max(),y_pred.min(),y_pred.mean())"
   ]
  },
  {
   "cell_type": "markdown",
   "metadata": {},
   "source": [
    "### feature importance"
   ]
  },
  {
   "cell_type": "code",
   "execution_count": 103,
   "metadata": {},
   "outputs": [],
   "source": [
    "importance=gbm.get_fscore()"
   ]
  },
  {
   "cell_type": "code",
   "execution_count": 104,
   "metadata": {},
   "outputs": [],
   "source": [
    "df_importance=pd.DataFrame(importance.items(),columns=['feature', 'fscore'])\n",
    "df_importance['fscore']=df_importance['fscore'] / df_importance['fscore'].sum()"
   ]
  },
  {
   "cell_type": "code",
   "execution_count": 105,
   "metadata": {},
   "outputs": [
    {
     "data": {
      "text/html": [
       "<div>\n",
       "<style scoped>\n",
       "    .dataframe tbody tr th:only-of-type {\n",
       "        vertical-align: middle;\n",
       "    }\n",
       "\n",
       "    .dataframe tbody tr th {\n",
       "        vertical-align: top;\n",
       "    }\n",
       "\n",
       "    .dataframe thead th {\n",
       "        text-align: right;\n",
       "    }\n",
       "</style>\n",
       "<table border=\"1\" class=\"dataframe\">\n",
       "  <thead>\n",
       "    <tr style=\"text-align: right;\">\n",
       "      <th></th>\n",
       "      <th>feature</th>\n",
       "      <th>fscore</th>\n",
       "    </tr>\n",
       "  </thead>\n",
       "  <tbody>\n",
       "    <tr>\n",
       "      <th>12</th>\n",
       "      <td>dti</td>\n",
       "      <td>0.038560</td>\n",
       "    </tr>\n",
       "    <tr>\n",
       "      <th>26</th>\n",
       "      <td>installment</td>\n",
       "      <td>0.033896</td>\n",
       "    </tr>\n",
       "    <tr>\n",
       "      <th>16</th>\n",
       "      <td>emptitle_freq</td>\n",
       "      <td>0.032911</td>\n",
       "    </tr>\n",
       "    <tr>\n",
       "      <th>59</th>\n",
       "      <td>zipcode</td>\n",
       "      <td>0.030874</td>\n",
       "    </tr>\n",
       "    <tr>\n",
       "      <th>52</th>\n",
       "      <td>maxbalbc</td>\n",
       "      <td>0.027721</td>\n",
       "    </tr>\n",
       "    <tr>\n",
       "      <th>...</th>\n",
       "      <td>...</td>\n",
       "      <td>...</td>\n",
       "    </tr>\n",
       "    <tr>\n",
       "      <th>85</th>\n",
       "      <td>purpose_car</td>\n",
       "      <td>0.000197</td>\n",
       "    </tr>\n",
       "    <tr>\n",
       "      <th>66</th>\n",
       "      <td>pubrec</td>\n",
       "      <td>0.000197</td>\n",
       "    </tr>\n",
       "    <tr>\n",
       "      <th>94</th>\n",
       "      <td>chargeoffwithin12mths</td>\n",
       "      <td>0.000197</td>\n",
       "    </tr>\n",
       "    <tr>\n",
       "      <th>96</th>\n",
       "      <td>purpose_house</td>\n",
       "      <td>0.000066</td>\n",
       "    </tr>\n",
       "    <tr>\n",
       "      <th>98</th>\n",
       "      <td>purpose_major_purchase</td>\n",
       "      <td>0.000066</td>\n",
       "    </tr>\n",
       "  </tbody>\n",
       "</table>\n",
       "<p>99 rows × 2 columns</p>\n",
       "</div>"
      ],
      "text/plain": [
       "                   feature    fscore\n",
       "12                     dti  0.038560\n",
       "26             installment  0.033896\n",
       "16           emptitle_freq  0.032911\n",
       "59                 zipcode  0.030874\n",
       "52                maxbalbc  0.027721\n",
       "..                     ...       ...\n",
       "85             purpose_car  0.000197\n",
       "66                  pubrec  0.000197\n",
       "94   chargeoffwithin12mths  0.000197\n",
       "96           purpose_house  0.000066\n",
       "98  purpose_major_purchase  0.000066\n",
       "\n",
       "[99 rows x 2 columns]"
      ]
     },
     "execution_count": 105,
     "metadata": {},
     "output_type": "execute_result"
    }
   ],
   "source": [
    "df_importance.sort_values(['fscore'],ascending=False, inplace=True)\n",
    "df_importance"
   ]
  },
  {
   "cell_type": "code",
   "execution_count": 106,
   "metadata": {},
   "outputs": [
    {
     "data": {
      "text/plain": [
       "<Figure size 2304x2304 with 0 Axes>"
      ]
     },
     "metadata": {},
     "output_type": "display_data"
    },
    {
     "data": {
      "image/png": "[encoded data removed]",
      "text/plain": [
       "<Figure size 432x720 with 1 Axes>"
      ]
     },
     "metadata": {
      "needs_background": "light"
     },
     "output_type": "display_data"
    }
   ],
   "source": [
    "plt.figure(figsize=(32,32))\n",
    "df_importance[:20].plot(kind='barh',x='feature',y='fscore',legend=False,figsize=(6,10))\n",
    "plt.title('XGBoost Feature Importance')\n",
    "plt.xlabel('relative importance')\n",
    "plt.gcf().savefig('feature_importance_xgb_Xinrui.png')"
   ]
  },
  {
   "cell_type": "code",
   "execution_count": 107,
   "metadata": {},
   "outputs": [
    {
     "data": {
      "text/html": [
       "<div>\n",
       "<style scoped>\n",
       "    .dataframe tbody tr th:only-of-type {\n",
       "        vertical-align: middle;\n",
       "    }\n",
       "\n",
       "    .dataframe tbody tr th {\n",
       "        vertical-align: top;\n",
       "    }\n",
       "\n",
       "    .dataframe thead th {\n",
       "        text-align: right;\n",
       "    }\n",
       "</style>\n",
       "<table border=\"1\" class=\"dataframe\">\n",
       "  <thead>\n",
       "    <tr style=\"text-align: right;\">\n",
       "      <th></th>\n",
       "      <th>feature</th>\n",
       "      <th>fscore</th>\n",
       "    </tr>\n",
       "  </thead>\n",
       "  <tbody>\n",
       "    <tr>\n",
       "      <th>1</th>\n",
       "      <td>grade</td>\n",
       "      <td>0.002562</td>\n",
       "    </tr>\n",
       "  </tbody>\n",
       "</table>\n",
       "</div>"
      ],
      "text/plain": [
       "  feature    fscore\n",
       "1   grade  0.002562"
      ]
     },
     "execution_count": 107,
     "metadata": {},
     "output_type": "execute_result"
    }
   ],
   "source": [
    "grade_importance=df_importance.query(\"feature=='grade'\")\n",
    "grade_importance"
   ]
  },
  {
   "cell_type": "code",
   "execution_count": 108,
   "metadata": {},
   "outputs": [
    {
     "data": {
      "text/html": [
       "<div>\n",
       "<style scoped>\n",
       "    .dataframe tbody tr th:only-of-type {\n",
       "        vertical-align: middle;\n",
       "    }\n",
       "\n",
       "    .dataframe tbody tr th {\n",
       "        vertical-align: top;\n",
       "    }\n",
       "\n",
       "    .dataframe thead th {\n",
       "        text-align: right;\n",
       "    }\n",
       "</style>\n",
       "<table border=\"1\" class=\"dataframe\">\n",
       "  <thead>\n",
       "    <tr style=\"text-align: right;\">\n",
       "      <th></th>\n",
       "      <th>feature</th>\n",
       "      <th>fscore</th>\n",
       "    </tr>\n",
       "  </thead>\n",
       "  <tbody>\n",
       "    <tr>\n",
       "      <th>2</th>\n",
       "      <td>subgrade</td>\n",
       "      <td>0.005978</td>\n",
       "    </tr>\n",
       "  </tbody>\n",
       "</table>\n",
       "</div>"
      ],
      "text/plain": [
       "    feature    fscore\n",
       "2  subgrade  0.005978"
      ]
     },
     "execution_count": 108,
     "metadata": {},
     "output_type": "execute_result"
    }
   ],
   "source": [
    "subgrade_importance=df_importance.query(\"feature=='subgrade'\")\n",
    "subgrade_importance"
   ]
  },
  {
   "cell_type": "code",
   "execution_count": 109,
   "metadata": {},
   "outputs": [
    {
     "data": {
      "text/html": [
       "<div>\n",
       "<style scoped>\n",
       "    .dataframe tbody tr th:only-of-type {\n",
       "        vertical-align: middle;\n",
       "    }\n",
       "\n",
       "    .dataframe tbody tr th {\n",
       "        vertical-align: top;\n",
       "    }\n",
       "\n",
       "    .dataframe thead th {\n",
       "        text-align: right;\n",
       "    }\n",
       "</style>\n",
       "<table border=\"1\" class=\"dataframe\">\n",
       "  <thead>\n",
       "    <tr style=\"text-align: right;\">\n",
       "      <th></th>\n",
       "      <th>feature</th>\n",
       "      <th>fscore</th>\n",
       "    </tr>\n",
       "  </thead>\n",
       "  <tbody>\n",
       "    <tr>\n",
       "      <th>0</th>\n",
       "      <td>intrate</td>\n",
       "      <td>0.022992</td>\n",
       "    </tr>\n",
       "  </tbody>\n",
       "</table>\n",
       "</div>"
      ],
      "text/plain": [
       "   feature    fscore\n",
       "0  intrate  0.022992"
      ]
     },
     "execution_count": 109,
     "metadata": {},
     "output_type": "execute_result"
    }
   ],
   "source": [
    "intrate_importance=df_importance.query(\"feature=='intrate'\")\n",
    "intrate_importance"
   ]
  },
  {
   "cell_type": "code",
   "execution_count": 110,
   "metadata": {},
   "outputs": [
    {
     "data": {
      "text/html": [
       "<div>\n",
       "<style scoped>\n",
       "    .dataframe tbody tr th:only-of-type {\n",
       "        vertical-align: middle;\n",
       "    }\n",
       "\n",
       "    .dataframe tbody tr th {\n",
       "        vertical-align: top;\n",
       "    }\n",
       "\n",
       "    .dataframe thead th {\n",
       "        text-align: right;\n",
       "    }\n",
       "</style>\n",
       "<table border=\"1\" class=\"dataframe\">\n",
       "  <thead>\n",
       "    <tr style=\"text-align: right;\">\n",
       "      <th></th>\n",
       "      <th>feature</th>\n",
       "      <th>fscore</th>\n",
       "    </tr>\n",
       "  </thead>\n",
       "  <tbody>\n",
       "    <tr>\n",
       "      <th>31</th>\n",
       "      <td>loanamnt</td>\n",
       "      <td>0.013532</td>\n",
       "    </tr>\n",
       "  </tbody>\n",
       "</table>\n",
       "</div>"
      ],
      "text/plain": [
       "     feature    fscore\n",
       "31  loanamnt  0.013532"
      ]
     },
     "execution_count": 110,
     "metadata": {},
     "output_type": "execute_result"
    }
   ],
   "source": [
    "df_importance.query(\"feature=='loanamnt'\")"
   ]
  },
  {
   "cell_type": "code",
   "execution_count": 111,
   "metadata": {},
   "outputs": [
    {
     "data": {
      "text/plain": [
       "Text(0.5, 0, 'relative importance')"
      ]
     },
     "execution_count": 111,
     "metadata": {},
     "output_type": "execute_result"
    },
    {
     "data": {
      "text/plain": [
       "<Figure size 2304x2304 with 0 Axes>"
      ]
     },
     "metadata": {},
     "output_type": "display_data"
    },
    {
     "data": {
      "image/png": "[encoded data removed]",
      "text/plain": [
       "<Figure size 432x720 with 1 Axes>"
      ]
     },
     "metadata": {
      "needs_background": "light"
     },
     "output_type": "display_data"
    }
   ],
   "source": [
    "plt.figure(figsize=(32, 32))\n",
    "# df_importance.plot()\n",
    "df_importance.plot(kind='barh', x='feature', y='fscore', legend=False, figsize=(6, 10))\n",
    "plt.title('XGBoost Feature Importance')\n",
    "plt.xlabel('relative importance')"
   ]
  },
  {
   "cell_type": "markdown",
   "metadata": {},
   "source": [
    "### Save model"
   ]
  },
  {
   "cell_type": "code",
   "execution_count": 112,
   "metadata": {},
   "outputs": [],
   "source": [
    "import pickle\n",
    "pickle.dump(gbm, open('model.pkl','wb'))"
   ]
  },
  {
   "cell_type": "code",
   "execution_count": 113,
   "metadata": {},
   "outputs": [
    {
     "data": {
      "text/plain": [
       "['pima.joblib.dat']"
      ]
     },
     "execution_count": 113,
     "metadata": {},
     "output_type": "execute_result"
    }
   ],
   "source": [
    "import joblib\n",
    "joblib.dump(gbm,'pima.joblib.dat')"
   ]
  },
  {
   "cell_type": "code",
   "execution_count": 114,
   "metadata": {},
   "outputs": [],
   "source": [
    "with open('model.pkl','wb') as outfile:\n",
    "    pickle.dump(gbm,outfile)"
   ]
  },
  {
   "cell_type": "code",
   "execution_count": null,
   "metadata": {},
   "outputs": [],
   "source": []
  }
 ],
 "metadata": {
  "kernelspec": {
   "display_name": "Python 3",
   "language": "python",
   "name": "python3"
  },
  "language_info": {
   "codemirror_mode": {
    "name": "ipython",
    "version": 3
   },
   "file_extension": ".py",
   "mimetype": "text/x-python",
   "name": "python",
   "nbconvert_exporter": "python",
   "pygments_lexer": "ipython3",
   "version": "3.8.3"
  }
 },
 "nbformat": 4,
 "nbformat_minor": 2
}
