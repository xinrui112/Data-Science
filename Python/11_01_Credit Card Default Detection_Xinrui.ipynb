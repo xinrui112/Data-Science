{
 "cells": [
  {
   "cell_type": "markdown",
   "metadata": {},
   "source": [
    "# Project 3. Credit Card Default Detection"
   ]
  },
  {
   "cell_type": "markdown",
   "metadata": {},
   "source": [
    "### Objective\n",
    "* predict whether a credit card would be default(坏账) or not. / credit default, 还不起钱, 造成坏账.\n",
    "* a classification problem: Binary problem 0/1.\n",
    "\n",
    "### Steps\n",
    "1. Perform feature engineering.\n",
    "    * Discern the categorical and continuous variables.\n",
    "    * Check if features have linear relationship between each other.\n",
    "2. Choose a classifier.\n",
    "3. Find a way to deal with imbalanced data in target"
   ]
  },
  {
   "cell_type": "code",
   "execution_count": 1,
   "metadata": {},
   "outputs": [],
   "source": [
    "import numpy as np\n",
    "import pandas as pd\n",
    "import matplotlib.pyplot as plt\n",
    "%matplotlib inline\n",
    "import seaborn as sns"
   ]
  },
  {
   "cell_type": "markdown",
   "metadata": {},
   "source": [
    "### 1. Load Data"
   ]
  },
  {
   "cell_type": "markdown",
   "metadata": {},
   "source": [
    "There are three datasets available:\n",
    "* test.csv: testing dataset, to test, build, validate models\n",
    "* train.csv: training dataset, to impute predictions\n",
    "* testGroundTruth (optional)"
   ]
  },
  {
   "cell_type": "code",
   "execution_count": 2,
   "metadata": {},
   "outputs": [
    {
     "name": "stdout",
     "output_type": "stream",
     "text": [
      "train shape is: (25000, 25)\n",
      "test shape is: (5000, 24)\n"
     ]
    }
   ],
   "source": [
    "train=pd.read_csv(\"train.csv\")\n",
    "test=pd.read_csv(\"test.csv\")\n",
    "print(\"train shape is:\",train.shape)\n",
    "print(\"test shape is:\",test.shape)\n",
    "#train: train+validation\n",
    "#test: prediction"
   ]
  },
  {
   "cell_type": "code",
   "execution_count": 3,
   "metadata": {},
   "outputs": [
    {
     "data": {
      "text/html": [
       "<div>\n",
       "<style scoped>\n",
       "    .dataframe tbody tr th:only-of-type {\n",
       "        vertical-align: middle;\n",
       "    }\n",
       "\n",
       "    .dataframe tbody tr th {\n",
       "        vertical-align: top;\n",
       "    }\n",
       "\n",
       "    .dataframe thead th {\n",
       "        text-align: right;\n",
       "    }\n",
       "</style>\n",
       "<table border=\"1\" class=\"dataframe\">\n",
       "  <thead>\n",
       "    <tr style=\"text-align: right;\">\n",
       "      <th></th>\n",
       "      <th>id</th>\n",
       "      <th>X1</th>\n",
       "      <th>X2</th>\n",
       "      <th>X3</th>\n",
       "      <th>X4</th>\n",
       "      <th>X5</th>\n",
       "      <th>X6</th>\n",
       "      <th>X7</th>\n",
       "      <th>X8</th>\n",
       "      <th>X9</th>\n",
       "      <th>...</th>\n",
       "      <th>X15</th>\n",
       "      <th>X16</th>\n",
       "      <th>X17</th>\n",
       "      <th>X18</th>\n",
       "      <th>X19</th>\n",
       "      <th>X20</th>\n",
       "      <th>X21</th>\n",
       "      <th>X22</th>\n",
       "      <th>X23</th>\n",
       "      <th>Y</th>\n",
       "    </tr>\n",
       "  </thead>\n",
       "  <tbody>\n",
       "    <tr>\n",
       "      <th>0</th>\n",
       "      <td>1</td>\n",
       "      <td>200000</td>\n",
       "      <td>2</td>\n",
       "      <td>3</td>\n",
       "      <td>1</td>\n",
       "      <td>53</td>\n",
       "      <td>0</td>\n",
       "      <td>0</td>\n",
       "      <td>0</td>\n",
       "      <td>0</td>\n",
       "      <td>...</td>\n",
       "      <td>133207</td>\n",
       "      <td>136159</td>\n",
       "      <td>138741</td>\n",
       "      <td>6500</td>\n",
       "      <td>5000</td>\n",
       "      <td>5000</td>\n",
       "      <td>5100</td>\n",
       "      <td>5000</td>\n",
       "      <td>5400</td>\n",
       "      <td>0</td>\n",
       "    </tr>\n",
       "    <tr>\n",
       "      <th>1</th>\n",
       "      <td>2</td>\n",
       "      <td>130000</td>\n",
       "      <td>2</td>\n",
       "      <td>3</td>\n",
       "      <td>2</td>\n",
       "      <td>39</td>\n",
       "      <td>0</td>\n",
       "      <td>0</td>\n",
       "      <td>0</td>\n",
       "      <td>2</td>\n",
       "      <td>...</td>\n",
       "      <td>130814</td>\n",
       "      <td>130758</td>\n",
       "      <td>123468</td>\n",
       "      <td>7500</td>\n",
       "      <td>10000</td>\n",
       "      <td>0</td>\n",
       "      <td>4500</td>\n",
       "      <td>4500</td>\n",
       "      <td>4179</td>\n",
       "      <td>0</td>\n",
       "    </tr>\n",
       "    <tr>\n",
       "      <th>2</th>\n",
       "      <td>3</td>\n",
       "      <td>350000</td>\n",
       "      <td>2</td>\n",
       "      <td>1</td>\n",
       "      <td>2</td>\n",
       "      <td>41</td>\n",
       "      <td>0</td>\n",
       "      <td>0</td>\n",
       "      <td>0</td>\n",
       "      <td>0</td>\n",
       "      <td>...</td>\n",
       "      <td>119947</td>\n",
       "      <td>117328</td>\n",
       "      <td>118400</td>\n",
       "      <td>6000</td>\n",
       "      <td>5900</td>\n",
       "      <td>5800</td>\n",
       "      <td>4100</td>\n",
       "      <td>4500</td>\n",
       "      <td>5000</td>\n",
       "      <td>0</td>\n",
       "    </tr>\n",
       "    <tr>\n",
       "      <th>3</th>\n",
       "      <td>4</td>\n",
       "      <td>240000</td>\n",
       "      <td>2</td>\n",
       "      <td>2</td>\n",
       "      <td>1</td>\n",
       "      <td>43</td>\n",
       "      <td>1</td>\n",
       "      <td>-2</td>\n",
       "      <td>-2</td>\n",
       "      <td>-1</td>\n",
       "      <td>...</td>\n",
       "      <td>12700</td>\n",
       "      <td>12500</td>\n",
       "      <td>26225</td>\n",
       "      <td>0</td>\n",
       "      <td>0</td>\n",
       "      <td>12700</td>\n",
       "      <td>0</td>\n",
       "      <td>13725</td>\n",
       "      <td>0</td>\n",
       "      <td>0</td>\n",
       "    </tr>\n",
       "    <tr>\n",
       "      <th>4</th>\n",
       "      <td>5</td>\n",
       "      <td>180000</td>\n",
       "      <td>1</td>\n",
       "      <td>2</td>\n",
       "      <td>2</td>\n",
       "      <td>28</td>\n",
       "      <td>-1</td>\n",
       "      <td>-1</td>\n",
       "      <td>-1</td>\n",
       "      <td>-1</td>\n",
       "      <td>...</td>\n",
       "      <td>332</td>\n",
       "      <td>416</td>\n",
       "      <td>416</td>\n",
       "      <td>0</td>\n",
       "      <td>416</td>\n",
       "      <td>332</td>\n",
       "      <td>500</td>\n",
       "      <td>3500</td>\n",
       "      <td>832</td>\n",
       "      <td>0</td>\n",
       "    </tr>\n",
       "  </tbody>\n",
       "</table>\n",
       "<p>5 rows × 25 columns</p>\n",
       "</div>"
      ],
      "text/plain": [
       "   id      X1  X2  X3  X4  X5  X6  X7  X8  X9  ...     X15     X16     X17  \\\n",
       "0   1  200000   2   3   1  53   0   0   0   0  ...  133207  136159  138741   \n",
       "1   2  130000   2   3   2  39   0   0   0   2  ...  130814  130758  123468   \n",
       "2   3  350000   2   1   2  41   0   0   0   0  ...  119947  117328  118400   \n",
       "3   4  240000   2   2   1  43   1  -2  -2  -1  ...   12700   12500   26225   \n",
       "4   5  180000   1   2   2  28  -1  -1  -1  -1  ...     332     416     416   \n",
       "\n",
       "    X18    X19    X20   X21    X22   X23  Y  \n",
       "0  6500   5000   5000  5100   5000  5400  0  \n",
       "1  7500  10000      0  4500   4500  4179  0  \n",
       "2  6000   5900   5800  4100   4500  5000  0  \n",
       "3     0      0  12700     0  13725     0  0  \n",
       "4     0    416    332   500   3500   832  0  \n",
       "\n",
       "[5 rows x 25 columns]"
      ]
     },
     "execution_count": 3,
     "metadata": {},
     "output_type": "execute_result"
    }
   ],
   "source": [
    "train.head(5)"
   ]
  },
  {
   "cell_type": "code",
   "execution_count": 4,
   "metadata": {},
   "outputs": [
    {
     "data": {
      "text/plain": [
       "id     int64\n",
       "X1     int64\n",
       "X2     int64\n",
       "X3     int64\n",
       "X4     int64\n",
       "X5     int64\n",
       "X6     int64\n",
       "X7     int64\n",
       "X8     int64\n",
       "X9     int64\n",
       "X10    int64\n",
       "X11    int64\n",
       "X12    int64\n",
       "X13    int64\n",
       "X14    int64\n",
       "X15    int64\n",
       "X16    int64\n",
       "X17    int64\n",
       "X18    int64\n",
       "X19    int64\n",
       "X20    int64\n",
       "X21    int64\n",
       "X22    int64\n",
       "X23    int64\n",
       "Y      int64\n",
       "dtype: object"
      ]
     },
     "execution_count": 4,
     "metadata": {},
     "output_type": "execute_result"
    }
   ],
   "source": [
    "train.dtypes"
   ]
  },
  {
   "cell_type": "markdown",
   "metadata": {},
   "source": [
    "### 2. Explore data (EDA)"
   ]
  },
  {
   "cell_type": "markdown",
   "metadata": {},
   "source": [
    "### 2.1 Data Quality Check"
   ]
  },
  {
   "cell_type": "markdown",
   "metadata": {},
   "source": [
    "We perform the Data Quality Check from the following aspects:\n",
    "* Completeness (check missing values)\n",
    "* Uniqueness (check duplicates)\n",
    "* Skewness (check Numeric Distribution Skewness)"
   ]
  },
  {
   "cell_type": "code",
   "execution_count": 5,
   "metadata": {},
   "outputs": [
    {
     "data": {
      "text/plain": [
       "id     0\n",
       "X1     0\n",
       "X2     0\n",
       "X3     0\n",
       "X4     0\n",
       "X5     0\n",
       "X6     0\n",
       "X7     0\n",
       "X8     0\n",
       "X9     0\n",
       "X10    0\n",
       "X11    0\n",
       "X12    0\n",
       "X13    0\n",
       "X14    0\n",
       "X15    0\n",
       "X16    0\n",
       "X17    0\n",
       "X18    0\n",
       "X19    0\n",
       "X20    0\n",
       "X21    0\n",
       "X22    0\n",
       "X23    0\n",
       "Y      0\n",
       "dtype: int64"
      ]
     },
     "execution_count": 5,
     "metadata": {},
     "output_type": "execute_result"
    }
   ],
   "source": [
    "# No null values\n",
    "train.isna().sum()"
   ]
  },
  {
   "cell_type": "code",
   "execution_count": 6,
   "metadata": {},
   "outputs": [
    {
     "data": {
      "text/plain": [
       "True"
      ]
     },
     "execution_count": 6,
     "metadata": {},
     "output_type": "execute_result"
    }
   ],
   "source": [
    "# No duplicates\n",
    "len(train.id)==len(set(train.id))"
   ]
  },
  {
   "cell_type": "code",
   "execution_count": 7,
   "metadata": {},
   "outputs": [
    {
     "name": "stdout",
     "output_type": "stream",
     "text": [
      "0    19452\n",
      "1     5548\n",
      "Name: Y, dtype: int64\n",
      "0    0.77808\n",
      "1    0.22192\n",
      "Name: Y, dtype: float64\n"
     ]
    }
   ],
   "source": [
    "# check distribution\n",
    "# imbalanced dataset\n",
    "print (train.Y.value_counts())\n",
    "print (train.Y.value_counts(normalize=True))"
   ]
  },
  {
   "cell_type": "markdown",
   "metadata": {},
   "source": [
    "### 2.2 Obj/Num Features"
   ]
  },
  {
   "cell_type": "markdown",
   "metadata": {},
   "source": [
    "Based on the business context, we categorize all the variables into following groups:\n",
    "\n",
    "**Demographic**:\n",
    "  * Gender(Obj): M/F\n",
    "  * Education(Obj): High school/University/Grad School/Others\n",
    "  * Marital(Obj): Single/Married/Others\n",
    "  * Age(Num)\n",
    "  \n",
    "**Credit**:\n",
    "  * Credit_line(Num)\n",
    "  \n",
    "**Payment**:\n",
    "  * Sep_2015~Apr_2015(Obj): Ahead/On_time/Delay\n",
    "  * 201509_S~201504_S(Num)\n",
    "  * 201509_P~201504_P(Num)\n",
    "\n",
    "=>**Metrics**:\n",
    "  * Calculated(Num 0-1): Over_credit? Bills/Credit_line\n",
    "  * Amount of Payment(Num 0-1): Partially paid/full paid: 201509_P~201504_P/B\n",
    "  * Timing of Payment(Obj): Ahead/On_time/Delay"
   ]
  },
  {
   "cell_type": "code",
   "execution_count": 8,
   "metadata": {},
   "outputs": [
    {
     "name": "stdout",
     "output_type": "stream",
     "text": [
      "0\n"
     ]
    },
    {
     "data": {
      "text/plain": [
       "[]"
      ]
     },
     "execution_count": 8,
     "metadata": {},
     "output_type": "execute_result"
    }
   ],
   "source": [
    "obj_var=list(train.select_dtypes(np.object))\n",
    "print(len(obj_var))\n",
    "obj_var"
   ]
  },
  {
   "cell_type": "code",
   "execution_count": 9,
   "metadata": {},
   "outputs": [
    {
     "data": {
      "text/html": [
       "<div>\n",
       "<style scoped>\n",
       "    .dataframe tbody tr th:only-of-type {\n",
       "        vertical-align: middle;\n",
       "    }\n",
       "\n",
       "    .dataframe tbody tr th {\n",
       "        vertical-align: top;\n",
       "    }\n",
       "\n",
       "    .dataframe thead th {\n",
       "        text-align: right;\n",
       "    }\n",
       "</style>\n",
       "<table border=\"1\" class=\"dataframe\">\n",
       "  <thead>\n",
       "    <tr style=\"text-align: right;\">\n",
       "      <th></th>\n",
       "      <th>X2</th>\n",
       "      <th>X3</th>\n",
       "      <th>X4</th>\n",
       "      <th>X5</th>\n",
       "    </tr>\n",
       "  </thead>\n",
       "  <tbody>\n",
       "    <tr>\n",
       "      <th>0</th>\n",
       "      <td>2</td>\n",
       "      <td>3</td>\n",
       "      <td>1</td>\n",
       "      <td>53</td>\n",
       "    </tr>\n",
       "    <tr>\n",
       "      <th>1</th>\n",
       "      <td>2</td>\n",
       "      <td>3</td>\n",
       "      <td>2</td>\n",
       "      <td>39</td>\n",
       "    </tr>\n",
       "    <tr>\n",
       "      <th>2</th>\n",
       "      <td>2</td>\n",
       "      <td>1</td>\n",
       "      <td>2</td>\n",
       "      <td>41</td>\n",
       "    </tr>\n",
       "    <tr>\n",
       "      <th>3</th>\n",
       "      <td>2</td>\n",
       "      <td>2</td>\n",
       "      <td>1</td>\n",
       "      <td>43</td>\n",
       "    </tr>\n",
       "    <tr>\n",
       "      <th>4</th>\n",
       "      <td>1</td>\n",
       "      <td>2</td>\n",
       "      <td>2</td>\n",
       "      <td>28</td>\n",
       "    </tr>\n",
       "  </tbody>\n",
       "</table>\n",
       "</div>"
      ],
      "text/plain": [
       "   X2  X3  X4  X5\n",
       "0   2   3   1  53\n",
       "1   2   3   2  39\n",
       "2   2   1   2  41\n",
       "3   2   2   1  43\n",
       "4   1   2   2  28"
      ]
     },
     "execution_count": 9,
     "metadata": {},
     "output_type": "execute_result"
    }
   ],
   "source": [
    "demogra=train.iloc[:5,2:6]\n",
    "demogra"
   ]
  },
  {
   "cell_type": "code",
   "execution_count": 10,
   "metadata": {},
   "outputs": [
    {
     "data": {
      "text/plain": [
       "['X2', 'X3', 'X4', 'X5']"
      ]
     },
     "execution_count": 10,
     "metadata": {},
     "output_type": "execute_result"
    }
   ],
   "source": [
    "demogra_var=demogra.columns.tolist()\n",
    "demogra_var"
   ]
  },
  {
   "cell_type": "code",
   "execution_count": 11,
   "metadata": {},
   "outputs": [
    {
     "data": {
      "text/html": [
       "<div>\n",
       "<style scoped>\n",
       "    .dataframe tbody tr th:only-of-type {\n",
       "        vertical-align: middle;\n",
       "    }\n",
       "\n",
       "    .dataframe tbody tr th {\n",
       "        vertical-align: top;\n",
       "    }\n",
       "\n",
       "    .dataframe thead th {\n",
       "        text-align: right;\n",
       "    }\n",
       "</style>\n",
       "<table border=\"1\" class=\"dataframe\">\n",
       "  <thead>\n",
       "    <tr style=\"text-align: right;\">\n",
       "      <th></th>\n",
       "      <th>X6</th>\n",
       "      <th>X7</th>\n",
       "      <th>X8</th>\n",
       "      <th>X9</th>\n",
       "      <th>X10</th>\n",
       "      <th>X11</th>\n",
       "    </tr>\n",
       "  </thead>\n",
       "  <tbody>\n",
       "    <tr>\n",
       "      <th>0</th>\n",
       "      <td>0</td>\n",
       "      <td>0</td>\n",
       "      <td>0</td>\n",
       "      <td>0</td>\n",
       "      <td>0</td>\n",
       "      <td>0</td>\n",
       "    </tr>\n",
       "    <tr>\n",
       "      <th>1</th>\n",
       "      <td>0</td>\n",
       "      <td>0</td>\n",
       "      <td>0</td>\n",
       "      <td>2</td>\n",
       "      <td>0</td>\n",
       "      <td>0</td>\n",
       "    </tr>\n",
       "    <tr>\n",
       "      <th>2</th>\n",
       "      <td>0</td>\n",
       "      <td>0</td>\n",
       "      <td>0</td>\n",
       "      <td>0</td>\n",
       "      <td>0</td>\n",
       "      <td>0</td>\n",
       "    </tr>\n",
       "    <tr>\n",
       "      <th>3</th>\n",
       "      <td>1</td>\n",
       "      <td>-2</td>\n",
       "      <td>-2</td>\n",
       "      <td>-1</td>\n",
       "      <td>0</td>\n",
       "      <td>0</td>\n",
       "    </tr>\n",
       "    <tr>\n",
       "      <th>4</th>\n",
       "      <td>-1</td>\n",
       "      <td>-1</td>\n",
       "      <td>-1</td>\n",
       "      <td>-1</td>\n",
       "      <td>-1</td>\n",
       "      <td>-1</td>\n",
       "    </tr>\n",
       "  </tbody>\n",
       "</table>\n",
       "</div>"
      ],
      "text/plain": [
       "   X6  X7  X8  X9  X10  X11\n",
       "0   0   0   0   0    0    0\n",
       "1   0   0   0   2    0    0\n",
       "2   0   0   0   0    0    0\n",
       "3   1  -2  -2  -1    0    0\n",
       "4  -1  -1  -1  -1   -1   -1"
      ]
     },
     "execution_count": 11,
     "metadata": {},
     "output_type": "execute_result"
    }
   ],
   "source": [
    "payment=train.iloc[:5,6:12]\n",
    "payment"
   ]
  },
  {
   "cell_type": "code",
   "execution_count": 12,
   "metadata": {},
   "outputs": [
    {
     "data": {
      "text/plain": [
       "['X6', 'X7', 'X8', 'X9', 'X10', 'X11']"
      ]
     },
     "execution_count": 12,
     "metadata": {},
     "output_type": "execute_result"
    }
   ],
   "source": [
    "payment_var=payment.columns.tolist()\n",
    "payment_var"
   ]
  },
  {
   "cell_type": "code",
   "execution_count": 13,
   "metadata": {},
   "outputs": [
    {
     "name": "stdout",
     "output_type": "stream",
     "text": [
      "10\n"
     ]
    },
    {
     "data": {
      "text/plain": [
       "['X2', 'X3', 'X4', 'X5', 'X6', 'X7', 'X8', 'X9', 'X10', 'X11']"
      ]
     },
     "execution_count": 13,
     "metadata": {},
     "output_type": "execute_result"
    }
   ],
   "source": [
    "obj_var=demogra_var+payment_var\n",
    "print(len(obj_var))\n",
    "obj_var"
   ]
  },
  {
   "cell_type": "code",
   "execution_count": 14,
   "metadata": {},
   "outputs": [
    {
     "name": "stdout",
     "output_type": "stream",
     "text": [
      "25\n"
     ]
    },
    {
     "data": {
      "text/plain": [
       "['id',\n",
       " 'X1',\n",
       " 'X2',\n",
       " 'X3',\n",
       " 'X4',\n",
       " 'X5',\n",
       " 'X6',\n",
       " 'X7',\n",
       " 'X8',\n",
       " 'X9',\n",
       " 'X10',\n",
       " 'X11',\n",
       " 'X12',\n",
       " 'X13',\n",
       " 'X14',\n",
       " 'X15',\n",
       " 'X16',\n",
       " 'X17',\n",
       " 'X18',\n",
       " 'X19',\n",
       " 'X20',\n",
       " 'X21',\n",
       " 'X22',\n",
       " 'X23',\n",
       " 'Y']"
      ]
     },
     "execution_count": 14,
     "metadata": {},
     "output_type": "execute_result"
    }
   ],
   "source": [
    "num_var=list(train.select_dtypes(np.number))\n",
    "print(len(num_var))\n",
    "num_var"
   ]
  },
  {
   "cell_type": "code",
   "execution_count": 15,
   "metadata": {},
   "outputs": [
    {
     "name": "stdout",
     "output_type": "stream",
     "text": [
      "13\n"
     ]
    },
    {
     "data": {
      "text/plain": [
       "['X14',\n",
       " 'X12',\n",
       " 'X22',\n",
       " 'X18',\n",
       " 'X19',\n",
       " 'X17',\n",
       " 'X21',\n",
       " 'X23',\n",
       " 'X20',\n",
       " 'X13',\n",
       " 'X16',\n",
       " 'X15',\n",
       " 'X1']"
      ]
     },
     "execution_count": 15,
     "metadata": {},
     "output_type": "execute_result"
    }
   ],
   "source": [
    "num_var=list(set(num_var)-set(obj_var))\n",
    "num_var.remove('id')\n",
    "num_var.remove('Y')\n",
    "print(len(num_var))\n",
    "num_var"
   ]
  },
  {
   "cell_type": "code",
   "execution_count": 16,
   "metadata": {},
   "outputs": [
    {
     "data": {
      "text/html": [
       "<div>\n",
       "<style scoped>\n",
       "    .dataframe tbody tr th:only-of-type {\n",
       "        vertical-align: middle;\n",
       "    }\n",
       "\n",
       "    .dataframe tbody tr th {\n",
       "        vertical-align: top;\n",
       "    }\n",
       "\n",
       "    .dataframe thead th {\n",
       "        text-align: right;\n",
       "    }\n",
       "</style>\n",
       "<table border=\"1\" class=\"dataframe\">\n",
       "  <thead>\n",
       "    <tr style=\"text-align: right;\">\n",
       "      <th></th>\n",
       "      <th>Y</th>\n",
       "    </tr>\n",
       "  </thead>\n",
       "  <tbody>\n",
       "    <tr>\n",
       "      <th>0</th>\n",
       "      <td>0</td>\n",
       "    </tr>\n",
       "    <tr>\n",
       "      <th>1</th>\n",
       "      <td>0</td>\n",
       "    </tr>\n",
       "    <tr>\n",
       "      <th>2</th>\n",
       "      <td>0</td>\n",
       "    </tr>\n",
       "    <tr>\n",
       "      <th>3</th>\n",
       "      <td>0</td>\n",
       "    </tr>\n",
       "    <tr>\n",
       "      <th>4</th>\n",
       "      <td>0</td>\n",
       "    </tr>\n",
       "  </tbody>\n",
       "</table>\n",
       "</div>"
      ],
      "text/plain": [
       "   Y\n",
       "0  0\n",
       "1  0\n",
       "2  0\n",
       "3  0\n",
       "4  0"
      ]
     },
     "execution_count": 16,
     "metadata": {},
     "output_type": "execute_result"
    }
   ],
   "source": [
    "target=['Y']\n",
    "train[target].head()"
   ]
  },
  {
   "cell_type": "markdown",
   "metadata": {},
   "source": [
    "### 2.3 Check consistency in train/test dataset"
   ]
  },
  {
   "cell_type": "code",
   "execution_count": 17,
   "metadata": {},
   "outputs": [
    {
     "data": {
      "image/png": "[encoded data removed]",
      "text/plain": [
       "<Figure size 720x1440 with 2 Axes>"
      ]
     },
     "metadata": {
      "needs_background": "light"
     },
     "output_type": "display_data"
    },
    {
     "data": {
      "image/png": "[encoded data removed]",
      "text/plain": [
       "<Figure size 720x1440 with 2 Axes>"
      ]
     },
     "metadata": {
      "needs_background": "light"
     },
     "output_type": "display_data"
    },
    {
     "data": {
      "image/png": "[encoded data removed]",
      "text/plain": [
       "<Figure size 720x1440 with 2 Axes>"
      ]
     },
     "metadata": {
      "needs_background": "light"
     },
     "output_type": "display_data"
    },
    {
     "data": {
      "image/png": "[encoded data removed]",
      "text/plain": [
       "<Figure size 720x1440 with 2 Axes>"
      ]
     },
     "metadata": {
      "needs_background": "light"
     },
     "output_type": "display_data"
    },
    {
     "data": {
      "image/png": "[encoded data removed]",
      "text/plain": [
       "<Figure size 720x1440 with 2 Axes>"
      ]
     },
     "metadata": {
      "needs_background": "light"
     },
     "output_type": "display_data"
    },
    {
     "data": {
      "image/png": "[encoded data removed]",
      "text/plain": [
       "<Figure size 720x1440 with 2 Axes>"
      ]
     },
     "metadata": {
      "needs_background": "light"
     },
     "output_type": "display_data"
    },
    {
     "data": {
      "image/png": "[encoded data removed]",
      "text/plain": [
       "<Figure size 720x1440 with 2 Axes>"
      ]
     },
     "metadata": {
      "needs_background": "light"
     },
     "output_type": "display_data"
    },
    {
     "data": {
      "image/png": "[encoded data removed]",
      "text/plain": [
       "<Figure size 720x1440 with 2 Axes>"
      ]
     },
     "metadata": {
      "needs_background": "light"
     },
     "output_type": "display_data"
    },
    {
     "data": {
      "image/png": "[encoded data removed]",
      "text/plain": [
       "<Figure size 720x1440 with 2 Axes>"
      ]
     },
     "metadata": {
      "needs_background": "light"
     },
     "output_type": "display_data"
    },
    {
     "data": {
      "image/png": "[encoded data removed]",
      "text/plain": [
       "<Figure size 720x1440 with 2 Axes>"
      ]
     },
     "metadata": {
      "needs_background": "light"
     },
     "output_type": "display_data"
    }
   ],
   "source": [
    "#obj_var\n",
    "count=1\n",
    "for i in range(len(obj_var)):\n",
    "    fig = plt.figure(figsize=(10,20))\n",
    "    \n",
    "    plt.subplot(len(obj_var),2,count)\n",
    "    plt.bar(train[obj_var[i]].value_counts().index, train[obj_var[i]].value_counts().values)\n",
    "    plt.title(\"train \"+obj_var[i])\n",
    "    \n",
    "    plt.subplot(len(obj_var),2,count+1)\n",
    "    plt.bar(test[obj_var[i]].value_counts().index, test[obj_var[i]].value_counts().values)\n",
    "    plt.title(\"test \"+obj_var[i])\n",
    "    count+=2"
   ]
  },
  {
   "cell_type": "code",
   "execution_count": 18,
   "metadata": {},
   "outputs": [
    {
     "data": {
      "image/png": "[encoded data removed]",
      "text/plain": [
       "<Figure size 720x3600 with 2 Axes>"
      ]
     },
     "metadata": {
      "needs_background": "light"
     },
     "output_type": "display_data"
    },
    {
     "data": {
      "image/png": "[encoded data removed]",
      "text/plain": [
       "<Figure size 720x3600 with 2 Axes>"
      ]
     },
     "metadata": {
      "needs_background": "light"
     },
     "output_type": "display_data"
    },
    {
     "data": {
      "image/png": "[encoded data removed]",
      "text/plain": [
       "<Figure size 720x3600 with 2 Axes>"
      ]
     },
     "metadata": {
      "needs_background": "light"
     },
     "output_type": "display_data"
    },
    {
     "data": {
      "image/png": "[encoded data removed]",
      "text/plain": [
       "<Figure size 720x3600 with 2 Axes>"
      ]
     },
     "metadata": {
      "needs_background": "light"
     },
     "output_type": "display_data"
    },
    {
     "data": {
      "image/png": "[encoded data removed]",
      "text/plain": [
       "<Figure size 720x3600 with 2 Axes>"
      ]
     },
     "metadata": {
      "needs_background": "light"
     },
     "output_type": "display_data"
    },
    {
     "data": {
      "image/png": "[encoded data removed]",
      "text/plain": [
       "<Figure size 720x3600 with 2 Axes>"
      ]
     },
     "metadata": {
      "needs_background": "light"
     },
     "output_type": "display_data"
    },
    {
     "data": {
      "image/png": "[encoded data removed]",
      "text/plain": [
       "<Figure size 720x3600 with 2 Axes>"
      ]
     },
     "metadata": {
      "needs_background": "light"
     },
     "output_type": "display_data"
    },
    {
     "data": {
      "image/png": "[encoded data removed]",
      "text/plain": [
       "<Figure size 720x3600 with 2 Axes>"
      ]
     },
     "metadata": {
      "needs_background": "light"
     },
     "output_type": "display_data"
    },
    {
     "data": {
      "image/png": "[encoded data removed]",
      "text/plain": [
       "<Figure size 720x3600 with 2 Axes>"
      ]
     },
     "metadata": {
      "needs_background": "light"
     },
     "output_type": "display_data"
    },
    {
     "data": {
      "image/png": "[encoded data removed]",
      "text/plain": [
       "<Figure size 720x3600 with 2 Axes>"
      ]
     },
     "metadata": {
      "needs_background": "light"
     },
     "output_type": "display_data"
    },
    {
     "data": {
      "image/png": "[encoded data removed]",
      "text/plain": [
       "<Figure size 720x3600 with 2 Axes>"
      ]
     },
     "metadata": {
      "needs_background": "light"
     },
     "output_type": "display_data"
    },
    {
     "data": {
      "image/png": "[encoded data removed]",
      "text/plain": [
       "<Figure size 720x3600 with 2 Axes>"
      ]
     },
     "metadata": {
      "needs_background": "light"
     },
     "output_type": "display_data"
    },
    {
     "data": {
      "image/png": "[encoded data removed]",
      "text/plain": [
       "<Figure size 720x3600 with 2 Axes>"
      ]
     },
     "metadata": {
      "needs_background": "light"
     },
     "output_type": "display_data"
    }
   ],
   "source": [
    "#num_var\n",
    "count=1\n",
    "for i in range(len(num_var)):\n",
    "    fig = plt.figure(figsize=(10,50))\n",
    "    \n",
    "    plt.subplot(len(num_var),2,count)\n",
    "    plt.violinplot(train[num_var[i]],showmeans=True)\n",
    "    plt.title(\"train \"+num_var[i])\n",
    "    \n",
    "    plt.subplot(len(num_var),2,count+1)\n",
    "    plt.violinplot(test[num_var[i]],showmeans=True)\n",
    "    plt.title(\"test \"+num_var[i])\n",
    "    count+=2"
   ]
  },
  {
   "cell_type": "markdown",
   "metadata": {},
   "source": [
    "### 2.4 Check Correlation"
   ]
  },
  {
   "cell_type": "code",
   "execution_count": 19,
   "metadata": {},
   "outputs": [
    {
     "data": {
      "text/html": [
       "<div>\n",
       "<style scoped>\n",
       "    .dataframe tbody tr th:only-of-type {\n",
       "        vertical-align: middle;\n",
       "    }\n",
       "\n",
       "    .dataframe tbody tr th {\n",
       "        vertical-align: top;\n",
       "    }\n",
       "\n",
       "    .dataframe thead th {\n",
       "        text-align: right;\n",
       "    }\n",
       "</style>\n",
       "<table border=\"1\" class=\"dataframe\">\n",
       "  <thead>\n",
       "    <tr style=\"text-align: right;\">\n",
       "      <th></th>\n",
       "      <th>X14</th>\n",
       "      <th>X12</th>\n",
       "      <th>X22</th>\n",
       "      <th>X18</th>\n",
       "      <th>X19</th>\n",
       "      <th>X17</th>\n",
       "      <th>X21</th>\n",
       "      <th>X23</th>\n",
       "      <th>X20</th>\n",
       "      <th>X13</th>\n",
       "      <th>X16</th>\n",
       "      <th>X15</th>\n",
       "      <th>X1</th>\n",
       "    </tr>\n",
       "  </thead>\n",
       "  <tbody>\n",
       "    <tr>\n",
       "      <th>X14</th>\n",
       "      <td>1.000000</td>\n",
       "      <td>0.891848</td>\n",
       "      <td>0.183451</td>\n",
       "      <td>0.254755</td>\n",
       "      <td>0.339935</td>\n",
       "      <td>0.851158</td>\n",
       "      <td>0.147199</td>\n",
       "      <td>0.185457</td>\n",
       "      <td>0.130879</td>\n",
       "      <td>0.926157</td>\n",
       "      <td>0.880541</td>\n",
       "      <td>0.921408</td>\n",
       "      <td>0.286339</td>\n",
       "    </tr>\n",
       "    <tr>\n",
       "      <th>X12</th>\n",
       "      <td>0.891848</td>\n",
       "      <td>1.000000</td>\n",
       "      <td>0.157716</td>\n",
       "      <td>0.149507</td>\n",
       "      <td>0.100359</td>\n",
       "      <td>0.799414</td>\n",
       "      <td>0.162488</td>\n",
       "      <td>0.184665</td>\n",
       "      <td>0.150908</td>\n",
       "      <td>0.953280</td>\n",
       "      <td>0.828177</td>\n",
       "      <td>0.859735</td>\n",
       "      <td>0.287309</td>\n",
       "    </tr>\n",
       "    <tr>\n",
       "      <th>X22</th>\n",
       "      <td>0.183451</td>\n",
       "      <td>0.157716</td>\n",
       "      <td>1.000000</td>\n",
       "      <td>0.160538</td>\n",
       "      <td>0.201817</td>\n",
       "      <td>0.305616</td>\n",
       "      <td>0.164027</td>\n",
       "      <td>0.150542</td>\n",
       "      <td>0.176050</td>\n",
       "      <td>0.153842</td>\n",
       "      <td>0.141638</td>\n",
       "      <td>0.161757</td>\n",
       "      <td>0.217500</td>\n",
       "    </tr>\n",
       "    <tr>\n",
       "      <th>X18</th>\n",
       "      <td>0.254755</td>\n",
       "      <td>0.149507</td>\n",
       "      <td>0.160538</td>\n",
       "      <td>1.000000</td>\n",
       "      <td>0.213567</td>\n",
       "      <td>0.200899</td>\n",
       "      <td>0.140462</td>\n",
       "      <td>0.170909</td>\n",
       "      <td>0.195380</td>\n",
       "      <td>0.288755</td>\n",
       "      <td>0.219541</td>\n",
       "      <td>0.239665</td>\n",
       "      <td>0.206108</td>\n",
       "    </tr>\n",
       "    <tr>\n",
       "      <th>X19</th>\n",
       "      <td>0.339935</td>\n",
       "      <td>0.100359</td>\n",
       "      <td>0.201817</td>\n",
       "      <td>0.213567</td>\n",
       "      <td>1.000000</td>\n",
       "      <td>0.172637</td>\n",
       "      <td>0.114812</td>\n",
       "      <td>0.148240</td>\n",
       "      <td>0.173175</td>\n",
       "      <td>0.101627</td>\n",
       "      <td>0.180056</td>\n",
       "      <td>0.209593</td>\n",
       "      <td>0.183218</td>\n",
       "    </tr>\n",
       "    <tr>\n",
       "      <th>X17</th>\n",
       "      <td>0.851158</td>\n",
       "      <td>0.799414</td>\n",
       "      <td>0.305616</td>\n",
       "      <td>0.200899</td>\n",
       "      <td>0.172637</td>\n",
       "      <td>1.000000</td>\n",
       "      <td>0.256859</td>\n",
       "      <td>0.115301</td>\n",
       "      <td>0.225067</td>\n",
       "      <td>0.828596</td>\n",
       "      <td>0.945379</td>\n",
       "      <td>0.897777</td>\n",
       "      <td>0.290695</td>\n",
       "    </tr>\n",
       "    <tr>\n",
       "      <th>X21</th>\n",
       "      <td>0.147199</td>\n",
       "      <td>0.162488</td>\n",
       "      <td>0.164027</td>\n",
       "      <td>0.140462</td>\n",
       "      <td>0.114812</td>\n",
       "      <td>0.256859</td>\n",
       "      <td>1.000000</td>\n",
       "      <td>0.151458</td>\n",
       "      <td>0.160803</td>\n",
       "      <td>0.149683</td>\n",
       "      <td>0.296810</td>\n",
       "      <td>0.126881</td>\n",
       "      <td>0.207212</td>\n",
       "    </tr>\n",
       "    <tr>\n",
       "      <th>X23</th>\n",
       "      <td>0.185457</td>\n",
       "      <td>0.184665</td>\n",
       "      <td>0.150542</td>\n",
       "      <td>0.170909</td>\n",
       "      <td>0.148240</td>\n",
       "      <td>0.115301</td>\n",
       "      <td>0.151458</td>\n",
       "      <td>1.000000</td>\n",
       "      <td>0.160582</td>\n",
       "      <td>0.175980</td>\n",
       "      <td>0.168347</td>\n",
       "      <td>0.182119</td>\n",
       "      <td>0.221568</td>\n",
       "    </tr>\n",
       "    <tr>\n",
       "      <th>X20</th>\n",
       "      <td>0.130879</td>\n",
       "      <td>0.150908</td>\n",
       "      <td>0.176050</td>\n",
       "      <td>0.195380</td>\n",
       "      <td>0.173175</td>\n",
       "      <td>0.225067</td>\n",
       "      <td>0.160803</td>\n",
       "      <td>0.160582</td>\n",
       "      <td>1.000000</td>\n",
       "      <td>0.139564</td>\n",
       "      <td>0.244280</td>\n",
       "      <td>0.304090</td>\n",
       "      <td>0.216725</td>\n",
       "    </tr>\n",
       "    <tr>\n",
       "      <th>X13</th>\n",
       "      <td>0.926157</td>\n",
       "      <td>0.953280</td>\n",
       "      <td>0.153842</td>\n",
       "      <td>0.288755</td>\n",
       "      <td>0.101627</td>\n",
       "      <td>0.828596</td>\n",
       "      <td>0.149683</td>\n",
       "      <td>0.175980</td>\n",
       "      <td>0.139564</td>\n",
       "      <td>1.000000</td>\n",
       "      <td>0.856223</td>\n",
       "      <td>0.889813</td>\n",
       "      <td>0.280592</td>\n",
       "    </tr>\n",
       "    <tr>\n",
       "      <th>X16</th>\n",
       "      <td>0.880541</td>\n",
       "      <td>0.828177</td>\n",
       "      <td>0.141638</td>\n",
       "      <td>0.219541</td>\n",
       "      <td>0.180056</td>\n",
       "      <td>0.945379</td>\n",
       "      <td>0.296810</td>\n",
       "      <td>0.168347</td>\n",
       "      <td>0.244280</td>\n",
       "      <td>0.856223</td>\n",
       "      <td>1.000000</td>\n",
       "      <td>0.936712</td>\n",
       "      <td>0.297241</td>\n",
       "    </tr>\n",
       "    <tr>\n",
       "      <th>X15</th>\n",
       "      <td>0.921408</td>\n",
       "      <td>0.859735</td>\n",
       "      <td>0.161757</td>\n",
       "      <td>0.239665</td>\n",
       "      <td>0.209593</td>\n",
       "      <td>0.897777</td>\n",
       "      <td>0.126881</td>\n",
       "      <td>0.182119</td>\n",
       "      <td>0.304090</td>\n",
       "      <td>0.889813</td>\n",
       "      <td>0.936712</td>\n",
       "      <td>1.000000</td>\n",
       "      <td>0.296105</td>\n",
       "    </tr>\n",
       "    <tr>\n",
       "      <th>X1</th>\n",
       "      <td>0.286339</td>\n",
       "      <td>0.287309</td>\n",
       "      <td>0.217500</td>\n",
       "      <td>0.206108</td>\n",
       "      <td>0.183218</td>\n",
       "      <td>0.290695</td>\n",
       "      <td>0.207212</td>\n",
       "      <td>0.221568</td>\n",
       "      <td>0.216725</td>\n",
       "      <td>0.280592</td>\n",
       "      <td>0.297241</td>\n",
       "      <td>0.296105</td>\n",
       "      <td>1.000000</td>\n",
       "    </tr>\n",
       "  </tbody>\n",
       "</table>\n",
       "</div>"
      ],
      "text/plain": [
       "          X14       X12       X22       X18       X19       X17       X21  \\\n",
       "X14  1.000000  0.891848  0.183451  0.254755  0.339935  0.851158  0.147199   \n",
       "X12  0.891848  1.000000  0.157716  0.149507  0.100359  0.799414  0.162488   \n",
       "X22  0.183451  0.157716  1.000000  0.160538  0.201817  0.305616  0.164027   \n",
       "X18  0.254755  0.149507  0.160538  1.000000  0.213567  0.200899  0.140462   \n",
       "X19  0.339935  0.100359  0.201817  0.213567  1.000000  0.172637  0.114812   \n",
       "X17  0.851158  0.799414  0.305616  0.200899  0.172637  1.000000  0.256859   \n",
       "X21  0.147199  0.162488  0.164027  0.140462  0.114812  0.256859  1.000000   \n",
       "X23  0.185457  0.184665  0.150542  0.170909  0.148240  0.115301  0.151458   \n",
       "X20  0.130879  0.150908  0.176050  0.195380  0.173175  0.225067  0.160803   \n",
       "X13  0.926157  0.953280  0.153842  0.288755  0.101627  0.828596  0.149683   \n",
       "X16  0.880541  0.828177  0.141638  0.219541  0.180056  0.945379  0.296810   \n",
       "X15  0.921408  0.859735  0.161757  0.239665  0.209593  0.897777  0.126881   \n",
       "X1   0.286339  0.287309  0.217500  0.206108  0.183218  0.290695  0.207212   \n",
       "\n",
       "          X23       X20       X13       X16       X15        X1  \n",
       "X14  0.185457  0.130879  0.926157  0.880541  0.921408  0.286339  \n",
       "X12  0.184665  0.150908  0.953280  0.828177  0.859735  0.287309  \n",
       "X22  0.150542  0.176050  0.153842  0.141638  0.161757  0.217500  \n",
       "X18  0.170909  0.195380  0.288755  0.219541  0.239665  0.206108  \n",
       "X19  0.148240  0.173175  0.101627  0.180056  0.209593  0.183218  \n",
       "X17  0.115301  0.225067  0.828596  0.945379  0.897777  0.290695  \n",
       "X21  0.151458  0.160803  0.149683  0.296810  0.126881  0.207212  \n",
       "X23  1.000000  0.160582  0.175980  0.168347  0.182119  0.221568  \n",
       "X20  0.160582  1.000000  0.139564  0.244280  0.304090  0.216725  \n",
       "X13  0.175980  0.139564  1.000000  0.856223  0.889813  0.280592  \n",
       "X16  0.168347  0.244280  0.856223  1.000000  0.936712  0.297241  \n",
       "X15  0.182119  0.304090  0.889813  0.936712  1.000000  0.296105  \n",
       "X1   0.221568  0.216725  0.280592  0.297241  0.296105  1.000000  "
      ]
     },
     "execution_count": 19,
     "metadata": {},
     "output_type": "execute_result"
    }
   ],
   "source": [
    "train[num_var].corr()"
   ]
  },
  {
   "cell_type": "code",
   "execution_count": 20,
   "metadata": {},
   "outputs": [
    {
     "data": {
      "text/plain": [
       "<matplotlib.axes._subplots.AxesSubplot at 0x7fecbce69340>"
      ]
     },
     "execution_count": 20,
     "metadata": {},
     "output_type": "execute_result"
    },
    {
     "data": {
      "image/png": "[encoded data removed]",
      "text/plain": [
       "<Figure size 576x432 with 2 Axes>"
      ]
     },
     "metadata": {
      "needs_background": "light"
     },
     "output_type": "display_data"
    }
   ],
   "source": [
    "plt.figure(figsize=(8,6))\n",
    "sns.heatmap(train[num_var].corr())"
   ]
  },
  {
   "cell_type": "code",
   "execution_count": 21,
   "metadata": {},
   "outputs": [],
   "source": [
    "#如何处理unbalanced dataset, 很少delay."
   ]
  },
  {
   "cell_type": "markdown",
   "metadata": {},
   "source": [
    "### 3. Modeling"
   ]
  },
  {
   "cell_type": "markdown",
   "metadata": {},
   "source": [
    "### Build a baseline model"
   ]
  },
  {
   "cell_type": "code",
   "execution_count": 22,
   "metadata": {},
   "outputs": [],
   "source": [
    "from sklearn.model_selection import train_test_split\n",
    "Y = train['Y']\n",
    "X = train.drop(['Y', 'id'], axis= 1)\n",
    "x_train, x_test, y_train, y_test = train_test_split(X, Y, test_size=0.2, random_state=1234)"
   ]
  },
  {
   "cell_type": "code",
   "execution_count": 23,
   "metadata": {},
   "outputs": [
    {
     "name": "stdout",
     "output_type": "stream",
     "text": [
      "              precision    recall  f1-score   support\n",
      "\n",
      "           0       0.84      0.95      0.89      3923\n",
      "           1       0.64      0.33      0.44      1077\n",
      "\n",
      "    accuracy                           0.82      5000\n",
      "   macro avg       0.74      0.64      0.66      5000\n",
      "weighted avg       0.80      0.82      0.79      5000\n",
      "\n"
     ]
    }
   ],
   "source": [
    "from sklearn.ensemble import RandomForestClassifier\n",
    "from sklearn import metrics\n",
    "RF = RandomForestClassifier(class_weight = {0:1, 1:3})\n",
    "RF = RF.fit(x_train, y_train)\n",
    "y_pred = RF.predict(x_test)\n",
    "print (metrics.classification_report(y_test, y_pred))"
   ]
  },
  {
   "cell_type": "markdown",
   "metadata": {},
   "source": [
    "### Tuning parameter: Grid Searching"
   ]
  },
  {
   "cell_type": "code",
   "execution_count": 24,
   "metadata": {},
   "outputs": [],
   "source": [
    "from sklearn.model_selection import GridSearchCV\n",
    "from sklearn.model_selection import cross_val_score\n",
    "def search_model(x_train, y_train, est, param_grid, n_jobs, cv):\n",
    "    model = GridSearchCV(estimator  = est,\n",
    "                                     param_grid = param_grid,\n",
    "                                     scoring = 'f1_weighted',\n",
    "                                     verbose = 10,\n",
    "                                     n_jobs = n_jobs,\n",
    "                                     iid = True,\n",
    "                                     cv = cv)\n",
    "    model.fit(x_train, y_train)   \n",
    "    return model"
   ]
  },
  {
   "cell_type": "code",
   "execution_count": 25,
   "metadata": {},
   "outputs": [
    {
     "name": "stdout",
     "output_type": "stream",
     "text": [
      "Fitting 5 folds for each of 6 candidates, totalling 30 fits\n"
     ]
    },
    {
     "name": "stderr",
     "output_type": "stream",
     "text": [
      "[Parallel(n_jobs=-1)]: Using backend LokyBackend with 4 concurrent workers.\n",
      "[Parallel(n_jobs=-1)]: Done   5 tasks      | elapsed:   19.4s\n",
      "[Parallel(n_jobs=-1)]: Done  10 tasks      | elapsed:  1.2min\n",
      "[Parallel(n_jobs=-1)]: Done  17 tasks      | elapsed:  2.1min\n",
      "[Parallel(n_jobs=-1)]: Done  27 out of  30 | elapsed:  4.0min remaining:   27.0s\n",
      "[Parallel(n_jobs=-1)]: Done  30 out of  30 | elapsed:  4.7min finished\n",
      "/Users/xrli/opt/anaconda3/lib/python3.8/site-packages/sklearn/model_selection/_search.py:847: FutureWarning: The parameter 'iid' is deprecated in 0.22 and will be removed in 0.24.\n",
      "  warnings.warn(\n"
     ]
    }
   ],
   "source": [
    "param_grid = {'n_estimators':[100,300,500],\n",
    "             'criterion':['gini', 'entropy'],\n",
    "             'class_weight': [{0:1, 1:3}]}\n",
    "\n",
    "RF = search_model(X.values\n",
    "            , Y.values\n",
    "            , RandomForestClassifier()\n",
    "            , param_grid\n",
    "            , -1\n",
    "            , 5)"
   ]
  },
  {
   "cell_type": "code",
   "execution_count": 27,
   "metadata": {},
   "outputs": [
    {
     "name": "stdout",
     "output_type": "stream",
     "text": [
      "Best score: 0.795\n",
      "Best parameters set: {'class_weight': {0: 1, 1: 3}, 'criterion': 'entropy', 'n_estimators': 500}\n"
     ]
    }
   ],
   "source": [
    "print(\"Best score: %0.3f\" % RF.best_score_)\n",
    "print(\"Best parameters set:\", RF.best_params_)"
   ]
  },
  {
   "cell_type": "markdown",
   "metadata": {},
   "source": [
    "### Model Ensemble"
   ]
  },
  {
   "cell_type": "code",
   "execution_count": 28,
   "metadata": {},
   "outputs": [
    {
     "name": "stdout",
     "output_type": "stream",
     "text": [
      "Accuracy: 0.79 (+/- 0.00) [Random_Forest]\n",
      "Accuracy: 0.71 (+/- 0.00) [KNN]\n"
     ]
    },
    {
     "name": "stderr",
     "output_type": "stream",
     "text": [
      "/Users/xrli/opt/anaconda3/lib/python3.8/site-packages/sklearn/linear_model/_logistic.py:762: ConvergenceWarning: lbfgs failed to converge (status=1):\n",
      "STOP: TOTAL NO. of ITERATIONS REACHED LIMIT.\n",
      "\n",
      "Increase the number of iterations (max_iter) or scale the data as shown in:\n",
      "    https://scikit-learn.org/stable/modules/preprocessing.html\n",
      "Please also refer to the documentation for alternative solver options:\n",
      "    https://scikit-learn.org/stable/modules/linear_model.html#logistic-regression\n",
      "  n_iter_i = _check_optimize_result(\n",
      "/Users/xrli/opt/anaconda3/lib/python3.8/site-packages/sklearn/linear_model/_logistic.py:762: ConvergenceWarning: lbfgs failed to converge (status=1):\n",
      "STOP: TOTAL NO. of ITERATIONS REACHED LIMIT.\n",
      "\n",
      "Increase the number of iterations (max_iter) or scale the data as shown in:\n",
      "    https://scikit-learn.org/stable/modules/preprocessing.html\n",
      "Please also refer to the documentation for alternative solver options:\n",
      "    https://scikit-learn.org/stable/modules/linear_model.html#logistic-regression\n",
      "  n_iter_i = _check_optimize_result(\n",
      "/Users/xrli/opt/anaconda3/lib/python3.8/site-packages/sklearn/linear_model/_logistic.py:762: ConvergenceWarning: lbfgs failed to converge (status=1):\n",
      "STOP: TOTAL NO. of ITERATIONS REACHED LIMIT.\n",
      "\n",
      "Increase the number of iterations (max_iter) or scale the data as shown in:\n",
      "    https://scikit-learn.org/stable/modules/preprocessing.html\n",
      "Please also refer to the documentation for alternative solver options:\n",
      "    https://scikit-learn.org/stable/modules/linear_model.html#logistic-regression\n",
      "  n_iter_i = _check_optimize_result(\n"
     ]
    },
    {
     "name": "stdout",
     "output_type": "stream",
     "text": [
      "Accuracy: 0.70 (+/- 0.02) [Logistic]\n"
     ]
    },
    {
     "name": "stderr",
     "output_type": "stream",
     "text": [
      "/Users/xrli/opt/anaconda3/lib/python3.8/site-packages/sklearn/linear_model/_logistic.py:762: ConvergenceWarning: lbfgs failed to converge (status=1):\n",
      "STOP: TOTAL NO. of ITERATIONS REACHED LIMIT.\n",
      "\n",
      "Increase the number of iterations (max_iter) or scale the data as shown in:\n",
      "    https://scikit-learn.org/stable/modules/preprocessing.html\n",
      "Please also refer to the documentation for alternative solver options:\n",
      "    https://scikit-learn.org/stable/modules/linear_model.html#logistic-regression\n",
      "  n_iter_i = _check_optimize_result(\n",
      "/Users/xrli/opt/anaconda3/lib/python3.8/site-packages/sklearn/linear_model/_logistic.py:762: ConvergenceWarning: lbfgs failed to converge (status=1):\n",
      "STOP: TOTAL NO. of ITERATIONS REACHED LIMIT.\n",
      "\n",
      "Increase the number of iterations (max_iter) or scale the data as shown in:\n",
      "    https://scikit-learn.org/stable/modules/preprocessing.html\n",
      "Please also refer to the documentation for alternative solver options:\n",
      "    https://scikit-learn.org/stable/modules/linear_model.html#logistic-regression\n",
      "  n_iter_i = _check_optimize_result(\n",
      "/Users/xrli/opt/anaconda3/lib/python3.8/site-packages/sklearn/linear_model/_logistic.py:762: ConvergenceWarning: lbfgs failed to converge (status=1):\n",
      "STOP: TOTAL NO. of ITERATIONS REACHED LIMIT.\n",
      "\n",
      "Increase the number of iterations (max_iter) or scale the data as shown in:\n",
      "    https://scikit-learn.org/stable/modules/preprocessing.html\n",
      "Please also refer to the documentation for alternative solver options:\n",
      "    https://scikit-learn.org/stable/modules/linear_model.html#logistic-regression\n",
      "  n_iter_i = _check_optimize_result(\n"
     ]
    },
    {
     "name": "stdout",
     "output_type": "stream",
     "text": [
      "Accuracy: 0.76 (+/- 0.01) [Ensemble]\n"
     ]
    }
   ],
   "source": [
    "from sklearn.linear_model import LogisticRegression\n",
    "from sklearn.neighbors import KNeighborsClassifier\n",
    "from sklearn.ensemble import VotingClassifier\n",
    "\n",
    "clf1 = RandomForestClassifier(n_estimators = 300, criterion = 'entropy',class_weight = {0:1, 1:3})\n",
    "clf2 = KNeighborsClassifier(n_neighbors=3)\n",
    "clf3 = LogisticRegression (class_weight = {0:1, 1:3})\n",
    "# results from your gridsearch\n",
    "eclf = VotingClassifier(estimators=[('Random_Forest',clf1), ('KNN', clf2),('Logistic', clf3)], voting='hard')\n",
    "for clf, label in zip([clf1, clf2, clf3, eclf], ['Random_Forest', 'KNN','Logistic', 'Ensemble']):\n",
    "    scores = cross_val_score(clf, X, Y, cv=3, scoring='f1_weighted')\n",
    "    print (\"Accuracy: %0.2f (+/- %0.2f) [%s]\" % (scores.mean(), scores.std(), label))"
   ]
  },
  {
   "cell_type": "markdown",
   "metadata": {},
   "source": [
    "#### submission"
   ]
  },
  {
   "cell_type": "code",
   "execution_count": 29,
   "metadata": {},
   "outputs": [
    {
     "name": "stderr",
     "output_type": "stream",
     "text": [
      "/Users/xrli/opt/anaconda3/lib/python3.8/site-packages/sklearn/linear_model/_logistic.py:762: ConvergenceWarning: lbfgs failed to converge (status=1):\n",
      "STOP: TOTAL NO. of ITERATIONS REACHED LIMIT.\n",
      "\n",
      "Increase the number of iterations (max_iter) or scale the data as shown in:\n",
      "    https://scikit-learn.org/stable/modules/preprocessing.html\n",
      "Please also refer to the documentation for alternative solver options:\n",
      "    https://scikit-learn.org/stable/modules/linear_model.html#logistic-regression\n",
      "  n_iter_i = _check_optimize_result(\n"
     ]
    }
   ],
   "source": [
    "eclf.fit(X, Y)\n",
    "y = pd.DataFrame(eclf.predict(test.drop(['id'],axis=1)), columns=['y'])\n",
    "predict_data = pd.concat([y, test['id']], axis =1)\n",
    "predict_data.to_csv('Submmission.csv', index=False)"
   ]
  },
  {
   "cell_type": "code",
   "execution_count": null,
   "metadata": {},
   "outputs": [],
   "source": []
  }
 ],
 "metadata": {
  "anaconda-cloud": {},
  "kernel_info": {
   "name": "python3"
  },
  "kernelspec": {
   "display_name": "Python 3",
   "language": "python",
   "name": "python3"
  },
  "language_info": {
   "codemirror_mode": {
    "name": "ipython",
    "version": 3
   },
   "file_extension": ".py",
   "mimetype": "text/x-python",
   "name": "python",
   "nbconvert_exporter": "python",
   "pygments_lexer": "ipython3",
   "version": "3.8.3"
  },
  "nteract": {
   "version": "0.15.0"
  }
 },
 "nbformat": 4,
 "nbformat_minor": 1
}
