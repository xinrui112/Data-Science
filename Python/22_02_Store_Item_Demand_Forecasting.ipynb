{
 "cells": [
  {
   "cell_type": "markdown",
   "metadata": {},
   "source": [
    "# Project 8 - Store Item Demand Forecasting\n",
    "\n",
    "## Use ARIMA model to make prediction for a time series dataset"
   ]
  },
  {
   "cell_type": "code",
   "execution_count": 1,
   "metadata": {
    "_uuid": "793b79ced36d98d7e640cf714248bb2ebe1b91e7"
   },
   "outputs": [],
   "source": [
    "import warnings\n",
    "import pandas as pd\n",
    "import numpy as np\n",
    "import matplotlib.pylab as plt\n",
    "from matplotlib.pylab import rcParams\n",
    "rcParams['figure.figsize'] = 15, 6\n",
    "from statsmodels.tsa.stattools import adfuller\n",
    "from statsmodels.tsa.arima_model import ARIMA\n",
    "from sklearn.metrics import mean_squared_error"
   ]
  },
  {
   "cell_type": "markdown",
   "metadata": {},
   "source": [
    "## Evaluate ARIMA model"
   ]
  },
  {
   "cell_type": "code",
   "execution_count": 2,
   "metadata": {
    "_uuid": "ad6b98ec185fce0e644dbfc995d3fc1b6fb4415b"
   },
   "outputs": [],
   "source": [
    "def evaluate_arima_model(X, arima_order):\n",
    "    train_size = \n",
    "    train, test = \n",
    "    history = \n",
    "    \n",
    "    predictions = list()\n",
    "    for t in range(len(test)):\n",
    "        model = ARIMA(history, order=arima_order)\n",
    "        model_fit = \n",
    "        yhat = \n",
    "        predictions.append(yhat)\n",
    "        history.append(test[t])\n",
    "        # calculate out of sample error\n",
    "        error = mean_squared_error(test, predictions)\n",
    "    return error"
   ]
  },
  {
   "cell_type": "markdown",
   "metadata": {},
   "source": [
    "## Evaluate combinations of p, d, q values for an ARIMA model"
   ]
  },
  {
   "cell_type": "code",
   "execution_count": 3,
   "metadata": {
    "_uuid": "441d770cd05454a069ba0271ce08d608d37e03b3"
   },
   "outputs": [],
   "source": [
    "# evaluate combinations of p, d and q values for an ARIMA model\n",
    "def evaluate_models(dataset, p, d, q):\n",
    "    dataset = dataset.astype('float32')\n",
    "    best_score, best_cfg = float(\"inf\"), None\n",
    "    for p in p_values:\n",
    "        for d in d_values:\n",
    "            for q in q_values:\n",
    "                order = (p,d,q)\n",
    "                try:\n",
    "                    mse = evaluate_arima_model(dataset, order)\n",
    "                    if mse < best_score:\n",
    "                        best_score, best_cfg = mse, order\n",
    "                    print('ARIMA%s MSE=%.3f' % (order,mse))\n",
    "                except:\n",
    "                    continue\n",
    "    print('Best ARIMA%s MSE=%.3f' % (best_cfg, best_score))"
   ]
  },
  {
   "cell_type": "code",
   "execution_count": 4,
   "metadata": {
    "_uuid": "13540500a9f90b9d9eb7015a85fb1aa7a439e288"
   },
   "outputs": [],
   "source": [
    "data_train = pd.read_csv(\"./data/train.csv\", parse_dates = [\"date\"], index_col = \"date\")"
   ]
  },
  {
   "cell_type": "code",
   "execution_count": 6,
   "metadata": {
    "_uuid": "e27f166da93f5a12f19c3244ccda9828c2659fa0"
   },
   "outputs": [],
   "source": [
    "m = max(data_train[\"store\"])\n",
    "n = max(data_train[\"item\"])\n",
    "k = data_train.shape[0]\n",
    "p = int(k/(m*n))"
   ]
  },
  {
   "cell_type": "code",
   "execution_count": 7,
   "metadata": {
    "_uuid": "96f5b2518911dd874a60fe265f83071e2b023f6b"
   },
   "outputs": [],
   "source": [
    "#slice by different store and item\n",
    "ts_train = data_train.iloc[0:p, 2]"
   ]
  },
  {
   "cell_type": "code",
   "execution_count": 8,
   "metadata": {
    "_uuid": "6830ce21502d6db3e24863440ea92bd4232b53d9"
   },
   "outputs": [],
   "source": [
    "#Determing rolling statistics\n",
    "rolmean = \n",
    "rolstd = "
   ]
  },
  {
   "cell_type": "code",
   "execution_count": 1,
   "metadata": {
    "_uuid": "4c645cbb1550cc941b7c3599b208dd075b0b3cf9"
   },
   "outputs": [],
   "source": [
    "#Plot rolling statistics:\n",
    "orig = plt.plot(ts_train, color=\"blue\",label=\"Original\")\n",
    "mean = plt.plot(rolmean, color=\"red\", label=\"Rolling Mean\")\n",
    "std = plt.plot(rolstd, color=\"black\", label = \"Rolling Std\")\n",
    "plt.legend(loc=\"best\")\n",
    "plt.title(\"Rolling Mean & Standard Deviation\")\n",
    "plt.show(block=False)"
   ]
  },
  {
   "cell_type": "code",
   "execution_count": 2,
   "metadata": {
    "_uuid": "5fc311c89a5e50353ab4cb741de4ddf2579ece6c"
   },
   "outputs": [],
   "source": [
    "#Perform Dickey-Fuller test:\n",
    "print (\"Results of Dickey-Fuller Test:\")\n",
    "dftest = \n",
    "dfoutput = \n",
    "for key,value in dftest[4].items():\n",
    "    dfoutput[\"Critical Value (%s)\"%key] = value\n",
    "print (dfoutput)"
   ]
  },
  {
   "cell_type": "code",
   "execution_count": 3,
   "metadata": {
    "_uuid": "49f71586683a307a9bc441325ff557dec604ca15"
   },
   "outputs": [],
   "source": [
    "warnings.filterwarnings(\"ignore\")\n",
    "evaluate_models(ts_train, [0,1,2], [0,1,2], [0,1,2])"
   ]
  },
  {
   "cell_type": "code",
   "execution_count": null,
   "metadata": {
    "_uuid": "1624313c0cb1653bc318e8ab33de094515e149f5",
    "collapsed": true
   },
   "outputs": [],
   "source": []
  }
 ],
 "metadata": {
  "kernelspec": {
   "display_name": "Python 3",
   "language": "python",
   "name": "python3"
  },
  "language_info": {
   "codemirror_mode": {
    "name": "ipython",
    "version": 3
   },
   "file_extension": ".py",
   "mimetype": "text/x-python",
   "name": "python",
   "nbconvert_exporter": "python",
   "pygments_lexer": "ipython3",
   "version": "3.8.3"
  }
 },
 "nbformat": 4,
 "nbformat_minor": 1
}
