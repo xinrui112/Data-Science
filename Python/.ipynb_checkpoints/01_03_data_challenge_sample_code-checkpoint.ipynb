{
 "cells": [
  {
   "cell_type": "markdown",
   "metadata": {},
   "source": [
    "![fds](https://www.dataapplab.com/wp-content/uploads/2016/10/DAL_Logo-1.png)"
   ]
  },
  {
   "cell_type": "markdown",
   "metadata": {},
   "source": [
    "## <center>  Part1. Data Preparation <center>"
   ]
  },
  {
   "cell_type": "markdown",
   "metadata": {},
   "source": [
    "### 1.1 Library \n",
    "* numpy\n",
    "* pandas\n",
    "* seaborn\n",
    "* matplotlib\n",
    "* shapely\n",
    "* geopandas\n",
    "* descartes\n",
    "* bokeh"
   ]
  },
  {
   "cell_type": "code",
   "execution_count": 1,
   "metadata": {},
   "outputs": [],
   "source": [
    "# libary#\n",
    "import warnings\n",
    "warnings.filterwarnings(\"ignore\")\n",
    "import pandas as pd\n",
    "import numpy as np\n",
    "import matplotlib.pyplot as plt \n",
    "import seaborn as sns; sns.set()\n",
    "import geopandas as gpd\n",
    "import shapely\n",
    "from descartes import PolygonPatch\n",
    "from numpy import median\n",
    "import dataqualitycheck as dc \n",
    "from bokeh.io import output_notebook, show,output_file\n",
    "from bokeh.plotting import figure\n",
    "from bokeh.layouts import row, column\n",
    "from bokeh.models import ColumnDataSource, HoverTool, FactorRange\n",
    "from bokeh.transform import factor_cmap\n",
    "from bokeh import palettes"
   ]
  },
  {
   "cell_type": "markdown",
   "metadata": {},
   "source": [
    "### 1.2 Read  and Summarize Dataset  "
   ]
  },
  {
   "cell_type": "markdown",
   "metadata": {},
   "source": [
    "There are 2 data sources from which data is provided\n",
    "\n",
    "* Zillow data- Costs of two-bedroom properties by zipcode over years.\n",
    "\n",
    "* Airbnb data- Airbnb Information about property listing in NYC including reviews, price, etc.\n"
   ]
  },
  {
   "cell_type": "code",
   "execution_count": 2,
   "metadata": {},
   "outputs": [],
   "source": [
    "# read zillow dataset\n",
    "zip_2bed = pd.read_csv('xx.csv')\n",
    "# read airbnb dataset \n",
    "ab_list = pd.read_csv('yy.csv.gz')"
   ]
  },
  {
   "cell_type": "code",
   "execution_count": 4,
   "metadata": {},
   "outputs": [
    {
     "name": "stdout",
     "output_type": "stream",
     "text": [
      "(8946, 262)\n"
     ]
    }
   ],
   "source": [
    "#summary of zillow dataset\n",
    "print(zip_2bed.shape)\n",
    "#zip_2bed.head(4)\n",
    "#zip_3bed.describe()"
   ]
  },
  {
   "cell_type": "code",
   "execution_count": 5,
   "metadata": {},
   "outputs": [
    {
     "name": "stdout",
     "output_type": "stream",
     "text": [
      "(40753, 95)\n"
     ]
    }
   ],
   "source": [
    "#summary of airbnb dataset\n",
    "print(ab_list.shape)\n",
    "#ab_list.head(4)\n",
    "#ab_list.describe()"
   ]
  },
  {
   "cell_type": "markdown",
   "metadata": {},
   "source": [
    "### 1.3 Data Selection "
   ]
  },
  {
   "cell_type": "markdown",
   "metadata": {},
   "source": [
    "Based on metric(Annual Rental Return) that I want to analyze, First choose the following attributes from zillow dataset: \n",
    "* RegionID\n",
    "* RegionName\n",
    "* City\n",
    "* 1996-04 to 2017-06\n",
    "\n",
    "Choose the following attributes from airbnb dataset:\n",
    "* id\n",
    "* neighbourhood_cleansed\n",
    "* neighbourhood_group_cleansed\n",
    "\n"
   ]
  },
  {
   "cell_type": "code",
   "execution_count": 8,
   "metadata": {},
   "outputs": [],
   "source": [
    "# filter required attributes \n",
    "zip_2b_new = zip_2bed.drop(columns=['State', 'Metro', 'CountyName','SizeRank'])\n",
    "requ_col = ['id','neighbourhood_cleansed',\n",
    "              'neighbourhood_group_cleansed']\n",
    "ab_list_new = ab_list[requ_col]"
   ]
  },
  {
   "cell_type": "markdown",
   "metadata": {},
   "source": [
    "### 1.4 Data Quality Check "
   ]
  },
  {
   "cell_type": "markdown",
   "metadata": {},
   "source": [
    "Checking data quality includes these steps:\n",
    "* Completeness (missing values)\n",
    "* Uniqueness (duplicated/unique values)\n",
    "* Validity (types of data)\n",
    "* Timeliness (continuous dates)\n",
    "* Skewness (Numeric Distribution Skewness)\n",
    "\n",
    "Below are examples how each function is used, more details can go to dataqualitycheck.py :"
   ]
  },
  {
   "cell_type": "markdown",
   "metadata": {},
   "source": [
    "### Try to create data quality check code using class and then import script here; it looks very clean"
   ]
  },
  {
   "cell_type": "code",
   "execution_count": 19,
   "metadata": {},
   "outputs": [
    {
     "name": "stdout",
     "output_type": "stream",
     "text": [
      "There are 0.00% missing values in this column.\n"
     ]
    }
   ],
   "source": [
    "dc.qualitycheck.checkmissing(zip_2b_new, 'RegionID')"
   ]
  },
  {
   "cell_type": "code",
   "execution_count": 40,
   "metadata": {},
   "outputs": [
    {
     "name": "stdout",
     "output_type": "stream",
     "text": [
      "There are 52.36% unique values in this column.\n"
     ]
    }
   ],
   "source": [
    "dc.qualitycheck.checkunique(zip_2b_new, 'City')"
   ]
  },
  {
   "cell_type": "code",
   "execution_count": 41,
   "metadata": {},
   "outputs": [
    {
     "name": "stdout",
     "output_type": "stream",
     "text": [
      "There might need to clean data in order to get a/an int type column.\n"
     ]
    }
   ],
   "source": [
    "dc.qualitycheck.checktypes(ab_list_new, 'price','int')"
   ]
  },
  {
   "cell_type": "code",
   "execution_count": 49,
   "metadata": {},
   "outputs": [
    {
     "name": "stdout",
     "output_type": "stream",
     "text": [
      "It is not date type column; or there  might have issues with date format, need to convert to \"%Y-%m-%d\" format before this function.\n"
     ]
    }
   ],
   "source": [
    "dc.qualitycheck.checkcontinuous(ab_list_new, 'review_scores_location')"
   ]
  },
  {
   "cell_type": "code",
   "execution_count": 50,
   "metadata": {},
   "outputs": [
    {
     "data": {
      "image/png": "[encoded data removed]",
      "text/plain": [
       "<Figure size 432x288 with 1 Axes>"
      ]
     },
     "metadata": {
      "needs_background": "light"
     },
     "output_type": "display_data"
    }
   ],
   "source": [
    "dc.qualitycheck.checkskewness(ab_list_new,'bedrooms')"
   ]
  },
  {
   "cell_type": "markdown",
   "metadata": {},
   "source": [
    "### 1.5 Data  Cleaning "
   ]
  },
  {
   "cell_type": "code",
   "execution_count": null,
   "metadata": {},
   "outputs": [],
   "source": []
  },
  {
   "cell_type": "code",
   "execution_count": null,
   "metadata": {},
   "outputs": [],
   "source": []
  }
 ],
 "metadata": {
  "kernelspec": {
   "display_name": "Python 3",
   "language": "python",
   "name": "python3"
  },
  "language_info": {
   "codemirror_mode": {
    "name": "ipython",
    "version": 3
   },
   "file_extension": ".py",
   "mimetype": "text/x-python",
   "name": "python",
   "nbconvert_exporter": "python",
   "pygments_lexer": "ipython3",
   "version": "3.8.8"
  }
 },
 "nbformat": 4,
 "nbformat_minor": 2
}
